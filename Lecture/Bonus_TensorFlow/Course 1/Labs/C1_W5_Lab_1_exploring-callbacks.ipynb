{
 "cells": [
  {
   "cell_type": "markdown",
   "metadata": {
    "colab_type": "text",
    "id": "view-in-github"
   },
   "source": [
    "<a href=\"https://colab.research.google.com/github/https-deeplearning-ai/tensorflow-3-public/blob/main/Course%201%20-%20Custom%20Models%2C%20Layers%20and%20Loss%20Functions/Week%205%20-%20Callbacks/C1_W5_Lab_1_exploring-callbacks.ipynb\" target=\"_parent\"><img src=\"https://colab.research.google.com/assets/colab-badge.svg\" alt=\"Open In Colab\"/></a>"
   ]
  },
  {
   "cell_type": "markdown",
   "metadata": {
    "colab_type": "text",
    "id": "0c_TYhQOUe1j"
   },
   "source": [
    "# Ungraded Lab: Introduction to Keras callbacks\n",
    "\n",
    "In Keras, `Callback` is a Python class meant to be subclassed to provide specific functionality, with a set of methods called at various stages of training (including batch/epoch start and ends), testing, and predicting. Callbacks are useful to get a view on internal states and statistics of the model during training. The methods of the callbacks can  be called at different stages of training/evaluating/inference. Keras has available [callbacks](https://keras.io/api/callbacks/) and we'll show how you can use it in the following sections. Please click the **Open in Colab** badge above to complete this exercise in Colab. This will allow you to take advantage of the free GPU runtime (for faster training) and compatibility with all the packages needed in this notebook."
   ]
  },
  {
   "cell_type": "markdown",
   "metadata": {
    "colab_type": "text",
    "id": "Uyl69EyRQx-f"
   },
   "source": [
    "## Model methods that take callbacks\n",
    "Users can supply a list of callbacks to the following `tf.keras.Model` methods:\n",
    "* [`fit()`](https://www.tensorflow.org/versions/r2.0/api_docs/python/tf/keras/Model#fit), [`fit_generator()`](https://www.tensorflow.org/versions/r2.0/api_docs/python/tf/keras/Model#fit_generator)\n",
    "Trains the model for a fixed number of epochs (iterations over a dataset, or data yielded batch-by-batch by a Python generator).\n",
    "* [`evaluate()`](https://www.tensorflow.org/versions/r2.0/api_docs/python/tf/keras/Model#evaluate), [`evaluate_generator()`](https://www.tensorflow.org/versions/r2.0/api_docs/python/tf/keras/Model#evaluate_generator)\n",
    "Evaluates the model for given data or data generator. Outputs the loss and metric values from the evaluation.\n",
    "* [`predict()`](https://www.tensorflow.org/versions/r2.0/api_docs/python/tf/keras/Model#predict), [`predict_generator()`](https://www.tensorflow.org/versions/r2.0/api_docs/python/tf/keras/Model#predict_generator)\n",
    "Generates output predictions for the input data or data generator."
   ]
  },
  {
   "cell_type": "markdown",
   "metadata": {},
   "source": [
    "## Imports"
   ]
  },
  {
   "cell_type": "code",
   "execution_count": 1,
   "metadata": {
    "colab": {},
    "colab_type": "code",
    "id": "AlT1Kh3uA9lZ"
   },
   "outputs": [
    {
     "name": "stdout",
     "output_type": "stream",
     "text": [
      "Version:  2.3.0\n"
     ]
    }
   ],
   "source": [
    "from __future__ import absolute_import, division, print_function, unicode_literals\n",
    "\n",
    "import tensorflow as tf\n",
    "import tensorflow_datasets as tfds\n",
    "import matplotlib.pyplot as plt\n",
    "import io\n",
    "from PIL import Image\n",
    "\n",
    "from tensorflow.keras.callbacks import TensorBoard, EarlyStopping, LearningRateScheduler, ModelCheckpoint, CSVLogger, ReduceLROnPlateau\n",
    "%load_ext tensorboard\n",
    "\n",
    "import os\n",
    "import matplotlib.pylab as plt\n",
    "import numpy as np\n",
    "import math\n",
    "import datetime\n",
    "import pandas as pd\n",
    "\n",
    "print(\"Version: \", tf.__version__)\n",
    "tf.get_logger().setLevel('INFO')"
   ]
  },
  {
   "cell_type": "markdown",
   "metadata": {
    "colab_type": "text",
    "id": "HnSljqtsXKfb"
   },
   "source": [
    "# Examples of Keras callback applications\n",
    "The following section will guide you through creating simple [Callback](https://keras.io/api/callbacks/) applications."
   ]
  },
  {
   "cell_type": "code",
   "execution_count": 2,
   "metadata": {
    "colab": {},
    "colab_type": "code",
    "id": "spskRuxvCYQE"
   },
   "outputs": [
    {
     "name": "stdout",
     "output_type": "stream",
     "text": [
      "\u001b[1mDownloading and preparing dataset horses_or_humans/3.0.0 (download: 153.59 MiB, generated: Unknown size, total: 153.59 MiB) to /Users/giacomomiolo/tensorflow_datasets/horses_or_humans/3.0.0...\u001b[0m\n"
     ]
    },
    {
     "data": {
      "application/vnd.jupyter.widget-view+json": {
       "model_id": "c7a83b83cc1b47abb1b91314e7c54cb2",
       "version_major": 2,
       "version_minor": 0
      },
      "text/plain": [
       "HBox(children=(HTML(value='Dl Completed...'), FloatProgress(value=1.0, bar_style='info', layout=Layout(width='…"
      ]
     },
     "metadata": {},
     "output_type": "display_data"
    },
    {
     "data": {
      "application/vnd.jupyter.widget-view+json": {
       "model_id": "3f9ca93d9fc248c287fbd233dc7356c2",
       "version_major": 2,
       "version_minor": 0
      },
      "text/plain": [
       "HBox(children=(HTML(value='Dl Size...'), FloatProgress(value=1.0, bar_style='info', layout=Layout(width='20px'…"
      ]
     },
     "metadata": {},
     "output_type": "display_data"
    },
    {
     "name": "stdout",
     "output_type": "stream",
     "text": [
      "\n",
      "\n",
      "\n",
      "\n"
     ]
    },
    {
     "data": {
      "application/vnd.jupyter.widget-view+json": {
       "model_id": "",
       "version_major": 2,
       "version_minor": 0
      },
      "text/plain": [
       "HBox(children=(HTML(value=''), FloatProgress(value=0.0, max=2.0), HTML(value='')))"
      ]
     },
     "metadata": {},
     "output_type": "display_data"
    },
    {
     "data": {
      "application/vnd.jupyter.widget-view+json": {
       "model_id": "",
       "version_major": 2,
       "version_minor": 0
      },
      "text/plain": [
       "HBox(children=(HTML(value=''), FloatProgress(value=0.0, max=1027.0), HTML(value='')))"
      ]
     },
     "metadata": {},
     "output_type": "display_data"
    },
    {
     "name": "stdout",
     "output_type": "stream",
     "text": [
      "Shuffling and writing examples to /Users/giacomomiolo/tensorflow_datasets/horses_or_humans/3.0.0.incompleteDB68RE/horses_or_humans-train.tfrecord\n"
     ]
    },
    {
     "data": {
      "application/vnd.jupyter.widget-view+json": {
       "model_id": "cf820c5c96484829a0b40c33b140b306",
       "version_major": 2,
       "version_minor": 0
      },
      "text/plain": [
       "HBox(children=(HTML(value=''), FloatProgress(value=0.0, max=1027.0), HTML(value='')))"
      ]
     },
     "metadata": {},
     "output_type": "display_data"
    },
    {
     "data": {
      "application/vnd.jupyter.widget-view+json": {
       "model_id": "",
       "version_major": 2,
       "version_minor": 0
      },
      "text/plain": [
       "HBox(children=(HTML(value=''), FloatProgress(value=0.0, max=256.0), HTML(value='')))"
      ]
     },
     "metadata": {},
     "output_type": "display_data"
    },
    {
     "name": "stdout",
     "output_type": "stream",
     "text": [
      "Shuffling and writing examples to /Users/giacomomiolo/tensorflow_datasets/horses_or_humans/3.0.0.incompleteDB68RE/horses_or_humans-test.tfrecord\n"
     ]
    },
    {
     "data": {
      "application/vnd.jupyter.widget-view+json": {
       "model_id": "c9a9c688b9ca4d58bfa230923e9ddd0d",
       "version_major": 2,
       "version_minor": 0
      },
      "text/plain": [
       "HBox(children=(HTML(value=''), FloatProgress(value=0.0, max=256.0), HTML(value='')))"
      ]
     },
     "metadata": {},
     "output_type": "display_data"
    },
    {
     "name": "stdout",
     "output_type": "stream",
     "text": [
      "\u001b[1mDataset horses_or_humans downloaded and prepared to /Users/giacomomiolo/tensorflow_datasets/horses_or_humans/3.0.0. Subsequent calls will reuse this data.\u001b[0m\n"
     ]
    }
   ],
   "source": [
    "# Download and prepare the horses or humans dataset\n",
    "\n",
    "splits, info = tfds.load('horses_or_humans', as_supervised=True, with_info=True, split=['train[:80%]', 'train[80%:]', 'test'])\n",
    "\n",
    "(train_examples, validation_examples, test_examples) = splits\n",
    "\n",
    "num_examples = info.splits['train'].num_examples\n",
    "num_classes = info.features['label'].num_classes"
   ]
  },
  {
   "cell_type": "code",
   "execution_count": 3,
   "metadata": {
    "colab": {},
    "colab_type": "code",
    "id": "veIsubKTCZsN"
   },
   "outputs": [],
   "source": [
    "SIZE = 150 #@param {type:\"slider\", min:64, max:300, step:1}\n",
    "IMAGE_SIZE = (SIZE, SIZE)"
   ]
  },
  {
   "cell_type": "code",
   "execution_count": 4,
   "metadata": {
    "colab": {},
    "colab_type": "code",
    "id": "faajLlErCb1S"
   },
   "outputs": [],
   "source": [
    "def format_image(image, label):\n",
    "    image = tf.image.resize(image, IMAGE_SIZE) / 255.0\n",
    "    return  image, label"
   ]
  },
  {
   "cell_type": "code",
   "execution_count": 5,
   "metadata": {
    "colab": {},
    "colab_type": "code",
    "id": "AVXPuU12Cdka"
   },
   "outputs": [],
   "source": [
    "BATCH_SIZE = 32 #@param {type:\"integer\"}"
   ]
  },
  {
   "cell_type": "code",
   "execution_count": 6,
   "metadata": {
    "colab": {},
    "colab_type": "code",
    "id": "0lHDkFVaCe48"
   },
   "outputs": [],
   "source": [
    "train_batches = train_examples.shuffle(num_examples // 4).map(format_image).batch(BATCH_SIZE).prefetch(1)\n",
    "validation_batches = validation_examples.map(format_image).batch(BATCH_SIZE).prefetch(1)\n",
    "test_batches = test_examples.map(format_image).batch(1)"
   ]
  },
  {
   "cell_type": "code",
   "execution_count": null,
   "metadata": {
    "colab": {},
    "colab_type": "code",
    "id": "DxsCqEIkCgUt"
   },
   "outputs": [],
   "source": [
    "for image_batch, label_batch in train_batches.take(1):\n",
    "    pass\n",
    "\n",
    "image_batch.shape"
   ]
  },
  {
   "cell_type": "code",
   "execution_count": 7,
   "metadata": {
    "colab": {},
    "colab_type": "code",
    "id": "iDBpWvHXCh2A"
   },
   "outputs": [],
   "source": [
    "def build_model(dense_units, input_shape=IMAGE_SIZE + (3,)):\n",
    "    model = tf.keras.models.Sequential([\n",
    "                                        tf.keras.layers.Conv2D(16, (3, 3), activation='relu', input_shape=input_shape),\n",
    "                                        tf.keras.layers.MaxPooling2D(2, 2),\n",
    "                                        tf.keras.layers.Conv2D(32, (3, 3), activation='relu'),\n",
    "                                        tf.keras.layers.MaxPooling2D(2, 2),\n",
    "                                        tf.keras.layers.Conv2D(64, (3, 3), activation='relu'),\n",
    "                                        tf.keras.layers.MaxPooling2D(2, 2),\n",
    "                                        tf.keras.layers.Flatten(),\n",
    "                                        tf.keras.layers.Dense(dense_units, activation='relu'),\n",
    "                                        tf.keras.layers.Dense(2, activation='softmax')\n",
    "    ])\n",
    "    return model"
   ]
  },
  {
   "cell_type": "markdown",
   "metadata": {
    "colab_type": "text",
    "id": "0ZKGkjagENSw"
   },
   "source": [
    "## [TensorBoard](https://keras.io/api/callbacks/tensorboard/)\n",
    "\n",
    "Enable visualizations for TensorBoard."
   ]
  },
  {
   "cell_type": "code",
   "execution_count": null,
   "metadata": {
    "colab": {},
    "colab_type": "code",
    "id": "CeiD2WVEHbex"
   },
   "outputs": [],
   "source": [
    "# !rm -rf logs"
   ]
  },
  {
   "cell_type": "code",
   "execution_count": 8,
   "metadata": {
    "colab": {},
    "colab_type": "code",
    "id": "PpLwPLnAEOzv"
   },
   "outputs": [
    {
     "name": "stdout",
     "output_type": "stream",
     "text": [
      "Epoch 1/10\n",
      " 1/26 [>.............................] - ETA: 0s - loss: 0.6891 - accuracy: 0.6250WARNING:tensorflow:From /Users/giacomomiolo/opt/anaconda3/envs/py386_tf23/lib/python3.8/site-packages/tensorflow/python/ops/summary_ops_v2.py:1277: stop (from tensorflow.python.eager.profiler) is deprecated and will be removed after 2020-07-01.\n",
      "Instructions for updating:\n",
      "use `tf.profiler.experimental.stop` instead.\n"
     ]
    },
    {
     "name": "stderr",
     "output_type": "stream",
     "text": [
      "WARNING:tensorflow:From /Users/giacomomiolo/opt/anaconda3/envs/py386_tf23/lib/python3.8/site-packages/tensorflow/python/ops/summary_ops_v2.py:1277: stop (from tensorflow.python.eager.profiler) is deprecated and will be removed after 2020-07-01.\n",
      "Instructions for updating:\n",
      "use `tf.profiler.experimental.stop` instead.\n"
     ]
    },
    {
     "name": "stdout",
     "output_type": "stream",
     "text": [
      "26/26 [==============================] - 11s 442ms/step - loss: 0.6721 - accuracy: 0.5925 - val_loss: 0.6570 - val_accuracy: 0.5951\n",
      "Epoch 2/10\n",
      "26/26 [==============================] - 12s 464ms/step - loss: 0.6222 - accuracy: 0.6764 - val_loss: 0.6174 - val_accuracy: 0.6439\n",
      "Epoch 3/10\n",
      "26/26 [==============================] - 13s 506ms/step - loss: 0.5625 - accuracy: 0.7543 - val_loss: 0.6967 - val_accuracy: 0.5268\n",
      "Epoch 4/10\n",
      "26/26 [==============================] - 12s 471ms/step - loss: 0.5120 - accuracy: 0.7737 - val_loss: 0.5503 - val_accuracy: 0.6927\n",
      "Epoch 5/10\n",
      "26/26 [==============================] - 12s 455ms/step - loss: 0.4602 - accuracy: 0.8090 - val_loss: 0.4520 - val_accuracy: 0.8537\n",
      "Epoch 6/10\n",
      "26/26 [==============================] - 11s 437ms/step - loss: 0.3976 - accuracy: 0.8455 - val_loss: 0.3801 - val_accuracy: 0.8878\n",
      "Epoch 7/10\n",
      "26/26 [==============================] - 11s 412ms/step - loss: 0.3255 - accuracy: 0.8808 - val_loss: 0.3068 - val_accuracy: 0.8634\n",
      "Epoch 8/10\n",
      "26/26 [==============================] - 11s 427ms/step - loss: 0.2747 - accuracy: 0.9027 - val_loss: 0.2317 - val_accuracy: 0.9366\n",
      "Epoch 9/10\n",
      "26/26 [==============================] - 13s 494ms/step - loss: 0.2455 - accuracy: 0.9075 - val_loss: 0.2879 - val_accuracy: 0.8683\n",
      "Epoch 10/10\n",
      "26/26 [==============================] - 12s 462ms/step - loss: 0.2092 - accuracy: 0.9209 - val_loss: 0.1606 - val_accuracy: 0.9561\n"
     ]
    },
    {
     "data": {
      "text/plain": [
       "<tensorflow.python.keras.callbacks.History at 0x7faf0a6ed430>"
      ]
     },
     "execution_count": 8,
     "metadata": {},
     "output_type": "execute_result"
    }
   ],
   "source": [
    "model = build_model(dense_units=256)\n",
    "model.compile(\n",
    "    optimizer='sgd',\n",
    "    loss='sparse_categorical_crossentropy', \n",
    "    metrics=['accuracy'])\n",
    "  \n",
    "logdir = os.path.join(\"logs\", datetime.datetime.now().strftime(\"%Y%m%d-%H%M%S\"))\n",
    "tensorboard_callback = tf.keras.callbacks.TensorBoard(logdir)\n",
    "\n",
    "model.fit(train_batches, \n",
    "          epochs=10, \n",
    "          validation_data=validation_batches, \n",
    "          callbacks=[tensorboard_callback])"
   ]
  },
  {
   "cell_type": "code",
   "execution_count": 9,
   "metadata": {
    "colab": {},
    "colab_type": "code",
    "id": "iJunWOjZE0ir"
   },
   "outputs": [
    {
     "data": {
      "text/html": [
       "\n",
       "      <iframe id=\"tensorboard-frame-97ac61ee4cc748a3\" width=\"100%\" height=\"800\" frameborder=\"0\">\n",
       "      </iframe>\n",
       "      <script>\n",
       "        (function() {\n",
       "          const frame = document.getElementById(\"tensorboard-frame-97ac61ee4cc748a3\");\n",
       "          const url = new URL(\"/\", window.location);\n",
       "          const port = 6006;\n",
       "          if (port) {\n",
       "            url.port = port;\n",
       "          }\n",
       "          frame.src = url;\n",
       "        })();\n",
       "      </script>\n",
       "    "
      ],
      "text/plain": [
       "<IPython.core.display.HTML object>"
      ]
     },
     "metadata": {},
     "output_type": "display_data"
    }
   ],
   "source": [
    "%tensorboard --logdir logs"
   ]
  },
  {
   "cell_type": "markdown",
   "metadata": {
    "colab_type": "text",
    "id": "wv9H4Pc2Mfl7"
   },
   "source": [
    "## [Model Checkpoint](https://keras.io/api/callbacks/model_checkpoint/)\n",
    "\n",
    "Callback to save the Keras model or model weights at some frequency."
   ]
  },
  {
   "cell_type": "code",
   "execution_count": 10,
   "metadata": {
    "colab": {},
    "colab_type": "code",
    "id": "PYV4FJ8iMmDq"
   },
   "outputs": [
    {
     "name": "stdout",
     "output_type": "stream",
     "text": [
      "Epoch 1/5\n",
      "\n",
      "Epoch 00001: saving model to weights.01-0.66.h5\n",
      "26/26 - 11s - loss: 0.6758 - accuracy: 0.5535 - val_loss: 0.6573 - val_accuracy: 0.7854\n",
      "Epoch 2/5\n",
      "\n",
      "Epoch 00002: saving model to weights.02-0.60.h5\n",
      "26/26 - 13s - loss: 0.6309 - accuracy: 0.7141 - val_loss: 0.6025 - val_accuracy: 0.8000\n",
      "Epoch 3/5\n",
      "\n",
      "Epoch 00003: saving model to weights.03-0.64.h5\n",
      "26/26 - 12s - loss: 0.5745 - accuracy: 0.7774 - val_loss: 0.6442 - val_accuracy: 0.5024\n",
      "Epoch 4/5\n",
      "\n",
      "Epoch 00004: saving model to weights.04-0.51.h5\n",
      "26/26 - 11s - loss: 0.5180 - accuracy: 0.7774 - val_loss: 0.5065 - val_accuracy: 0.7805\n",
      "Epoch 5/5\n",
      "\n",
      "Epoch 00005: saving model to weights.05-0.45.h5\n",
      "26/26 - 11s - loss: 0.4449 - accuracy: 0.8200 - val_loss: 0.4528 - val_accuracy: 0.8390\n"
     ]
    },
    {
     "data": {
      "text/plain": [
       "<tensorflow.python.keras.callbacks.History at 0x7faed9cec9d0>"
      ]
     },
     "execution_count": 10,
     "metadata": {},
     "output_type": "execute_result"
    }
   ],
   "source": [
    "model = build_model(dense_units=256)\n",
    "model.compile(\n",
    "    optimizer='sgd',\n",
    "    loss='sparse_categorical_crossentropy', \n",
    "    metrics=['accuracy'])\n",
    "  \n",
    "model.fit(train_batches, \n",
    "          epochs=5, \n",
    "          validation_data=validation_batches, \n",
    "          verbose=2,\n",
    "          callbacks=[ModelCheckpoint('weights.{epoch:02d}-{val_loss:.2f}.h5', verbose=1),\n",
    "          ])"
   ]
  },
  {
   "cell_type": "code",
   "execution_count": 11,
   "metadata": {
    "colab": {},
    "colab_type": "code",
    "id": "oGvjQ8IlMmK6"
   },
   "outputs": [
    {
     "name": "stdout",
     "output_type": "stream",
     "text": [
      "\n",
      "Epoch 00001: saving model to saved_model\n",
      "WARNING:tensorflow:From /Users/giacomomiolo/opt/anaconda3/envs/py386_tf23/lib/python3.8/site-packages/tensorflow/python/training/tracking/tracking.py:111: Model.state_updates (from tensorflow.python.keras.engine.training) is deprecated and will be removed in a future version.\n",
      "Instructions for updating:\n",
      "This property should not be used in TensorFlow 2.0, as updates are applied automatically.\n"
     ]
    },
    {
     "name": "stderr",
     "output_type": "stream",
     "text": [
      "WARNING:tensorflow:From /Users/giacomomiolo/opt/anaconda3/envs/py386_tf23/lib/python3.8/site-packages/tensorflow/python/training/tracking/tracking.py:111: Model.state_updates (from tensorflow.python.keras.engine.training) is deprecated and will be removed in a future version.\n",
      "Instructions for updating:\n",
      "This property should not be used in TensorFlow 2.0, as updates are applied automatically.\n"
     ]
    },
    {
     "name": "stdout",
     "output_type": "stream",
     "text": [
      "WARNING:tensorflow:From /Users/giacomomiolo/opt/anaconda3/envs/py386_tf23/lib/python3.8/site-packages/tensorflow/python/training/tracking/tracking.py:111: Layer.updates (from tensorflow.python.keras.engine.base_layer) is deprecated and will be removed in a future version.\n",
      "Instructions for updating:\n",
      "This property should not be used in TensorFlow 2.0, as updates are applied automatically.\n"
     ]
    },
    {
     "name": "stderr",
     "output_type": "stream",
     "text": [
      "WARNING:tensorflow:From /Users/giacomomiolo/opt/anaconda3/envs/py386_tf23/lib/python3.8/site-packages/tensorflow/python/training/tracking/tracking.py:111: Layer.updates (from tensorflow.python.keras.engine.base_layer) is deprecated and will be removed in a future version.\n",
      "Instructions for updating:\n",
      "This property should not be used in TensorFlow 2.0, as updates are applied automatically.\n"
     ]
    },
    {
     "name": "stdout",
     "output_type": "stream",
     "text": [
      "INFO:tensorflow:Assets written to: saved_model/assets\n"
     ]
    },
    {
     "name": "stderr",
     "output_type": "stream",
     "text": [
      "INFO:tensorflow:Assets written to: saved_model/assets\n"
     ]
    },
    {
     "name": "stdout",
     "output_type": "stream",
     "text": [
      "26/26 - 14s - loss: 0.6763 - accuracy: 0.5487 - val_loss: 0.6656 - val_accuracy: 0.4927\n"
     ]
    },
    {
     "data": {
      "text/plain": [
       "<tensorflow.python.keras.callbacks.History at 0x7faedaee7220>"
      ]
     },
     "execution_count": 11,
     "metadata": {},
     "output_type": "execute_result"
    }
   ],
   "source": [
    "model = build_model(dense_units=256)\n",
    "model.compile(\n",
    "    optimizer='sgd',\n",
    "    loss='sparse_categorical_crossentropy', \n",
    "    metrics=['accuracy'])\n",
    "  \n",
    "model.fit(train_batches, \n",
    "          epochs=1, \n",
    "          validation_data=validation_batches, \n",
    "          verbose=2,\n",
    "          callbacks=[ModelCheckpoint('saved_model', verbose=1)\n",
    "          ])"
   ]
  },
  {
   "cell_type": "code",
   "execution_count": 12,
   "metadata": {
    "colab": {},
    "colab_type": "code",
    "id": "Y1ConwoB0EjD"
   },
   "outputs": [
    {
     "name": "stdout",
     "output_type": "stream",
     "text": [
      "Epoch 1/2\n",
      "\n",
      "Epoch 00001: saving model to model.h5\n",
      "26/26 - 10s - loss: 0.6749 - accuracy: 0.5693 - val_loss: 0.6683 - val_accuracy: 0.5659\n",
      "Epoch 2/2\n",
      "\n",
      "Epoch 00002: saving model to model.h5\n",
      "26/26 - 13s - loss: 0.6415 - accuracy: 0.6667 - val_loss: 0.6280 - val_accuracy: 0.6146\n"
     ]
    },
    {
     "data": {
      "text/plain": [
       "<tensorflow.python.keras.callbacks.History at 0x7faed9e88190>"
      ]
     },
     "execution_count": 12,
     "metadata": {},
     "output_type": "execute_result"
    }
   ],
   "source": [
    "model = build_model(dense_units=256)\n",
    "model.compile(\n",
    "    optimizer='sgd',\n",
    "    loss='sparse_categorical_crossentropy', \n",
    "    metrics=['accuracy'])\n",
    "  \n",
    "model.fit(train_batches, \n",
    "          epochs=2, \n",
    "          validation_data=validation_batches, \n",
    "          verbose=2,\n",
    "          callbacks=[ModelCheckpoint('model.h5', verbose=1)\n",
    "          ])"
   ]
  },
  {
   "cell_type": "markdown",
   "metadata": {
    "colab_type": "text",
    "id": "kptNF0--Lznv"
   },
   "source": [
    "## [Early stopping](https://keras.io/api/callbacks/early_stopping/)\n",
    "\n",
    "Stop training when a monitored metric has stopped improving."
   ]
  },
  {
   "cell_type": "code",
   "execution_count": 13,
   "metadata": {
    "colab": {},
    "colab_type": "code",
    "id": "KJOJTJYdCkdY"
   },
   "outputs": [
    {
     "name": "stdout",
     "output_type": "stream",
     "text": [
      "Epoch 1/50\n",
      "26/26 - 12s - loss: 0.6683 - accuracy: 0.5864 - val_loss: 0.7414 - val_accuracy: 0.4341\n",
      "Epoch 2/50\n",
      "26/26 - 12s - loss: 0.6178 - accuracy: 0.6922 - val_loss: 0.5775 - val_accuracy: 0.7561\n",
      "Epoch 3/50\n",
      "26/26 - 10s - loss: 0.5495 - accuracy: 0.7676 - val_loss: 0.5199 - val_accuracy: 0.7902\n",
      "Epoch 4/50\n",
      "26/26 - 10s - loss: 0.5301 - accuracy: 0.7762 - val_loss: 0.4355 - val_accuracy: 0.8439\n",
      "Epoch 5/50\n",
      "26/26 - 10s - loss: 0.4616 - accuracy: 0.8151 - val_loss: 0.3891 - val_accuracy: 0.8732\n",
      "Epoch 6/50\n",
      "26/26 - 10s - loss: 0.3781 - accuracy: 0.8650 - val_loss: 0.3205 - val_accuracy: 0.8634\n",
      "Epoch 7/50\n",
      "26/26 - 11s - loss: 0.3098 - accuracy: 0.8978 - val_loss: 0.3461 - val_accuracy: 0.8732\n",
      "Epoch 8/50\n",
      "26/26 - 13s - loss: 0.2634 - accuracy: 0.9197 - val_loss: 0.2176 - val_accuracy: 0.9463\n",
      "Epoch 9/50\n",
      "26/26 - 10s - loss: 0.2030 - accuracy: 0.9428 - val_loss: 0.1824 - val_accuracy: 0.9366\n",
      "Epoch 10/50\n",
      "26/26 - 10s - loss: 0.1640 - accuracy: 0.9550 - val_loss: 0.1254 - val_accuracy: 0.9756\n",
      "Epoch 11/50\n",
      "26/26 - 10s - loss: 0.1259 - accuracy: 0.9745 - val_loss: 0.2527 - val_accuracy: 0.8878\n",
      "Epoch 12/50\n",
      "26/26 - 10s - loss: 0.1112 - accuracy: 0.9708 - val_loss: 0.0890 - val_accuracy: 0.9854\n",
      "Epoch 13/50\n",
      "Restoring model weights from the end of the best epoch.\n",
      "26/26 - 10s - loss: 0.1061 - accuracy: 0.9696 - val_loss: 0.0967 - val_accuracy: 0.9756\n",
      "Epoch 00013: early stopping\n"
     ]
    },
    {
     "data": {
      "text/plain": [
       "<tensorflow.python.keras.callbacks.History at 0x7faedae0e430>"
      ]
     },
     "execution_count": 13,
     "metadata": {},
     "output_type": "execute_result"
    }
   ],
   "source": [
    "model = build_model(dense_units=256)\n",
    "model.compile(\n",
    "    optimizer='sgd',\n",
    "    loss='sparse_categorical_crossentropy', \n",
    "    metrics=['accuracy'])\n",
    "  \n",
    "model.fit(train_batches, \n",
    "          epochs=50, \n",
    "          validation_data=validation_batches, \n",
    "          verbose=2,\n",
    "          callbacks=[EarlyStopping(\n",
    "              patience=3,\n",
    "              min_delta=0.05,\n",
    "              baseline=0.8,\n",
    "              mode='min',\n",
    "              monitor='val_loss',\n",
    "              restore_best_weights=True,\n",
    "              verbose=1)\n",
    "          ])"
   ]
  },
  {
   "cell_type": "markdown",
   "metadata": {
    "colab_type": "text",
    "id": "8mDzWUD4Pqq5"
   },
   "source": [
    "## [CSV Logger](https://keras.io/api/callbacks/csv_logger/)\n",
    "\n",
    "Callback that streams epoch results to a CSV file."
   ]
  },
  {
   "cell_type": "code",
   "execution_count": 14,
   "metadata": {
    "colab": {},
    "colab_type": "code",
    "id": "cffnMpmGPtMh"
   },
   "outputs": [
    {
     "name": "stdout",
     "output_type": "stream",
     "text": [
      "Epoch 1/5\n",
      "26/26 [==============================] - 11s 415ms/step - loss: 0.6721 - accuracy: 0.5888 - val_loss: 0.6671 - val_accuracy: 0.5220\n",
      "Epoch 2/5\n",
      "26/26 [==============================] - 11s 426ms/step - loss: 0.6361 - accuracy: 0.6715 - val_loss: 0.6265 - val_accuracy: 0.6244\n",
      "Epoch 3/5\n",
      "26/26 [==============================] - 11s 422ms/step - loss: 0.5814 - accuracy: 0.7202 - val_loss: 0.5397 - val_accuracy: 0.8049\n",
      "Epoch 4/5\n",
      "26/26 [==============================] - 10s 389ms/step - loss: 0.5122 - accuracy: 0.7835 - val_loss: 0.4827 - val_accuracy: 0.8488\n",
      "Epoch 5/5\n",
      "26/26 [==============================] - 13s 490ms/step - loss: 0.4697 - accuracy: 0.7968 - val_loss: 0.4313 - val_accuracy: 0.8537\n"
     ]
    },
    {
     "data": {
      "text/plain": [
       "<tensorflow.python.keras.callbacks.History at 0x7faedef07be0>"
      ]
     },
     "execution_count": 14,
     "metadata": {},
     "output_type": "execute_result"
    }
   ],
   "source": [
    "model = build_model(dense_units=256)\n",
    "model.compile(\n",
    "    optimizer='sgd',\n",
    "    loss='sparse_categorical_crossentropy', \n",
    "    metrics=['accuracy'])\n",
    "  \n",
    "csv_file = 'training.csv'\n",
    "\n",
    "model.fit(train_batches, \n",
    "          epochs=5, \n",
    "          validation_data=validation_batches, \n",
    "          callbacks=[CSVLogger(csv_file)\n",
    "          ])"
   ]
  },
  {
   "cell_type": "code",
   "execution_count": 15,
   "metadata": {
    "colab": {},
    "colab_type": "code",
    "id": "B9tkYi03QV7R"
   },
   "outputs": [
    {
     "data": {
      "text/html": [
       "<div>\n",
       "<style scoped>\n",
       "    .dataframe tbody tr th:only-of-type {\n",
       "        vertical-align: middle;\n",
       "    }\n",
       "\n",
       "    .dataframe tbody tr th {\n",
       "        vertical-align: top;\n",
       "    }\n",
       "\n",
       "    .dataframe thead th {\n",
       "        text-align: right;\n",
       "    }\n",
       "</style>\n",
       "<table border=\"1\" class=\"dataframe\">\n",
       "  <thead>\n",
       "    <tr style=\"text-align: right;\">\n",
       "      <th></th>\n",
       "      <th>epoch</th>\n",
       "      <th>accuracy</th>\n",
       "      <th>loss</th>\n",
       "      <th>val_accuracy</th>\n",
       "      <th>val_loss</th>\n",
       "    </tr>\n",
       "  </thead>\n",
       "  <tbody>\n",
       "    <tr>\n",
       "      <th>0</th>\n",
       "      <td>0</td>\n",
       "      <td>0.588808</td>\n",
       "      <td>0.672073</td>\n",
       "      <td>0.521951</td>\n",
       "      <td>0.667128</td>\n",
       "    </tr>\n",
       "    <tr>\n",
       "      <th>1</th>\n",
       "      <td>1</td>\n",
       "      <td>0.671533</td>\n",
       "      <td>0.636129</td>\n",
       "      <td>0.624390</td>\n",
       "      <td>0.626477</td>\n",
       "    </tr>\n",
       "    <tr>\n",
       "      <th>2</th>\n",
       "      <td>2</td>\n",
       "      <td>0.720195</td>\n",
       "      <td>0.581357</td>\n",
       "      <td>0.804878</td>\n",
       "      <td>0.539652</td>\n",
       "    </tr>\n",
       "    <tr>\n",
       "      <th>3</th>\n",
       "      <td>3</td>\n",
       "      <td>0.783455</td>\n",
       "      <td>0.512243</td>\n",
       "      <td>0.848781</td>\n",
       "      <td>0.482679</td>\n",
       "    </tr>\n",
       "    <tr>\n",
       "      <th>4</th>\n",
       "      <td>4</td>\n",
       "      <td>0.796837</td>\n",
       "      <td>0.469744</td>\n",
       "      <td>0.853659</td>\n",
       "      <td>0.431287</td>\n",
       "    </tr>\n",
       "  </tbody>\n",
       "</table>\n",
       "</div>"
      ],
      "text/plain": [
       "   epoch  accuracy      loss  val_accuracy  val_loss\n",
       "0      0  0.588808  0.672073      0.521951  0.667128\n",
       "1      1  0.671533  0.636129      0.624390  0.626477\n",
       "2      2  0.720195  0.581357      0.804878  0.539652\n",
       "3      3  0.783455  0.512243      0.848781  0.482679\n",
       "4      4  0.796837  0.469744      0.853659  0.431287"
      ]
     },
     "execution_count": 15,
     "metadata": {},
     "output_type": "execute_result"
    }
   ],
   "source": [
    "pd.read_csv(csv_file).head()"
   ]
  },
  {
   "cell_type": "markdown",
   "metadata": {
    "colab_type": "text",
    "id": "Dt9C2Y9fRBKN"
   },
   "source": [
    "## [Learning Rate Scheduler](https://keras.io/api/callbacks/learning_rate_scheduler/)\n",
    "\n",
    "Updates the learning rate during training."
   ]
  },
  {
   "cell_type": "code",
   "execution_count": 16,
   "metadata": {
    "colab": {},
    "colab_type": "code",
    "id": "aJi-xY2VRC03"
   },
   "outputs": [
    {
     "name": "stdout",
     "output_type": "stream",
     "text": [
      "\n",
      "Epoch 00001: LearningRateScheduler reducing learning rate to 0.005.\n",
      "Epoch 1/5\n",
      "26/26 [==============================] - 12s 443ms/step - loss: 0.6724 - accuracy: 0.5596 - val_loss: 0.6777 - val_accuracy: 0.4683\n",
      "\n",
      "Epoch 00002: LearningRateScheduler reducing learning rate to 0.0025.\n",
      "Epoch 2/5\n",
      "26/26 [==============================] - 11s 417ms/step - loss: 0.6539 - accuracy: 0.5937 - val_loss: 0.6733 - val_accuracy: 0.4585\n",
      "\n",
      "Epoch 00003: LearningRateScheduler reducing learning rate to 0.00125.\n",
      "Epoch 3/5\n",
      "26/26 [==============================] - 11s 414ms/step - loss: 0.6427 - accuracy: 0.5852 - val_loss: 0.6601 - val_accuracy: 0.5659\n",
      "\n",
      "Epoch 00004: LearningRateScheduler reducing learning rate to 0.000625.\n",
      "Epoch 4/5\n",
      "26/26 [==============================] - 11s 408ms/step - loss: 0.6376 - accuracy: 0.6521 - val_loss: 0.6566 - val_accuracy: 0.5756\n",
      "\n",
      "Epoch 00005: LearningRateScheduler reducing learning rate to 0.0003125.\n",
      "Epoch 5/5\n",
      "26/26 [==============================] - 11s 426ms/step - loss: 0.6346 - accuracy: 0.6800 - val_loss: 0.6551 - val_accuracy: 0.5805\n"
     ]
    },
    {
     "data": {
      "text/plain": [
       "<tensorflow.python.keras.callbacks.History at 0x7faede952460>"
      ]
     },
     "execution_count": 16,
     "metadata": {},
     "output_type": "execute_result"
    }
   ],
   "source": [
    "model = build_model(dense_units=256)\n",
    "model.compile(\n",
    "    optimizer='sgd',\n",
    "    loss='sparse_categorical_crossentropy', \n",
    "    metrics=['accuracy'])\n",
    "  \n",
    "def step_decay(epoch):\n",
    "\tinitial_lr = 0.01\n",
    "\tdrop = 0.5\n",
    "\tepochs_drop = 1\n",
    "\tlr = initial_lr * math.pow(drop, math.floor((1+epoch)/epochs_drop))\n",
    "\treturn lr\n",
    "\n",
    "model.fit(train_batches, \n",
    "          epochs=5, \n",
    "          validation_data=validation_batches, \n",
    "          callbacks=[LearningRateScheduler(step_decay, verbose=1),\n",
    "                    TensorBoard(log_dir='./log_dir')])"
   ]
  },
  {
   "cell_type": "code",
   "execution_count": 17,
   "metadata": {
    "colab": {},
    "colab_type": "code",
    "id": "M2S4n8nrbV91"
   },
   "outputs": [
    {
     "data": {
      "text/html": [
       "\n",
       "      <iframe id=\"tensorboard-frame-6f631b5f5cf667fd\" width=\"100%\" height=\"800\" frameborder=\"0\">\n",
       "      </iframe>\n",
       "      <script>\n",
       "        (function() {\n",
       "          const frame = document.getElementById(\"tensorboard-frame-6f631b5f5cf667fd\");\n",
       "          const url = new URL(\"/\", window.location);\n",
       "          const port = 6007;\n",
       "          if (port) {\n",
       "            url.port = port;\n",
       "          }\n",
       "          frame.src = url;\n",
       "        })();\n",
       "      </script>\n",
       "    "
      ],
      "text/plain": [
       "<IPython.core.display.HTML object>"
      ]
     },
     "metadata": {},
     "output_type": "display_data"
    }
   ],
   "source": [
    "%tensorboard --logdir log_dir"
   ]
  },
  {
   "cell_type": "markdown",
   "metadata": {
    "colab_type": "text",
    "id": "y0wcuQyJE_UK"
   },
   "source": [
    "## [ReduceLROnPlateau](https://keras.io/api/callbacks/reduce_lr_on_plateau/)\n",
    "\n",
    "Reduce learning rate when a metric has stopped improving."
   ]
  },
  {
   "cell_type": "code",
   "execution_count": 18,
   "metadata": {
    "colab": {},
    "colab_type": "code",
    "id": "4naxZ-eCFB27"
   },
   "outputs": [
    {
     "name": "stdout",
     "output_type": "stream",
     "text": [
      "Epoch 1/50\n",
      "26/26 [==============================] - 12s 448ms/step - loss: 0.6764 - accuracy: 0.5645 - val_loss: 0.6657 - val_accuracy: 0.6146\n",
      "Epoch 2/50\n",
      "26/26 [==============================] - 11s 404ms/step - loss: 0.6479 - accuracy: 0.6776 - val_loss: 0.6623 - val_accuracy: 0.5268\n",
      "Epoch 3/50\n",
      "26/26 [==============================] - 11s 413ms/step - loss: 0.6076 - accuracy: 0.6995 - val_loss: 0.5727 - val_accuracy: 0.8488\n",
      "Epoch 4/50\n",
      "26/26 [==============================] - 11s 417ms/step - loss: 0.5605 - accuracy: 0.7311 - val_loss: 0.5182 - val_accuracy: 0.8488\n",
      "Epoch 5/50\n",
      "26/26 [==============================] - 11s 439ms/step - loss: 0.4921 - accuracy: 0.7932 - val_loss: 0.4756 - val_accuracy: 0.8098\n",
      "Epoch 6/50\n",
      "26/26 [==============================] - 11s 415ms/step - loss: 0.4553 - accuracy: 0.8175 - val_loss: 0.4384 - val_accuracy: 0.7463\n",
      "Epoch 7/50\n",
      "26/26 [==============================] - 11s 440ms/step - loss: 0.3984 - accuracy: 0.8431 - val_loss: 0.3189 - val_accuracy: 0.9366\n",
      "Epoch 8/50\n",
      "26/26 [==============================] - 12s 449ms/step - loss: 0.3176 - accuracy: 0.8990 - val_loss: 0.2660 - val_accuracy: 0.9317\n",
      "Epoch 9/50\n",
      "26/26 [==============================] - 12s 449ms/step - loss: 0.2627 - accuracy: 0.9246 - val_loss: 0.1960 - val_accuracy: 0.9707\n",
      "Epoch 10/50\n",
      "26/26 [==============================] - ETA: 0s - loss: 0.1979 - accuracy: 0.9416\n",
      "Epoch 00010: ReduceLROnPlateau reducing learning rate to 0.0019999999552965165.\n",
      "26/26 [==============================] - 11s 425ms/step - loss: 0.1979 - accuracy: 0.9416 - val_loss: 0.2859 - val_accuracy: 0.8732\n",
      "Epoch 11/50\n",
      "26/26 [==============================] - 11s 421ms/step - loss: 0.1685 - accuracy: 0.9659 - val_loss: 0.1491 - val_accuracy: 0.9707\n",
      "Epoch 12/50\n",
      "26/26 [==============================] - ETA: 0s - loss: 0.1546 - accuracy: 0.9732\n",
      "Epoch 00012: ReduceLROnPlateau reducing learning rate to 0.001.\n",
      "26/26 [==============================] - 11s 409ms/step - loss: 0.1546 - accuracy: 0.9732 - val_loss: 0.1526 - val_accuracy: 0.9463\n",
      "Epoch 13/50\n",
      "26/26 [==============================] - 10s 402ms/step - loss: 0.1477 - accuracy: 0.9720 - val_loss: 0.1385 - val_accuracy: 0.9707\n",
      "Epoch 14/50\n",
      "26/26 [==============================] - ETA: 0s - loss: 0.1441 - accuracy: 0.9720\n",
      "Epoch 00014: ReduceLROnPlateau reducing learning rate to 0.001.\n",
      "26/26 [==============================] - 11s 408ms/step - loss: 0.1441 - accuracy: 0.9720 - val_loss: 0.1418 - val_accuracy: 0.9561\n",
      "Epoch 15/50\n",
      "26/26 [==============================] - 11s 412ms/step - loss: 0.1413 - accuracy: 0.9745 - val_loss: 0.1384 - val_accuracy: 0.9659\n",
      "Epoch 16/50\n",
      "26/26 [==============================] - ETA: 0s - loss: 0.1374 - accuracy: 0.9732\n",
      "Epoch 00016: ReduceLROnPlateau reducing learning rate to 0.001.\n",
      "26/26 [==============================] - 11s 413ms/step - loss: 0.1374 - accuracy: 0.9732 - val_loss: 0.1439 - val_accuracy: 0.9463\n",
      "Epoch 17/50\n",
      "26/26 [==============================] - 11s 435ms/step - loss: 0.1353 - accuracy: 0.9732 - val_loss: 0.1296 - val_accuracy: 0.9707\n",
      "Epoch 18/50\n",
      "26/26 [==============================] - 12s 452ms/step - loss: 0.1318 - accuracy: 0.9732 - val_loss: 0.1264 - val_accuracy: 0.9707\n",
      "Epoch 19/50\n",
      "26/26 [==============================] - 11s 414ms/step - loss: 0.1300 - accuracy: 0.9745 - val_loss: 0.1259 - val_accuracy: 0.9707\n",
      "Epoch 20/50\n",
      "26/26 [==============================] - 11s 409ms/step - loss: 0.1265 - accuracy: 0.9757 - val_loss: 0.1216 - val_accuracy: 0.9707\n",
      "Epoch 21/50\n",
      "26/26 [==============================] - 10s 403ms/step - loss: 0.1240 - accuracy: 0.9745 - val_loss: 0.1202 - val_accuracy: 0.9707\n",
      "Epoch 22/50\n",
      "26/26 [==============================] - 11s 410ms/step - loss: 0.1218 - accuracy: 0.9745 - val_loss: 0.1164 - val_accuracy: 0.9756\n",
      "Epoch 23/50\n",
      "26/26 [==============================] - 11s 412ms/step - loss: 0.1191 - accuracy: 0.9745 - val_loss: 0.1157 - val_accuracy: 0.9707\n",
      "Epoch 24/50\n",
      "26/26 [==============================] - 11s 415ms/step - loss: 0.1169 - accuracy: 0.9745 - val_loss: 0.1141 - val_accuracy: 0.9707\n",
      "Epoch 25/50\n",
      "26/26 [==============================] - ETA: 0s - loss: 0.1150 - accuracy: 0.9757\n",
      "Epoch 00025: ReduceLROnPlateau reducing learning rate to 0.001.\n",
      "26/26 [==============================] - 11s 435ms/step - loss: 0.1150 - accuracy: 0.9757 - val_loss: 0.1150 - val_accuracy: 0.9707\n",
      "Epoch 26/50\n",
      "26/26 [==============================] - 11s 421ms/step - loss: 0.1124 - accuracy: 0.9732 - val_loss: 0.1102 - val_accuracy: 0.9707\n",
      "Epoch 27/50\n",
      "26/26 [==============================] - ETA: 0s - loss: 0.1100 - accuracy: 0.9769\n",
      "Epoch 00027: ReduceLROnPlateau reducing learning rate to 0.001.\n",
      "26/26 [==============================] - 11s 437ms/step - loss: 0.1100 - accuracy: 0.9769 - val_loss: 0.1122 - val_accuracy: 0.9707\n",
      "Epoch 28/50\n",
      "26/26 [==============================] - ETA: 0s - loss: 0.1088 - accuracy: 0.9757\n",
      "Epoch 00028: ReduceLROnPlateau reducing learning rate to 0.001.\n",
      "26/26 [==============================] - 11s 429ms/step - loss: 0.1088 - accuracy: 0.9757 - val_loss: 0.1126 - val_accuracy: 0.9707\n",
      "Epoch 29/50\n",
      "26/26 [==============================] - 11s 423ms/step - loss: 0.1059 - accuracy: 0.9769 - val_loss: 0.1074 - val_accuracy: 0.9707\n",
      "Epoch 30/50\n",
      "26/26 [==============================] - ETA: 0s - loss: 0.1034 - accuracy: 0.9757\n",
      "Epoch 00030: ReduceLROnPlateau reducing learning rate to 0.001.\n",
      "26/26 [==============================] - 11s 418ms/step - loss: 0.1034 - accuracy: 0.9757 - val_loss: 0.1118 - val_accuracy: 0.9610\n",
      "Epoch 31/50\n",
      "26/26 [==============================] - 11s 406ms/step - loss: 0.1024 - accuracy: 0.9781 - val_loss: 0.1024 - val_accuracy: 0.9805\n",
      "Epoch 32/50\n",
      "26/26 [==============================] - 21s 792ms/step - loss: 0.1003 - accuracy: 0.9745 - val_loss: 0.1015 - val_accuracy: 0.9805\n",
      "Epoch 33/50\n",
      "26/26 [==============================] - 11s 431ms/step - loss: 0.0985 - accuracy: 0.9781 - val_loss: 0.0986 - val_accuracy: 0.9805\n",
      "Epoch 34/50\n",
      "26/26 [==============================] - ETA: 0s - loss: 0.0963 - accuracy: 0.9805\n",
      "Epoch 00034: ReduceLROnPlateau reducing learning rate to 0.001.\n",
      "26/26 [==============================] - 11s 418ms/step - loss: 0.0963 - accuracy: 0.9805 - val_loss: 0.1085 - val_accuracy: 0.9610\n",
      "Epoch 35/50\n",
      "26/26 [==============================] - 11s 424ms/step - loss: 0.0953 - accuracy: 0.9769 - val_loss: 0.0974 - val_accuracy: 0.9805\n",
      "Epoch 36/50\n",
      "26/26 [==============================] - ETA: 0s - loss: 0.0932 - accuracy: 0.9793\n",
      "Epoch 00036: ReduceLROnPlateau reducing learning rate to 0.001.\n",
      "26/26 [==============================] - 11s 407ms/step - loss: 0.0932 - accuracy: 0.9793 - val_loss: 0.1009 - val_accuracy: 0.9707\n",
      "Epoch 37/50\n",
      "26/26 [==============================] - 11s 408ms/step - loss: 0.0913 - accuracy: 0.9781 - val_loss: 0.0952 - val_accuracy: 0.9805\n",
      "Epoch 38/50\n",
      "26/26 [==============================] - 11s 416ms/step - loss: 0.0894 - accuracy: 0.9830 - val_loss: 0.0949 - val_accuracy: 0.9805\n",
      "Epoch 39/50\n",
      "26/26 [==============================] - 11s 414ms/step - loss: 0.0883 - accuracy: 0.9805 - val_loss: 0.0923 - val_accuracy: 0.9805\n",
      "Epoch 40/50\n",
      "26/26 [==============================] - 10s 392ms/step - loss: 0.0869 - accuracy: 0.9805 - val_loss: 0.0917 - val_accuracy: 0.9805\n",
      "Epoch 41/50\n",
      "26/26 [==============================] - 14s 522ms/step - loss: 0.0851 - accuracy: 0.9805 - val_loss: 0.0916 - val_accuracy: 0.9805\n",
      "Epoch 42/50\n",
      "26/26 [==============================] - 22s 855ms/step - loss: 0.0841 - accuracy: 0.9805 - val_loss: 0.0897 - val_accuracy: 0.9805\n",
      "Epoch 43/50\n",
      "26/26 [==============================] - 16s 623ms/step - loss: 0.0821 - accuracy: 0.9830 - val_loss: 0.0867 - val_accuracy: 0.9805\n",
      "Epoch 44/50\n",
      "26/26 [==============================] - ETA: 0s - loss: 0.0811 - accuracy: 0.9805\n",
      "Epoch 00044: ReduceLROnPlateau reducing learning rate to 0.001.\n",
      "26/26 [==============================] - 14s 551ms/step - loss: 0.0811 - accuracy: 0.9805 - val_loss: 0.0886 - val_accuracy: 0.9805\n",
      "Epoch 45/50\n",
      "26/26 [==============================] - 14s 546ms/step - loss: 0.0795 - accuracy: 0.9818 - val_loss: 0.0850 - val_accuracy: 0.9805\n",
      "Epoch 46/50\n",
      "26/26 [==============================] - ETA: 0s - loss: 0.0781 - accuracy: 0.9830\n",
      "Epoch 00046: ReduceLROnPlateau reducing learning rate to 0.001.\n",
      "26/26 [==============================] - 16s 602ms/step - loss: 0.0781 - accuracy: 0.9830 - val_loss: 0.0884 - val_accuracy: 0.9805\n",
      "Epoch 47/50\n",
      "26/26 [==============================] - 19s 734ms/step - loss: 0.0770 - accuracy: 0.9830 - val_loss: 0.0834 - val_accuracy: 0.9805\n",
      "Epoch 48/50\n",
      "26/26 [==============================] - ETA: 0s - loss: 0.0759 - accuracy: 0.9830\n",
      "Epoch 00048: ReduceLROnPlateau reducing learning rate to 0.001.\n",
      "26/26 [==============================] - 20s 757ms/step - loss: 0.0759 - accuracy: 0.9830 - val_loss: 0.0884 - val_accuracy: 0.9756\n",
      "Epoch 49/50\n",
      "26/26 [==============================] - 16s 623ms/step - loss: 0.0744 - accuracy: 0.9830 - val_loss: 0.0820 - val_accuracy: 0.9805\n",
      "Epoch 50/50\n",
      "26/26 [==============================] - ETA: 0s - loss: 0.0726 - accuracy: 0.9830\n",
      "Epoch 00050: ReduceLROnPlateau reducing learning rate to 0.001.\n",
      "26/26 [==============================] - 12s 455ms/step - loss: 0.0726 - accuracy: 0.9830 - val_loss: 0.0830 - val_accuracy: 0.9805\n"
     ]
    },
    {
     "data": {
      "text/plain": [
       "<tensorflow.python.keras.callbacks.History at 0x7faec9cda970>"
      ]
     },
     "execution_count": 18,
     "metadata": {},
     "output_type": "execute_result"
    }
   ],
   "source": [
    "model = build_model(dense_units=256)\n",
    "model.compile(\n",
    "    optimizer='sgd',\n",
    "    loss='sparse_categorical_crossentropy', \n",
    "    metrics=['accuracy'])\n",
    "  \n",
    "model.fit(train_batches, \n",
    "          epochs=50, \n",
    "          validation_data=validation_batches, \n",
    "          callbacks=[ReduceLROnPlateau(monitor='val_loss', \n",
    "                                       factor=0.2, verbose=1,\n",
    "                                       patience=1, min_lr=0.001),\n",
    "                     TensorBoard(log_dir='./log_dir')])"
   ]
  },
  {
   "cell_type": "code",
   "execution_count": 19,
   "metadata": {
    "colab": {},
    "colab_type": "code",
    "id": "isfTWP4NYudk"
   },
   "outputs": [
    {
     "data": {
      "text/plain": [
       "Reusing TensorBoard on port 6007 (pid 62193), started 0:11:10 ago. (Use '!kill 62193' to kill it.)"
      ]
     },
     "metadata": {},
     "output_type": "display_data"
    },
    {
     "data": {
      "text/html": [
       "\n",
       "      <iframe id=\"tensorboard-frame-95797df1579d7f85\" width=\"100%\" height=\"800\" frameborder=\"0\">\n",
       "      </iframe>\n",
       "      <script>\n",
       "        (function() {\n",
       "          const frame = document.getElementById(\"tensorboard-frame-95797df1579d7f85\");\n",
       "          const url = new URL(\"/\", window.location);\n",
       "          const port = 6007;\n",
       "          if (port) {\n",
       "            url.port = port;\n",
       "          }\n",
       "          frame.src = url;\n",
       "        })();\n",
       "      </script>\n",
       "    "
      ],
      "text/plain": [
       "<IPython.core.display.HTML object>"
      ]
     },
     "metadata": {},
     "output_type": "display_data"
    }
   ],
   "source": [
    "%tensorboard --logdir log_dir"
   ]
  },
  {
   "cell_type": "code",
   "execution_count": null,
   "metadata": {},
   "outputs": [],
   "source": []
  }
 ],
 "metadata": {
  "colab": {
   "collapsed_sections": [],
   "include_colab_link": true,
   "name": "ExploringCallbacks.ipynb",
   "provenance": []
  },
  "kernelspec": {
   "display_name": "Python 3",
   "language": "python",
   "name": "python3"
  },
  "language_info": {
   "codemirror_mode": {
    "name": "ipython",
    "version": 3
   },
   "file_extension": ".py",
   "mimetype": "text/x-python",
   "name": "python",
   "nbconvert_exporter": "python",
   "pygments_lexer": "ipython3",
   "version": "3.8.6"
  }
 },
 "nbformat": 4,
 "nbformat_minor": 4
}
