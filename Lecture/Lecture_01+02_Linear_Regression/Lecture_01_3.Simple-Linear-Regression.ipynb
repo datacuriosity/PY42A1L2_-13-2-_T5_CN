{
 "cells": [
  {
   "cell_type": "markdown",
   "metadata": {
    "button": false,
    "deletable": true,
    "new_sheet": false,
    "run_control": {
     "read_only": false
    }
   },
   "source": [
    "# <center>Simple Linear Regression</center>\n",
    "\n",
    "\n",
    "#### About this Notebook\n",
    "In this notebook, we learn how to use scikit-learn to implement simple linear regression. We download a dataset that is related to fuel consumption and Carbon dioxide emission of cars. Then, we split our data into training and test sets, create a model using training set, Evaluate your model using test set, and finally use model to predict unknown value\n"
   ]
  },
  {
   "cell_type": "markdown",
   "metadata": {
    "button": false,
    "deletable": true,
    "new_sheet": false,
    "run_control": {
     "read_only": false
    }
   },
   "source": [
    "### Importing Needed packages"
   ]
  },
  {
   "cell_type": "code",
   "execution_count": 2,
   "metadata": {
    "button": false,
    "deletable": true,
    "new_sheet": false,
    "run_control": {
     "read_only": false
    }
   },
   "outputs": [],
   "source": [
    "import matplotlib.pyplot as plt\n",
    "import pandas as pd\n",
    "import pylab as pl\n",
    "import numpy as np\n",
    "import seaborn as sns\n",
    "%matplotlib inline"
   ]
  },
  {
   "cell_type": "markdown",
   "metadata": {
    "button": false,
    "deletable": true,
    "new_sheet": false,
    "run_control": {
     "read_only": false
    }
   },
   "source": [
    "### Downloading Data"
   ]
  },
  {
   "cell_type": "code",
   "execution_count": 5,
   "metadata": {
    "button": false,
    "deletable": true,
    "new_sheet": false,
    "run_control": {
     "read_only": false
    }
   },
   "outputs": [
    {
     "name": "stdout",
     "output_type": "stream",
     "text": [
      "zsh:1: command not found: wget\n"
     ]
    }
   ],
   "source": [
    "!wget -O FuelConsumption.csv https://s3-api.us-geo.objectstorage.softlayer.net/cf-courses-data/CognitiveClass/ML0101ENv3/labs/FuelConsumptionCo2.csv"
   ]
  },
  {
   "cell_type": "markdown",
   "metadata": {
    "button": false,
    "deletable": true,
    "new_sheet": false,
    "run_control": {
     "read_only": false
    }
   },
   "source": [
    "\n",
    "## Understanding the Data\n",
    "\n",
    "### `FuelConsumption.csv`:\n",
    "We have downloaded a fuel consumption dataset, **`FuelConsumption.csv`**, which contains model-specific fuel consumption ratings and estimated carbon dioxide emissions for new light-duty vehicles for retail sale in Canada. [Dataset source](https://open.canada.ca/data/en/dataset/98f1a129-f628-4ce4-b24d-6f16bf24dd64)\n",
    "\n",
    "- **MODELYEAR** e.g. 2014\n",
    "- **MAKE** e.g. Acura\n",
    "- **MODEL** e.g. ILX\n",
    "- **VEHICLE CLASS** e.g. SUV\n",
    "- **ENGINE SIZE** e.g. 4.7\n",
    "- **CYLINDERS** e.g 6\n",
    "- **TRANSMISSION** e.g. A6\n",
    "- **FUEL CONSUMPTION in CITY(L/100 km)** e.g. 9.9\n",
    "- **FUEL CONSUMPTION in HWY (L/100 km)** e.g. 8.9\n",
    "- **FUEL CONSUMPTION COMB (L/100 km)** e.g. 9.2\n",
    "- **CO2 EMISSIONS (g/km)** e.g. 182   --> low --> 0\n"
   ]
  },
  {
   "cell_type": "markdown",
   "metadata": {
    "button": false,
    "deletable": true,
    "new_sheet": false,
    "run_control": {
     "read_only": false
    }
   },
   "source": [
    "## Reading the data in"
   ]
  },
  {
   "cell_type": "code",
   "execution_count": 8,
   "metadata": {
    "button": false,
    "deletable": true,
    "new_sheet": false,
    "run_control": {
     "read_only": false
    }
   },
   "outputs": [
    {
     "data": {
      "text/html": [
       "<div>\n",
       "<style scoped>\n",
       "    .dataframe tbody tr th:only-of-type {\n",
       "        vertical-align: middle;\n",
       "    }\n",
       "\n",
       "    .dataframe tbody tr th {\n",
       "        vertical-align: top;\n",
       "    }\n",
       "\n",
       "    .dataframe thead th {\n",
       "        text-align: right;\n",
       "    }\n",
       "</style>\n",
       "<table border=\"1\" class=\"dataframe\">\n",
       "  <thead>\n",
       "    <tr style=\"text-align: right;\">\n",
       "      <th></th>\n",
       "      <th>MODELYEAR</th>\n",
       "      <th>MAKE</th>\n",
       "      <th>MODEL</th>\n",
       "      <th>VEHICLECLASS</th>\n",
       "      <th>ENGINESIZE</th>\n",
       "      <th>CYLINDERS</th>\n",
       "      <th>TRANSMISSION</th>\n",
       "      <th>FUELTYPE</th>\n",
       "      <th>FUELCONSUMPTION_CITY</th>\n",
       "      <th>FUELCONSUMPTION_HWY</th>\n",
       "      <th>FUELCONSUMPTION_COMB</th>\n",
       "      <th>FUELCONSUMPTION_COMB_MPG</th>\n",
       "      <th>CO2EMISSIONS</th>\n",
       "    </tr>\n",
       "  </thead>\n",
       "  <tbody>\n",
       "    <tr>\n",
       "      <th>0</th>\n",
       "      <td>2014</td>\n",
       "      <td>ACURA</td>\n",
       "      <td>ILX</td>\n",
       "      <td>COMPACT</td>\n",
       "      <td>2.0</td>\n",
       "      <td>4</td>\n",
       "      <td>AS5</td>\n",
       "      <td>Z</td>\n",
       "      <td>9.9</td>\n",
       "      <td>6.7</td>\n",
       "      <td>8.5</td>\n",
       "      <td>33</td>\n",
       "      <td>196</td>\n",
       "    </tr>\n",
       "    <tr>\n",
       "      <th>1</th>\n",
       "      <td>2014</td>\n",
       "      <td>ACURA</td>\n",
       "      <td>ILX</td>\n",
       "      <td>COMPACT</td>\n",
       "      <td>2.4</td>\n",
       "      <td>4</td>\n",
       "      <td>M6</td>\n",
       "      <td>Z</td>\n",
       "      <td>11.2</td>\n",
       "      <td>7.7</td>\n",
       "      <td>9.6</td>\n",
       "      <td>29</td>\n",
       "      <td>221</td>\n",
       "    </tr>\n",
       "    <tr>\n",
       "      <th>2</th>\n",
       "      <td>2014</td>\n",
       "      <td>ACURA</td>\n",
       "      <td>ILX HYBRID</td>\n",
       "      <td>COMPACT</td>\n",
       "      <td>1.5</td>\n",
       "      <td>4</td>\n",
       "      <td>AV7</td>\n",
       "      <td>Z</td>\n",
       "      <td>6.0</td>\n",
       "      <td>5.8</td>\n",
       "      <td>5.9</td>\n",
       "      <td>48</td>\n",
       "      <td>136</td>\n",
       "    </tr>\n",
       "    <tr>\n",
       "      <th>3</th>\n",
       "      <td>2014</td>\n",
       "      <td>ACURA</td>\n",
       "      <td>MDX 4WD</td>\n",
       "      <td>SUV - SMALL</td>\n",
       "      <td>3.5</td>\n",
       "      <td>6</td>\n",
       "      <td>AS6</td>\n",
       "      <td>Z</td>\n",
       "      <td>12.7</td>\n",
       "      <td>9.1</td>\n",
       "      <td>11.1</td>\n",
       "      <td>25</td>\n",
       "      <td>255</td>\n",
       "    </tr>\n",
       "    <tr>\n",
       "      <th>4</th>\n",
       "      <td>2014</td>\n",
       "      <td>ACURA</td>\n",
       "      <td>RDX AWD</td>\n",
       "      <td>SUV - SMALL</td>\n",
       "      <td>3.5</td>\n",
       "      <td>6</td>\n",
       "      <td>AS6</td>\n",
       "      <td>Z</td>\n",
       "      <td>12.1</td>\n",
       "      <td>8.7</td>\n",
       "      <td>10.6</td>\n",
       "      <td>27</td>\n",
       "      <td>244</td>\n",
       "    </tr>\n",
       "  </tbody>\n",
       "</table>\n",
       "</div>"
      ],
      "text/plain": [
       "   MODELYEAR   MAKE       MODEL VEHICLECLASS  ENGINESIZE  CYLINDERS  \\\n",
       "0       2014  ACURA         ILX      COMPACT         2.0          4   \n",
       "1       2014  ACURA         ILX      COMPACT         2.4          4   \n",
       "2       2014  ACURA  ILX HYBRID      COMPACT         1.5          4   \n",
       "3       2014  ACURA     MDX 4WD  SUV - SMALL         3.5          6   \n",
       "4       2014  ACURA     RDX AWD  SUV - SMALL         3.5          6   \n",
       "\n",
       "  TRANSMISSION FUELTYPE  FUELCONSUMPTION_CITY  FUELCONSUMPTION_HWY  \\\n",
       "0          AS5        Z                   9.9                  6.7   \n",
       "1           M6        Z                  11.2                  7.7   \n",
       "2          AV7        Z                   6.0                  5.8   \n",
       "3          AS6        Z                  12.7                  9.1   \n",
       "4          AS6        Z                  12.1                  8.7   \n",
       "\n",
       "   FUELCONSUMPTION_COMB  FUELCONSUMPTION_COMB_MPG  CO2EMISSIONS  \n",
       "0                   8.5                        33           196  \n",
       "1                   9.6                        29           221  \n",
       "2                   5.9                        48           136  \n",
       "3                  11.1                        25           255  \n",
       "4                  10.6                        27           244  "
      ]
     },
     "execution_count": 8,
     "metadata": {},
     "output_type": "execute_result"
    }
   ],
   "source": [
    "df = pd.read_csv(\"FuelConsumptionCo2.csv\")\n",
    "\n",
    "# take a look at the dataset\n",
    "df.head()"
   ]
  },
  {
   "cell_type": "markdown",
   "metadata": {
    "button": false,
    "deletable": true,
    "new_sheet": false,
    "run_control": {
     "read_only": false
    }
   },
   "source": [
    "### Data Exploration\n",
    "Lets first have a descriptive exploration on our data."
   ]
  },
  {
   "cell_type": "code",
   "execution_count": 9,
   "metadata": {
    "button": false,
    "deletable": true,
    "new_sheet": false,
    "run_control": {
     "read_only": false
    }
   },
   "outputs": [
    {
     "data": {
      "text/html": [
       "<div>\n",
       "<style scoped>\n",
       "    .dataframe tbody tr th:only-of-type {\n",
       "        vertical-align: middle;\n",
       "    }\n",
       "\n",
       "    .dataframe tbody tr th {\n",
       "        vertical-align: top;\n",
       "    }\n",
       "\n",
       "    .dataframe thead th {\n",
       "        text-align: right;\n",
       "    }\n",
       "</style>\n",
       "<table border=\"1\" class=\"dataframe\">\n",
       "  <thead>\n",
       "    <tr style=\"text-align: right;\">\n",
       "      <th></th>\n",
       "      <th>MODELYEAR</th>\n",
       "      <th>ENGINESIZE</th>\n",
       "      <th>CYLINDERS</th>\n",
       "      <th>FUELCONSUMPTION_CITY</th>\n",
       "      <th>FUELCONSUMPTION_HWY</th>\n",
       "      <th>FUELCONSUMPTION_COMB</th>\n",
       "      <th>FUELCONSUMPTION_COMB_MPG</th>\n",
       "      <th>CO2EMISSIONS</th>\n",
       "    </tr>\n",
       "  </thead>\n",
       "  <tbody>\n",
       "    <tr>\n",
       "      <th>count</th>\n",
       "      <td>1067.0</td>\n",
       "      <td>1067.000000</td>\n",
       "      <td>1067.000000</td>\n",
       "      <td>1067.000000</td>\n",
       "      <td>1067.000000</td>\n",
       "      <td>1067.000000</td>\n",
       "      <td>1067.000000</td>\n",
       "      <td>1067.000000</td>\n",
       "    </tr>\n",
       "    <tr>\n",
       "      <th>mean</th>\n",
       "      <td>2014.0</td>\n",
       "      <td>3.346298</td>\n",
       "      <td>5.794752</td>\n",
       "      <td>13.296532</td>\n",
       "      <td>9.474602</td>\n",
       "      <td>11.580881</td>\n",
       "      <td>26.441425</td>\n",
       "      <td>256.228679</td>\n",
       "    </tr>\n",
       "    <tr>\n",
       "      <th>std</th>\n",
       "      <td>0.0</td>\n",
       "      <td>1.415895</td>\n",
       "      <td>1.797447</td>\n",
       "      <td>4.101253</td>\n",
       "      <td>2.794510</td>\n",
       "      <td>3.485595</td>\n",
       "      <td>7.468702</td>\n",
       "      <td>63.372304</td>\n",
       "    </tr>\n",
       "    <tr>\n",
       "      <th>min</th>\n",
       "      <td>2014.0</td>\n",
       "      <td>1.000000</td>\n",
       "      <td>3.000000</td>\n",
       "      <td>4.600000</td>\n",
       "      <td>4.900000</td>\n",
       "      <td>4.700000</td>\n",
       "      <td>11.000000</td>\n",
       "      <td>108.000000</td>\n",
       "    </tr>\n",
       "    <tr>\n",
       "      <th>25%</th>\n",
       "      <td>2014.0</td>\n",
       "      <td>2.000000</td>\n",
       "      <td>4.000000</td>\n",
       "      <td>10.250000</td>\n",
       "      <td>7.500000</td>\n",
       "      <td>9.000000</td>\n",
       "      <td>21.000000</td>\n",
       "      <td>207.000000</td>\n",
       "    </tr>\n",
       "    <tr>\n",
       "      <th>50%</th>\n",
       "      <td>2014.0</td>\n",
       "      <td>3.400000</td>\n",
       "      <td>6.000000</td>\n",
       "      <td>12.600000</td>\n",
       "      <td>8.800000</td>\n",
       "      <td>10.900000</td>\n",
       "      <td>26.000000</td>\n",
       "      <td>251.000000</td>\n",
       "    </tr>\n",
       "    <tr>\n",
       "      <th>75%</th>\n",
       "      <td>2014.0</td>\n",
       "      <td>4.300000</td>\n",
       "      <td>8.000000</td>\n",
       "      <td>15.550000</td>\n",
       "      <td>10.850000</td>\n",
       "      <td>13.350000</td>\n",
       "      <td>31.000000</td>\n",
       "      <td>294.000000</td>\n",
       "    </tr>\n",
       "    <tr>\n",
       "      <th>max</th>\n",
       "      <td>2014.0</td>\n",
       "      <td>8.400000</td>\n",
       "      <td>12.000000</td>\n",
       "      <td>30.200000</td>\n",
       "      <td>20.500000</td>\n",
       "      <td>25.800000</td>\n",
       "      <td>60.000000</td>\n",
       "      <td>488.000000</td>\n",
       "    </tr>\n",
       "  </tbody>\n",
       "</table>\n",
       "</div>"
      ],
      "text/plain": [
       "       MODELYEAR   ENGINESIZE    CYLINDERS  FUELCONSUMPTION_CITY  \\\n",
       "count     1067.0  1067.000000  1067.000000           1067.000000   \n",
       "mean      2014.0     3.346298     5.794752             13.296532   \n",
       "std          0.0     1.415895     1.797447              4.101253   \n",
       "min       2014.0     1.000000     3.000000              4.600000   \n",
       "25%       2014.0     2.000000     4.000000             10.250000   \n",
       "50%       2014.0     3.400000     6.000000             12.600000   \n",
       "75%       2014.0     4.300000     8.000000             15.550000   \n",
       "max       2014.0     8.400000    12.000000             30.200000   \n",
       "\n",
       "       FUELCONSUMPTION_HWY  FUELCONSUMPTION_COMB  FUELCONSUMPTION_COMB_MPG  \\\n",
       "count          1067.000000           1067.000000               1067.000000   \n",
       "mean              9.474602             11.580881                 26.441425   \n",
       "std               2.794510              3.485595                  7.468702   \n",
       "min               4.900000              4.700000                 11.000000   \n",
       "25%               7.500000              9.000000                 21.000000   \n",
       "50%               8.800000             10.900000                 26.000000   \n",
       "75%              10.850000             13.350000                 31.000000   \n",
       "max              20.500000             25.800000                 60.000000   \n",
       "\n",
       "       CO2EMISSIONS  \n",
       "count   1067.000000  \n",
       "mean     256.228679  \n",
       "std       63.372304  \n",
       "min      108.000000  \n",
       "25%      207.000000  \n",
       "50%      251.000000  \n",
       "75%      294.000000  \n",
       "max      488.000000  "
      ]
     },
     "execution_count": 9,
     "metadata": {},
     "output_type": "execute_result"
    }
   ],
   "source": [
    "# summarize the data\n",
    "df.describe()"
   ]
  },
  {
   "cell_type": "markdown",
   "metadata": {},
   "source": [
    "Lets select some features to explore more."
   ]
  },
  {
   "cell_type": "code",
   "execution_count": 10,
   "metadata": {
    "button": false,
    "deletable": true,
    "new_sheet": false,
    "run_control": {
     "read_only": false
    }
   },
   "outputs": [
    {
     "data": {
      "text/html": [
       "<div>\n",
       "<style scoped>\n",
       "    .dataframe tbody tr th:only-of-type {\n",
       "        vertical-align: middle;\n",
       "    }\n",
       "\n",
       "    .dataframe tbody tr th {\n",
       "        vertical-align: top;\n",
       "    }\n",
       "\n",
       "    .dataframe thead th {\n",
       "        text-align: right;\n",
       "    }\n",
       "</style>\n",
       "<table border=\"1\" class=\"dataframe\">\n",
       "  <thead>\n",
       "    <tr style=\"text-align: right;\">\n",
       "      <th></th>\n",
       "      <th>ENGINESIZE</th>\n",
       "      <th>CYLINDERS</th>\n",
       "      <th>FUELCONSUMPTION_COMB</th>\n",
       "      <th>CO2EMISSIONS</th>\n",
       "    </tr>\n",
       "  </thead>\n",
       "  <tbody>\n",
       "    <tr>\n",
       "      <th>0</th>\n",
       "      <td>2.0</td>\n",
       "      <td>4</td>\n",
       "      <td>8.5</td>\n",
       "      <td>196</td>\n",
       "    </tr>\n",
       "    <tr>\n",
       "      <th>1</th>\n",
       "      <td>2.4</td>\n",
       "      <td>4</td>\n",
       "      <td>9.6</td>\n",
       "      <td>221</td>\n",
       "    </tr>\n",
       "    <tr>\n",
       "      <th>2</th>\n",
       "      <td>1.5</td>\n",
       "      <td>4</td>\n",
       "      <td>5.9</td>\n",
       "      <td>136</td>\n",
       "    </tr>\n",
       "    <tr>\n",
       "      <th>3</th>\n",
       "      <td>3.5</td>\n",
       "      <td>6</td>\n",
       "      <td>11.1</td>\n",
       "      <td>255</td>\n",
       "    </tr>\n",
       "    <tr>\n",
       "      <th>4</th>\n",
       "      <td>3.5</td>\n",
       "      <td>6</td>\n",
       "      <td>10.6</td>\n",
       "      <td>244</td>\n",
       "    </tr>\n",
       "    <tr>\n",
       "      <th>5</th>\n",
       "      <td>3.5</td>\n",
       "      <td>6</td>\n",
       "      <td>10.0</td>\n",
       "      <td>230</td>\n",
       "    </tr>\n",
       "    <tr>\n",
       "      <th>6</th>\n",
       "      <td>3.5</td>\n",
       "      <td>6</td>\n",
       "      <td>10.1</td>\n",
       "      <td>232</td>\n",
       "    </tr>\n",
       "    <tr>\n",
       "      <th>7</th>\n",
       "      <td>3.7</td>\n",
       "      <td>6</td>\n",
       "      <td>11.1</td>\n",
       "      <td>255</td>\n",
       "    </tr>\n",
       "    <tr>\n",
       "      <th>8</th>\n",
       "      <td>3.7</td>\n",
       "      <td>6</td>\n",
       "      <td>11.6</td>\n",
       "      <td>267</td>\n",
       "    </tr>\n",
       "  </tbody>\n",
       "</table>\n",
       "</div>"
      ],
      "text/plain": [
       "   ENGINESIZE  CYLINDERS  FUELCONSUMPTION_COMB  CO2EMISSIONS\n",
       "0         2.0          4                   8.5           196\n",
       "1         2.4          4                   9.6           221\n",
       "2         1.5          4                   5.9           136\n",
       "3         3.5          6                  11.1           255\n",
       "4         3.5          6                  10.6           244\n",
       "5         3.5          6                  10.0           230\n",
       "6         3.5          6                  10.1           232\n",
       "7         3.7          6                  11.1           255\n",
       "8         3.7          6                  11.6           267"
      ]
     },
     "execution_count": 10,
     "metadata": {},
     "output_type": "execute_result"
    }
   ],
   "source": [
    "cdf = df[['ENGINESIZE','CYLINDERS','FUELCONSUMPTION_COMB','CO2EMISSIONS']]\n",
    "cdf.head(9)"
   ]
  },
  {
   "cell_type": "markdown",
   "metadata": {},
   "source": [
    "we can plot each of these fearues:"
   ]
  },
  {
   "cell_type": "code",
   "execution_count": 11,
   "metadata": {
    "button": false,
    "deletable": true,
    "new_sheet": false,
    "run_control": {
     "read_only": false
    }
   },
   "outputs": [
    {
     "data": {
      "image/png": "[encoded data removed]",
      "text/plain": [
       "<Figure size 1080x576 with 4 Axes>"
      ]
     },
     "metadata": {
      "needs_background": "light"
     },
     "output_type": "display_data"
    }
   ],
   "source": [
    "viz = cdf[['CYLINDERS','ENGINESIZE','CO2EMISSIONS','FUELCONSUMPTION_COMB']]\n",
    "viz.hist(figsize=(15, 8))\n",
    "plt.show()"
   ]
  },
  {
   "cell_type": "markdown",
   "metadata": {},
   "source": [
    "Now, lets plot each of these features vs the Emission, to see how linear is their relation:"
   ]
  },
  {
   "cell_type": "code",
   "execution_count": 13,
   "metadata": {},
   "outputs": [
    {
     "data": {
      "image/png": "[encoded data removed]",
      "text/plain": [
       "<Figure size 432x288 with 2 Axes>"
      ]
     },
     "metadata": {
      "needs_background": "light"
     },
     "output_type": "display_data"
    }
   ],
   "source": [
    "sns.heatmap(cdf.corr(), cmap='Greens', annot=True)\n",
    "plt.xticks(rotation=30, ha='right');"
   ]
  },
  {
   "cell_type": "code",
   "execution_count": 14,
   "metadata": {},
   "outputs": [
    {
     "data": {
      "text/html": [
       "<style  type=\"text/css\" >\n",
       "    #T_fd424a92_e15b_11ea_bd7c_8c859051a7bbrow0_col0 {\n",
       "            background-color:  #b40426;\n",
       "            color:  #f1f1f1;\n",
       "        }    #T_fd424a92_e15b_11ea_bd7c_8c859051a7bbrow0_col1 {\n",
       "            background-color:  #f7aa8c;\n",
       "            color:  #000000;\n",
       "        }    #T_fd424a92_e15b_11ea_bd7c_8c859051a7bbrow0_col2 {\n",
       "            background-color:  #779af7;\n",
       "            color:  #000000;\n",
       "        }    #T_fd424a92_e15b_11ea_bd7c_8c859051a7bbrow0_col3 {\n",
       "            background-color:  #cbd8ee;\n",
       "            color:  #000000;\n",
       "        }    #T_fd424a92_e15b_11ea_bd7c_8c859051a7bbrow1_col0 {\n",
       "            background-color:  #f7aa8c;\n",
       "            color:  #000000;\n",
       "        }    #T_fd424a92_e15b_11ea_bd7c_8c859051a7bbrow1_col1 {\n",
       "            background-color:  #b40426;\n",
       "            color:  #f1f1f1;\n",
       "        }    #T_fd424a92_e15b_11ea_bd7c_8c859051a7bbrow1_col2 {\n",
       "            background-color:  #3b4cc0;\n",
       "            color:  #f1f1f1;\n",
       "        }    #T_fd424a92_e15b_11ea_bd7c_8c859051a7bbrow1_col3 {\n",
       "            background-color:  #a7c5fe;\n",
       "            color:  #000000;\n",
       "        }    #T_fd424a92_e15b_11ea_bd7c_8c859051a7bbrow2_col0 {\n",
       "            background-color:  #779af7;\n",
       "            color:  #000000;\n",
       "        }    #T_fd424a92_e15b_11ea_bd7c_8c859051a7bbrow2_col1 {\n",
       "            background-color:  #3b4cc0;\n",
       "            color:  #f1f1f1;\n",
       "        }    #T_fd424a92_e15b_11ea_bd7c_8c859051a7bbrow2_col2 {\n",
       "            background-color:  #b40426;\n",
       "            color:  #f1f1f1;\n",
       "        }    #T_fd424a92_e15b_11ea_bd7c_8c859051a7bbrow2_col3 {\n",
       "            background-color:  #e1dad6;\n",
       "            color:  #000000;\n",
       "        }    #T_fd424a92_e15b_11ea_bd7c_8c859051a7bbrow3_col0 {\n",
       "            background-color:  #cbd8ee;\n",
       "            color:  #000000;\n",
       "        }    #T_fd424a92_e15b_11ea_bd7c_8c859051a7bbrow3_col1 {\n",
       "            background-color:  #a7c5fe;\n",
       "            color:  #000000;\n",
       "        }    #T_fd424a92_e15b_11ea_bd7c_8c859051a7bbrow3_col2 {\n",
       "            background-color:  #e1dad6;\n",
       "            color:  #000000;\n",
       "        }    #T_fd424a92_e15b_11ea_bd7c_8c859051a7bbrow3_col3 {\n",
       "            background-color:  #b40426;\n",
       "            color:  #f1f1f1;\n",
       "        }</style><table id=\"T_fd424a92_e15b_11ea_bd7c_8c859051a7bb\" ><thead>    <tr>        <th class=\"blank level0\" ></th>        <th class=\"col_heading level0 col0\" >ENGINESIZE</th>        <th class=\"col_heading level0 col1\" >CYLINDERS</th>        <th class=\"col_heading level0 col2\" >FUELCONSUMPTION_COMB</th>        <th class=\"col_heading level0 col3\" >CO2EMISSIONS</th>    </tr></thead><tbody>\n",
       "                <tr>\n",
       "                        <th id=\"T_fd424a92_e15b_11ea_bd7c_8c859051a7bblevel0_row0\" class=\"row_heading level0 row0\" >ENGINESIZE</th>\n",
       "                        <td id=\"T_fd424a92_e15b_11ea_bd7c_8c859051a7bbrow0_col0\" class=\"data row0 col0\" >1.000000</td>\n",
       "                        <td id=\"T_fd424a92_e15b_11ea_bd7c_8c859051a7bbrow0_col1\" class=\"data row0 col1\" >0.934011</td>\n",
       "                        <td id=\"T_fd424a92_e15b_11ea_bd7c_8c859051a7bbrow0_col2\" class=\"data row0 col2\" >0.819482</td>\n",
       "                        <td id=\"T_fd424a92_e15b_11ea_bd7c_8c859051a7bbrow0_col3\" class=\"data row0 col3\" >0.874154</td>\n",
       "            </tr>\n",
       "            <tr>\n",
       "                        <th id=\"T_fd424a92_e15b_11ea_bd7c_8c859051a7bblevel0_row1\" class=\"row_heading level0 row1\" >CYLINDERS</th>\n",
       "                        <td id=\"T_fd424a92_e15b_11ea_bd7c_8c859051a7bbrow1_col0\" class=\"data row1 col0\" >0.934011</td>\n",
       "                        <td id=\"T_fd424a92_e15b_11ea_bd7c_8c859051a7bbrow1_col1\" class=\"data row1 col1\" >1.000000</td>\n",
       "                        <td id=\"T_fd424a92_e15b_11ea_bd7c_8c859051a7bbrow1_col2\" class=\"data row1 col2\" >0.776788</td>\n",
       "                        <td id=\"T_fd424a92_e15b_11ea_bd7c_8c859051a7bbrow1_col3\" class=\"data row1 col3\" >0.849685</td>\n",
       "            </tr>\n",
       "            <tr>\n",
       "                        <th id=\"T_fd424a92_e15b_11ea_bd7c_8c859051a7bblevel0_row2\" class=\"row_heading level0 row2\" >FUELCONSUMPTION_COMB</th>\n",
       "                        <td id=\"T_fd424a92_e15b_11ea_bd7c_8c859051a7bbrow2_col0\" class=\"data row2 col0\" >0.819482</td>\n",
       "                        <td id=\"T_fd424a92_e15b_11ea_bd7c_8c859051a7bbrow2_col1\" class=\"data row2 col1\" >0.776788</td>\n",
       "                        <td id=\"T_fd424a92_e15b_11ea_bd7c_8c859051a7bbrow2_col2\" class=\"data row2 col2\" >1.000000</td>\n",
       "                        <td id=\"T_fd424a92_e15b_11ea_bd7c_8c859051a7bbrow2_col3\" class=\"data row2 col3\" >0.892129</td>\n",
       "            </tr>\n",
       "            <tr>\n",
       "                        <th id=\"T_fd424a92_e15b_11ea_bd7c_8c859051a7bblevel0_row3\" class=\"row_heading level0 row3\" >CO2EMISSIONS</th>\n",
       "                        <td id=\"T_fd424a92_e15b_11ea_bd7c_8c859051a7bbrow3_col0\" class=\"data row3 col0\" >0.874154</td>\n",
       "                        <td id=\"T_fd424a92_e15b_11ea_bd7c_8c859051a7bbrow3_col1\" class=\"data row3 col1\" >0.849685</td>\n",
       "                        <td id=\"T_fd424a92_e15b_11ea_bd7c_8c859051a7bbrow3_col2\" class=\"data row3 col2\" >0.892129</td>\n",
       "                        <td id=\"T_fd424a92_e15b_11ea_bd7c_8c859051a7bbrow3_col3\" class=\"data row3 col3\" >1.000000</td>\n",
       "            </tr>\n",
       "    </tbody></table>"
      ],
      "text/plain": [
       "<pandas.io.formats.style.Styler at 0x7fe8d6891a30>"
      ]
     },
     "execution_count": 14,
     "metadata": {},
     "output_type": "execute_result"
    }
   ],
   "source": [
    "cdf.corr().style.background_gradient(cmap='coolwarm', axis=None)"
   ]
  },
  {
   "cell_type": "code",
   "execution_count": 15,
   "metadata": {},
   "outputs": [
    {
     "data": {
      "image/png": "[encoded data removed]",
      "text/plain": [
       "<Figure size 1440x720 with 3 Axes>"
      ]
     },
     "metadata": {
      "needs_background": "light"
     },
     "output_type": "display_data"
    }
   ],
   "source": [
    "plt.figure(figsize=(20, 10)) \n",
    "\n",
    "plt.subplot(221)\n",
    "plt.scatter(cdf.CYLINDERS, cdf.CO2EMISSIONS)\n",
    "plt.xlabel('CYLINDERS')\n",
    "plt.ylabel('CO2EMISSIONS')\n",
    "\n",
    "plt.subplot(222)\n",
    "plt.scatter(cdf.ENGINESIZE, cdf.CO2EMISSIONS)\n",
    "plt.xlabel('ENGINESIZE')\n",
    "plt.ylabel('CO2EMISSIONS')\n",
    "\n",
    "plt.subplot(223)\n",
    "plt.scatter(cdf.FUELCONSUMPTION_COMB, cdf.CO2EMISSIONS)\n",
    "plt.xlabel('FUELCONSUMPTION_COMB')\n",
    "plt.ylabel('CO2EMISSIONS')\n",
    "\n",
    "\n",
    "plt.show()"
   ]
  },
  {
   "cell_type": "markdown",
   "metadata": {
    "button": false,
    "deletable": true,
    "new_sheet": false,
    "run_control": {
     "read_only": false
    }
   },
   "source": [
    "#### Creating train and test dataset\n",
    "Train/Test Split involves splitting the dataset into training and testing sets respectively, which are mutually exclusive. After which, you train with the training set and test with the testing set. \n",
    "This will provide a more accurate evaluation on out-of-sample accuracy because the testing dataset is not part of the dataset that have been used to train the data. It is more realistic for real world problems.\n",
    "\n",
    "This means that we know the outcome of each data point in this dataset, making it great to test with! And since this data has not been used to train the model, the model has no knowledge of the outcome of these data points. So, in essence, it is truly an out-of-sample testing.\n",
    "\n",
    "Lets split our dataset into train and test sets, 80% of the entire data for training, and the 20% for testing. We create a mask to select random rows using __np.random.rand()__ function: "
   ]
  },
  {
   "cell_type": "code",
   "execution_count": 16,
   "metadata": {
    "button": false,
    "deletable": true,
    "new_sheet": false,
    "run_control": {
     "read_only": false
    }
   },
   "outputs": [],
   "source": [
    "msk = np.random.rand(len(df)) < 0.8\n",
    "train = cdf[msk]\n",
    "test = cdf[~msk]"
   ]
  },
  {
   "cell_type": "markdown",
   "metadata": {
    "button": false,
    "deletable": true,
    "new_sheet": false,
    "run_control": {
     "read_only": false
    }
   },
   "source": [
    "### Simple Regression Model\n",
    "Linear Regression fits a linear model with coefficients B = (B1, ..., Bn) to minimize the 'residual sum of squares' between the independent x in the dataset, and the dependent y by the linear approximation. "
   ]
  },
  {
   "cell_type": "markdown",
   "metadata": {
    "button": false,
    "deletable": true,
    "new_sheet": false,
    "run_control": {
     "read_only": false
    }
   },
   "source": [
    "#### Train data distribution"
   ]
  },
  {
   "cell_type": "code",
   "execution_count": 17,
   "metadata": {},
   "outputs": [
    {
     "data": {
      "text/plain": [
       "(1067, 2)"
      ]
     },
     "execution_count": 17,
     "metadata": {},
     "output_type": "execute_result"
    }
   ],
   "source": [
    "cdf[['ENGINESIZE', 'CO2EMISSIONS']].shape\n"
   ]
  },
  {
   "cell_type": "code",
   "execution_count": 19,
   "metadata": {
    "button": false,
    "new_sheet": false,
    "run_control": {
     "read_only": false
    }
   },
   "outputs": [
    {
     "data": {
      "image/png": "[encoded data removed]",
      "text/plain": [
       "<Figure size 432x288 with 1 Axes>"
      ]
     },
     "metadata": {
      "needs_background": "light"
     },
     "output_type": "display_data"
    }
   ],
   "source": [
    "plt.scatter(train.ENGINESIZE, train.CO2EMISSIONS,  color='blue')\n",
    "plt.xlabel(\"Engine size\")\n",
    "plt.ylabel(\"Emission\")\n",
    "plt.show()"
   ]
  },
  {
   "cell_type": "code",
   "execution_count": 20,
   "metadata": {},
   "outputs": [
    {
     "data": {
      "image/png": "[encoded data removed]",
      "text/plain": [
       "<Figure size 432x288 with 1 Axes>"
      ]
     },
     "metadata": {
      "needs_background": "light"
     },
     "output_type": "display_data"
    }
   ],
   "source": [
    "plt.scatter(test.ENGINESIZE, test.CO2EMISSIONS,  color='blue')\n",
    "plt.xlabel(\"Engine size\")\n",
    "plt.ylabel(\"Emission\")\n",
    "plt.show()"
   ]
  },
  {
   "cell_type": "markdown",
   "metadata": {
    "button": false,
    "deletable": true,
    "new_sheet": false,
    "run_control": {
     "read_only": false
    }
   },
   "source": [
    "#### Modeling\n",
    "Using sklearn package to model data."
   ]
  },
  {
   "cell_type": "code",
   "execution_count": 25,
   "metadata": {
    "button": false,
    "deletable": true,
    "new_sheet": false,
    "run_control": {
     "read_only": false
    }
   },
   "outputs": [
    {
     "name": "stdout",
     "output_type": "stream",
     "text": [
      "Coefficients:  [[38.79235052]]\n",
      "Intercept:  [126.43294806]\n"
     ]
    }
   ],
   "source": [
    "from sklearn import linear_model\n",
    "regr = linear_model.LinearRegression()\n",
    "train_x = np.asanyarray(train[['ENGINESIZE']])\n",
    "train_y = np.asanyarray(train[['CO2EMISSIONS']])\n",
    "regr.fit (train_x, train_y)\n",
    "# The coefficients\n",
    "print ('Coefficients: ', regr.coef_)\n",
    "print ('Intercept: ',regr.intercept_)"
   ]
  },
  {
   "cell_type": "markdown",
   "metadata": {},
   "source": [
    "As mentioned before, __Coefficient__ and __Intercept__ in the simple linear regression, are the parameters of the fit line. \n",
    "Given that it is a simple linear regression, with only 2 parameters, and knowing that the parameters are the intercept and slope of the line, sklearn can estimate them directly from our data. \n",
    "Notice that all of the data must be available to traverse and calculate the parameters.\n"
   ]
  },
  {
   "cell_type": "markdown",
   "metadata": {
    "button": false,
    "deletable": true,
    "new_sheet": false,
    "run_control": {
     "read_only": false
    }
   },
   "source": [
    "#### Plot outputs"
   ]
  },
  {
   "cell_type": "markdown",
   "metadata": {},
   "source": [
    "we can plot the fit line over the data:"
   ]
  },
  {
   "cell_type": "code",
   "execution_count": 26,
   "metadata": {
    "button": false,
    "deletable": true,
    "new_sheet": false,
    "run_control": {
     "read_only": false
    }
   },
   "outputs": [
    {
     "data": {
      "text/plain": [
       "Text(0, 0.5, 'Emission')"
      ]
     },
     "execution_count": 26,
     "metadata": {},
     "output_type": "execute_result"
    },
    {
     "data": {
      "image/png": "[encoded data removed]",
      "text/plain": [
       "<Figure size 432x288 with 1 Axes>"
      ]
     },
     "metadata": {
      "needs_background": "light"
     },
     "output_type": "display_data"
    }
   ],
   "source": [
    "plt.scatter(train.ENGINESIZE, train.CO2EMISSIONS,  color='blue')\n",
    "plt.plot(train_x, regr.coef_[0][0]*train_x + regr.intercept_[0], '-r')\n",
    "plt.xlabel(\"Engine size\")\n",
    "plt.ylabel(\"Emission\")"
   ]
  },
  {
   "cell_type": "code",
   "execution_count": 27,
   "metadata": {},
   "outputs": [],
   "source": [
    "import statsmodels.api as sm"
   ]
  },
  {
   "cell_type": "code",
   "execution_count": 31,
   "metadata": {},
   "outputs": [],
   "source": [
    "X = sm.add_constant(train_x)\n",
    "model = sm.OLS(train_y, X)\n",
    "results = model.fit()"
   ]
  },
  {
   "cell_type": "code",
   "execution_count": 32,
   "metadata": {},
   "outputs": [
    {
     "data": {
      "text/html": [
       "<table class=\"simpletable\">\n",
       "<caption>OLS Regression Results</caption>\n",
       "<tr>\n",
       "  <th>Dep. Variable:</th>            <td>y</td>        <th>  R-squared:         </th> <td>   0.763</td> \n",
       "</tr>\n",
       "<tr>\n",
       "  <th>Model:</th>                   <td>OLS</td>       <th>  Adj. R-squared:    </th> <td>   0.763</td> \n",
       "</tr>\n",
       "<tr>\n",
       "  <th>Method:</th>             <td>Least Squares</td>  <th>  F-statistic:       </th> <td>   2708.</td> \n",
       "</tr>\n",
       "<tr>\n",
       "  <th>Date:</th>             <td>Tue, 18 Aug 2020</td> <th>  Prob (F-statistic):</th> <td>2.57e-265</td>\n",
       "</tr>\n",
       "<tr>\n",
       "  <th>Time:</th>                 <td>21:24:01</td>     <th>  Log-Likelihood:    </th> <td> -4083.3</td> \n",
       "</tr>\n",
       "<tr>\n",
       "  <th>No. Observations:</th>      <td>   844</td>      <th>  AIC:               </th> <td>   8171.</td> \n",
       "</tr>\n",
       "<tr>\n",
       "  <th>Df Residuals:</th>          <td>   842</td>      <th>  BIC:               </th> <td>   8180.</td> \n",
       "</tr>\n",
       "<tr>\n",
       "  <th>Df Model:</th>              <td>     1</td>      <th>                     </th>     <td> </td>    \n",
       "</tr>\n",
       "<tr>\n",
       "  <th>Covariance Type:</th>      <td>nonrobust</td>    <th>                     </th>     <td> </td>    \n",
       "</tr>\n",
       "</table>\n",
       "<table class=\"simpletable\">\n",
       "<tr>\n",
       "    <td></td>       <th>coef</th>     <th>std err</th>      <th>t</th>      <th>P>|t|</th>  <th>[0.025</th>    <th>0.975]</th>  \n",
       "</tr>\n",
       "<tr>\n",
       "  <th>const</th> <td>  126.4329</td> <td>    2.695</td> <td>   46.911</td> <td> 0.000</td> <td>  121.143</td> <td>  131.723</td>\n",
       "</tr>\n",
       "<tr>\n",
       "  <th>x1</th>    <td>   38.7924</td> <td>    0.745</td> <td>   52.038</td> <td> 0.000</td> <td>   37.329</td> <td>   40.256</td>\n",
       "</tr>\n",
       "</table>\n",
       "<table class=\"simpletable\">\n",
       "<tr>\n",
       "  <th>Omnibus:</th>       <td>16.289</td> <th>  Durbin-Watson:     </th> <td>   0.894</td>\n",
       "</tr>\n",
       "<tr>\n",
       "  <th>Prob(Omnibus):</th> <td> 0.000</td> <th>  Jarque-Bera (JB):  </th> <td>  27.326</td>\n",
       "</tr>\n",
       "<tr>\n",
       "  <th>Skew:</th>          <td> 0.116</td> <th>  Prob(JB):          </th> <td>1.16e-06</td>\n",
       "</tr>\n",
       "<tr>\n",
       "  <th>Kurtosis:</th>      <td> 3.851</td> <th>  Cond. No.          </th> <td>    9.86</td>\n",
       "</tr>\n",
       "</table><br/><br/>Warnings:<br/>[1] Standard Errors assume that the covariance matrix of the errors is correctly specified."
      ],
      "text/plain": [
       "<class 'statsmodels.iolib.summary.Summary'>\n",
       "\"\"\"\n",
       "                            OLS Regression Results                            \n",
       "==============================================================================\n",
       "Dep. Variable:                      y   R-squared:                       0.763\n",
       "Model:                            OLS   Adj. R-squared:                  0.763\n",
       "Method:                 Least Squares   F-statistic:                     2708.\n",
       "Date:                Tue, 18 Aug 2020   Prob (F-statistic):          2.57e-265\n",
       "Time:                        21:24:01   Log-Likelihood:                -4083.3\n",
       "No. Observations:                 844   AIC:                             8171.\n",
       "Df Residuals:                     842   BIC:                             8180.\n",
       "Df Model:                           1                                         \n",
       "Covariance Type:            nonrobust                                         \n",
       "==============================================================================\n",
       "                 coef    std err          t      P>|t|      [0.025      0.975]\n",
       "------------------------------------------------------------------------------\n",
       "const        126.4329      2.695     46.911      0.000     121.143     131.723\n",
       "x1            38.7924      0.745     52.038      0.000      37.329      40.256\n",
       "==============================================================================\n",
       "Omnibus:                       16.289   Durbin-Watson:                   0.894\n",
       "Prob(Omnibus):                  0.000   Jarque-Bera (JB):               27.326\n",
       "Skew:                           0.116   Prob(JB):                     1.16e-06\n",
       "Kurtosis:                       3.851   Cond. No.                         9.86\n",
       "==============================================================================\n",
       "\n",
       "Warnings:\n",
       "[1] Standard Errors assume that the covariance matrix of the errors is correctly specified.\n",
       "\"\"\""
      ]
     },
     "execution_count": 32,
     "metadata": {},
     "output_type": "execute_result"
    }
   ],
   "source": [
    "results.summary()"
   ]
  },
  {
   "cell_type": "markdown",
   "metadata": {
    "button": false,
    "deletable": true,
    "new_sheet": false,
    "run_control": {
     "read_only": false
    }
   },
   "source": [
    "#### Evaluation\n",
    "we compare the actual values and predicted values to calculate the accuracy of a regression model. Evaluation metrics provide a key role in the development of a model, as it provides insight to areas that require improvement.\n",
    "\n",
    "There are different model evaluation metrics, lets use MSE here to calculate the accuracy of our model based on the test set: \n",
    "    - Mean absolute error: It is the mean of the absolute value of the errors. This is the easiest of the metrics to understand since it’s just average error.\n",
    "    - Mean Squared Error (MSE): Mean Squared Error (MSE) is the mean of the squared error. It’s more popular than Mean absolute error because the focus is geared more towards large errors. This is due to the squared term exponentially increasing larger errors in comparison to smaller ones.\n",
    "    - Root Mean Squared Error (RMSE).\n",
    "    - R-squared is not error, but is a popular metric for accuracy of your model. It represents how close the data are to the fitted regression line. The higher the R-squared, the better the model fits your data. Best possible score is 1.0 and it can be negative (because the model can be arbitrarily worse).\n"
   ]
  },
  {
   "cell_type": "code",
   "execution_count": 33,
   "metadata": {
    "button": false,
    "deletable": true,
    "new_sheet": false,
    "run_control": {
     "read_only": false
    },
    "scrolled": true
   },
   "outputs": [
    {
     "name": "stdout",
     "output_type": "stream",
     "text": [
      "Mean absolute error: 22.94\n",
      "Residual sum of squares (MSE): 998.44\n",
      "R2-score: 0.67\n"
     ]
    }
   ],
   "source": [
    "from sklearn.metrics import r2_score\n",
    "\n",
    "test_x = np.asanyarray(test[['ENGINESIZE']])\n",
    "test_y = np.asanyarray(test[['CO2EMISSIONS']])\n",
    "test_y_ = regr.predict(test_x)\n",
    "\n",
    "print(\"Mean absolute error: %.2f\" % np.mean(np.absolute(test_y_ - test_y)))\n",
    "print(\"Residual sum of squares (MSE): %.2f\" % np.mean((test_y_ - test_y) ** 2))\n",
    "print(\"R2-score: %.2f\" % r2_score(test_y_ , test_y) )"
   ]
  },
  {
   "cell_type": "markdown",
   "metadata": {},
   "source": [
    "<h1 style='color:red'>Simple Linear Regression Using Gradient Descent</h1>"
   ]
  },
  {
   "cell_type": "markdown",
   "metadata": {},
   "source": [
    "### y = a + b*x"
   ]
  },
  {
   "cell_type": "code",
   "execution_count": 34,
   "metadata": {},
   "outputs": [
    {
     "data": {
      "text/plain": [
       "(844, 1)"
      ]
     },
     "execution_count": 34,
     "metadata": {},
     "output_type": "execute_result"
    }
   ],
   "source": [
    "train_x.shape\n",
    "# np.zeros((862, 1)).shape"
   ]
  },
  {
   "cell_type": "code",
   "execution_count": 43,
   "metadata": {},
   "outputs": [
    {
     "name": "stdout",
     "output_type": "stream",
     "text": [
      "Mean squared error at epochs:  10 is:  6069401.548027683\n",
      "Mean squared error at epochs:  20 is:  2431476.93782345\n",
      "Mean squared error at epochs:  30 is:  2210685.893228556\n",
      "Mean squared error at epochs:  40 is:  2161816.3186562965\n",
      "Mean squared error at epochs:  50 is:  2122608.3062086077\n",
      "Mean squared error at epochs:  60 is:  2084920.3416070812\n",
      "Mean squared error at epochs:  70 is:  2048316.1751919223\n",
      "Mean squared error at epochs:  80 is:  2012745.5705084717\n",
      "Mean squared error at epochs:  90 is:  1978178.3898957274\n",
      "Mean squared error at epochs:  100 is:  1944586.279717137\n",
      "Mean squared error at epochs:  110 is:  1911941.7328190082\n",
      "Mean squared error at epochs:  120 is:  1880218.0203007562\n",
      "Mean squared error at epochs:  130 is:  1849389.1673448333\n",
      "Mean squared error at epochs:  140 is:  1819429.9318347836\n",
      "Mean squared error at epochs:  150 is:  1790315.7836817447\n",
      "Mean squared error at epochs:  160 is:  1762022.884739352\n",
      "Mean squared error at epochs:  170 is:  1734528.0692854812\n",
      "Mean squared error at epochs:  180 is:  1707808.825054567\n",
      "Mean squared error at epochs:  190 is:  1681843.2748049553\n",
      "Mean squared error at epochs:  200 is:  1656610.1584062125\n",
      "Mean squared error at epochs:  210 is:  1632088.8154317068\n",
      "Mean squared error at epochs:  220 is:  1608259.1682422173\n",
      "Mean squared error at epochs:  230 is:  1585101.705546723\n",
      "Mean squared error at epochs:  240 is:  1562597.4664269034\n",
      "Mean squared error at epochs:  250 is:  1540728.0248122765\n",
      "Mean squared error at epochs:  260 is:  1519475.4743932593\n",
      "Mean squared error at epochs:  270 is:  1498822.413959802\n",
      "Mean squared error at epochs:  280 is:  1478751.9331535846\n",
      "Mean squared error at epochs:  290 is:  1459247.598622119\n",
      "Mean squared error at epochs:  300 is:  1440293.4405634091\n",
      "Mean squared error at epochs:  310 is:  1421873.9396501663\n",
      "Mean squared error at epochs:  320 is:  1403974.014322855\n",
      "Mean squared error at epochs:  330 is:  1386579.0084411819\n",
      "Mean squared error at epochs:  340 is:  1369674.6792839128\n",
      "Mean squared error at epochs:  350 is:  1353247.1858871789\n",
      "Mean squared error at epochs:  360 is:  1337283.077711749\n",
      "Mean squared error at epochs:  370 is:  1321769.2836299636\n",
      "Mean squared error at epochs:  380 is:  1306693.101223327\n",
      "Mean squared error at epochs:  390 is:  1292042.186381997\n",
      "Mean squared error at epochs:  400 is:  1277804.5431976444\n",
      "Mean squared error at epochs:  410 is:  1263968.5141414176\n",
      "Mean squared error at epochs:  420 is:  1250522.7705189667\n",
      "Mean squared error at epochs:  430 is:  1237456.3031947073\n",
      "Mean squared error at epochs:  440 is:  1224758.4135777396\n",
      "Mean squared error at epochs:  450 is:  1212418.7048620293\n",
      "Mean squared error at epochs:  460 is:  1200427.0735136906\n",
      "Mean squared error at epochs:  470 is:  1188773.7009983924\n",
      "Mean squared error at epochs:  480 is:  1177449.0457421134\n",
      "Mean squared error at epochs:  490 is:  1166443.8353186757\n",
      "Mean squared error at epochs:  500 is:  1155749.058857645\n",
      "Mean squared error at epochs:  510 is:  1145355.9596663907\n",
      "Mean squared error at epochs:  520 is:  1135256.0280602602\n",
      "Mean squared error at epochs:  530 is:  1125440.994395005\n",
      "Mean squared error at epochs:  540 is:  1115902.8222957375\n",
      "Mean squared error at epochs:  550 is:  1106633.7020768945\n",
      "Mean squared error at epochs:  560 is:  1097626.044347804\n",
      "Mean squared error at epochs:  570 is:  1088872.4737986273\n",
      "Mean squared error at epochs:  580 is:  1080365.8231615857\n",
      "Mean squared error at epochs:  590 is:  1072099.1273425317\n",
      "Mean squared error at epochs:  600 is:  1064065.6177180505\n",
      "Mean squared error at epochs:  610 is:  1056258.7165934355\n",
      "Mean squared error at epochs:  620 is:  1048672.031816985\n",
      "Mean squared error at epochs:  630 is:  1041299.3515462248\n",
      "Mean squared error at epochs:  640 is:  1034134.6391617608\n",
      "Mean squared error at epochs:  650 is:  1027172.0283246042\n",
      "Mean squared error at epochs:  660 is:  1020405.8181729143\n",
      "Mean squared error at epochs:  670 is:  1013830.4686542386\n",
      "Mean squared error at epochs:  680 is:  1007440.595989412\n",
      "Mean squared error at epochs:  690 is:  1001230.9682644189\n",
      "Mean squared error at epochs:  700 is:  995196.5011465894\n",
      "Mean squared error at epochs:  710 is:  989332.2537216442\n",
      "Mean squared error at epochs:  720 is:  983633.4244481577\n",
      "Mean squared error at epochs:  730 is:  978095.347226143\n",
      "Mean squared error at epochs:  740 is:  972713.4875765326\n",
      "Mean squared error at epochs:  750 is:  967483.4389284265\n",
      "Mean squared error at epochs:  760 is:  962400.9190110704\n",
      "Mean squared error at epochs:  770 is:  957461.7663476109\n",
      "Mean squared error at epochs:  780 is:  952661.9368477488\n",
      "Mean squared error at epochs:  790 is:  947997.5004965124\n",
      "Mean squared error at epochs:  800 is:  943464.6381364306\n",
      "Mean squared error at epochs:  810 is:  939059.6383404747\n",
      "Mean squared error at epochs:  820 is:  934778.8943732076\n",
      "Mean squared error at epochs:  830 is:  930618.901237654\n",
      "Mean squared error at epochs:  840 is:  926576.2528054694\n",
      "Mean squared error at epochs:  850 is:  922647.6390280654\n",
      "Mean squared error at epochs:  860 is:  918829.8432263982\n",
      "Mean squared error at epochs:  870 is:  915119.7394572112\n",
      "Mean squared error at epochs:  880 is:  911514.2899535673\n",
      "Mean squared error at epochs:  890 is:  908010.5426375787\n",
      "Mean squared error at epochs:  900 is:  904605.6287032999\n",
      "Mean squared error at epochs:  910 is:  901296.7602677988\n",
      "Mean squared error at epochs:  920 is:  898081.2280884882\n",
      "Mean squared error at epochs:  930 is:  894956.3993448468\n",
      "Mean squared error at epochs:  940 is:  891919.7154827126\n",
      "Mean squared error at epochs:  950 is:  888968.6901193829\n",
      "Mean squared error at epochs:  960 is:  886100.9070078094\n",
      "Mean squared error at epochs:  970 is:  883314.0180582191\n",
      "Mean squared error at epochs:  980 is:  880605.741415538\n",
      "Mean squared error at epochs:  990 is:  877973.8595910504\n",
      "Mean squared error at epochs:  1000 is:  875416.2176467587\n",
      "Mean squared error at epochs:  1010 is:  872930.7214309566\n",
      "Mean squared error at epochs:  1020 is:  870515.3358635777\n",
      "Mean squared error at epochs:  1030 is:  868168.083269906\n",
      "Mean squared error at epochs:  1040 is:  865887.0417612918\n",
      "Mean squared error at epochs:  1050 is:  863670.3436615434\n",
      "Mean squared error at epochs:  1060 is:  861516.1739777083\n",
      "Mean squared error at epochs:  1070 is:  859422.7689139866\n",
      "Mean squared error at epochs:  1080 is:  857388.4144275689\n",
      "Mean squared error at epochs:  1090 is:  855411.4448252067\n",
      "Mean squared error at epochs:  1100 is:  853490.2413993743\n",
      "Mean squared error at epochs:  1110 is:  851623.231102898\n",
      "Mean squared error at epochs:  1120 is:  849808.885260975\n",
      "Mean squared error at epochs:  1130 is:  848045.7183195191\n",
      "Mean squared error at epochs:  1140 is:  846332.2866288181\n",
      "Mean squared error at epochs:  1150 is:  844667.1872614978\n",
      "Mean squared error at epochs:  1160 is:  843049.0568638302\n",
      "Mean squared error at epochs:  1170 is:  841476.5705394435\n",
      "Mean squared error at epochs:  1180 is:  839948.4407645206\n",
      "Mean squared error at epochs:  1190 is:  838463.4163335987\n",
      "Mean squared error at epochs:  1200 is:  837020.281335102\n",
      "Mean squared error at epochs:  1210 is:  835617.8541557782\n",
      "Mean squared error at epochs:  1220 is:  834254.9865132107\n",
      "Mean squared error at epochs:  1230 is:  832930.5625156297\n",
      "Mean squared error at epochs:  1240 is:  831643.497748237\n",
      "Mean squared error at epochs:  1250 is:  830392.7383853067\n",
      "Mean squared error at epochs:  1260 is:  829177.2603273317\n",
      "Mean squared error at epochs:  1270 is:  827996.0683625108\n",
      "Mean squared error at epochs:  1280 is:  826848.1953518845\n",
      "Mean squared error at epochs:  1290 is:  825732.7014374611\n",
      "Mean squared error at epochs:  1300 is:  824648.6732726749\n",
      "Mean squared error at epochs:  1310 is:  823595.223274558\n",
      "Mean squared error at epochs:  1320 is:  822571.4888969997\n",
      "Mean squared error at epochs:  1330 is:  821576.6319245117\n",
      "Mean squared error at epochs:  1340 is:  820609.83778591\n",
      "Mean squared error at epochs:  1350 is:  819670.3148873596\n",
      "Mean squared error at epochs:  1360 is:  818757.2939642329\n",
      "Mean squared error at epochs:  1370 is:  817870.0274512465\n",
      "Mean squared error at epochs:  1380 is:  817007.7888703705\n",
      "Mean squared error at epochs:  1390 is:  816169.8722359999\n",
      "Mean squared error at epochs:  1400 is:  815355.591476907\n",
      "Mean squared error at epochs:  1410 is:  814564.2798744983\n",
      "Mean squared error at epochs:  1420 is:  813795.2895169165\n",
      "Mean squared error at epochs:  1430 is:  813047.9907685427\n",
      "Mean squared error at epochs:  1440 is:  812321.7717544617\n",
      "Mean squared error at epochs:  1450 is:  811616.0378594687\n",
      "Mean squared error at epochs:  1460 is:  810930.2112412109\n",
      "Mean squared error at epochs:  1470 is:  810263.7303570588\n",
      "Mean squared error at epochs:  1480 is:  809616.049504326\n",
      "Mean squared error at epochs:  1490 is:  808986.6383734568\n",
      "Mean squared error at epochs:  1500 is:  808374.9816138195\n",
      "Mean squared error at epochs:  1510 is:  807780.5784117443\n",
      "Mean squared error at epochs:  1520 is:  807202.9420804683\n",
      "Mean squared error at epochs:  1530 is:  806641.5996616438\n",
      "Mean squared error at epochs:  1540 is:  806096.0915380884\n",
      "Mean squared error at epochs:  1550 is:  805565.9710574588\n",
      "Mean squared error at epochs:  1560 is:  805050.8041665402\n",
      "Mean squared error at epochs:  1570 is:  804550.1690558505\n",
      "Mean squared error at epochs:  1580 is:  804063.6558142714\n",
      "Mean squared error at epochs:  1590 is:  803590.8660934187\n",
      "Mean squared error at epochs:  1600 is:  803131.4127814835\n",
      "Mean squared error at epochs:  1610 is:  802684.919686271\n",
      "Mean squared error at epochs:  1620 is:  802251.0212271806\n",
      "Mean squared error at epochs:  1630 is:  801829.3621358769\n",
      "Mean squared error at epochs:  1640 is:  801419.5971653997\n",
      "Mean squared error at epochs:  1650 is:  801021.3908074835\n",
      "Mean squared error at epochs:  1660 is:  800634.4170178501\n",
      "Mean squared error at epochs:  1670 is:  800258.3589492469\n",
      "Mean squared error at epochs:  1680 is:  799892.9086920206\n",
      "Mean squared error at epochs:  1690 is:  799537.7670220041\n",
      "Mean squared error at epochs:  1700 is:  799192.6431555182\n",
      "Mean squared error at epochs:  1710 is:  798857.254511284\n",
      "Mean squared error at epochs:  1720 is:  798531.326479048\n",
      "Mean squared error at epochs:  1730 is:  798214.592194738\n",
      "Mean squared error at epochs:  1740 is:  797906.792321959\n",
      "Mean squared error at epochs:  1750 is:  797607.6748396531\n",
      "Mean squared error at epochs:  1760 is:  797316.9948357493\n",
      "Mean squared error at epochs:  1770 is:  797034.5143066337\n",
      "Mean squared error at epochs:  1780 is:  796760.0019622762\n",
      "Mean squared error at epochs:  1790 is:  796493.2330368545\n",
      "Mean squared error at epochs:  1800 is:  796233.9891047208\n",
      "Mean squared error at epochs:  1810 is:  795982.0579015566\n",
      "Mean squared error at epochs:  1820 is:  795737.2331505767\n",
      "Mean squared error at epochs:  1830 is:  795499.3143936326\n",
      "Mean squared error at epochs:  1840 is:  795268.1068270794\n",
      "Mean squared error at epochs:  1850 is:  795043.4211422771\n",
      "Mean squared error at epochs:  1860 is:  794825.0733705855\n",
      "Mean squared error at epochs:  1870 is:  794612.8847327355\n",
      "Mean squared error at epochs:  1880 is:  794406.681492446\n",
      "Mean squared error at epochs:  1890 is:  794206.294814174\n",
      "Mean squared error at epochs:  1900 is:  794011.5606248737\n",
      "Mean squared error at epochs:  1910 is:  793822.3194796566\n",
      "Mean squared error at epochs:  1920 is:  793638.4164312412\n",
      "Mean squared error at epochs:  1930 is:  793459.7009030837\n",
      "Mean squared error at epochs:  1940 is:  793286.026566091\n",
      "Mean squared error at epochs:  1950 is:  793117.2512188063\n",
      "Mean squared error at epochs:  1960 is:  792953.2366709793\n",
      "Mean squared error at epochs:  1970 is:  792793.8486304168\n",
      "Mean squared error at epochs:  1980 is:  792638.9565930283\n",
      "Mean squared error at epochs:  1990 is:  792488.43373597\n",
      "Mean squared error at epochs:  2000 is:  792342.1568138055\n",
      "Mean squared error at epochs:  2010 is:  792200.0060575936\n",
      "Mean squared error at epochs:  2020 is:  792061.865076826\n",
      "Mean squared error at epochs:  2030 is:  791927.6207641256\n",
      "Mean squared error at epochs:  2040 is:  791797.1632026383\n",
      "Mean squared error at epochs:  2050 is:  791670.3855760347\n",
      "Mean squared error at epochs:  2060 is:  791547.1840810501\n",
      "Mean squared error at epochs:  2070 is:  791427.4578424932\n",
      "Mean squared error at epochs:  2080 is:  791311.1088306508\n",
      "Mean squared error at epochs:  2090 is:  791198.0417810227\n",
      "Mean squared error at epochs:  2100 is:  791088.1641163207\n",
      "Mean squared error at epochs:  2110 is:  790981.3858706681\n",
      "Mean squared error at epochs:  2120 is:  790877.6196159384\n",
      "Mean squared error at epochs:  2130 is:  790776.7803901688\n",
      "Mean squared error at epochs:  2140 is:  790678.7856279956\n",
      "Mean squared error at epochs:  2150 is:  790583.5550930516\n",
      "Mean squared error at epochs:  2160 is:  790491.01081227\n",
      "Mean squared error at epochs:  2170 is:  790401.07701204\n",
      "Mean squared error at epochs:  2180 is:  790313.6800561671\n",
      "Mean squared error at epochs:  2190 is:  790228.7483855791\n",
      "Mean squared error at epochs:  2200 is:  790146.2124597358\n",
      "Mean squared error at epochs:  2210 is:  790066.0046996897\n",
      "Mean squared error at epochs:  2220 is:  789988.0594327545\n",
      "Mean squared error at epochs:  2230 is:  789912.3128387328\n",
      "Mean squared error at epochs:  2240 is:  789838.7028976616\n",
      "Mean squared error at epochs:  2250 is:  789767.1693390309\n",
      "Mean squared error at epochs:  2260 is:  789697.6535924363\n",
      "Mean squared error at epochs:  2270 is:  789630.0987396215\n",
      "Mean squared error at epochs:  2280 is:  789564.4494678753\n",
      "Mean squared error at epochs:  2290 is:  789500.6520247424\n",
      "Mean squared error at epochs:  2300 is:  789438.6541740117\n",
      "Mean squared error at epochs:  2310 is:  789378.4051529465\n",
      "Mean squared error at epochs:  2320 is:  789319.8556307205\n",
      "Mean squared error at epochs:  2330 is:  789262.9576680269\n",
      "Mean squared error at epochs:  2340 is:  789207.6646778269\n",
      "Mean squared error at epochs:  2350 is:  789153.9313872035\n",
      "Mean squared error at epochs:  2360 is:  789101.713800295\n",
      "Mean squared error at epochs:  2370 is:  789050.9691622704\n",
      "Mean squared error at epochs:  2380 is:  789001.6559243235\n",
      "Mean squared error at epochs:  2390 is:  788953.7337096523\n",
      "Mean squared error at epochs:  2400 is:  788907.1632804006\n",
      "Mean squared error at epochs:  2410 is:  788861.9065055295\n",
      "Mean squared error at epochs:  2420 is:  788817.9263295974\n",
      "Mean squared error at epochs:  2430 is:  788775.1867424189\n",
      "Mean squared error at epochs:  2440 is:  788733.6527495803\n",
      "Mean squared error at epochs:  2450 is:  788693.2903437882\n",
      "Mean squared error at epochs:  2460 is:  788654.0664770226\n",
      "Mean squared error at epochs:  2470 is:  788615.9490334793\n",
      "Mean squared error at epochs:  2480 is:  788578.9068032741\n",
      "Mean squared error at epochs:  2490 is:  788542.9094568883\n",
      "Mean squared error at epochs:  2500 is:  788507.9275203352\n",
      "Mean squared error at epochs:  2510 is:  788473.9323510276\n",
      "Mean squared error at epochs:  2520 is:  788440.8961143261\n",
      "Mean squared error at epochs:  2530 is:  788408.7917607478\n",
      "Mean squared error at epochs:  2540 is:  788377.5930038195\n",
      "Mean squared error at epochs:  2550 is:  788347.274298554\n",
      "Mean squared error at epochs:  2560 is:  788317.8108205358\n",
      "Mean squared error at epochs:  2570 is:  788289.1784455928\n",
      "Mean squared error at epochs:  2580 is:  788261.3537300458\n",
      "Mean squared error at epochs:  2590 is:  788234.3138915135\n",
      "Mean squared error at epochs:  2600 is:  788208.0367902567\n",
      "Mean squared error at epochs:  2610 is:  788182.5009110534\n",
      "Mean squared error at epochs:  2620 is:  788157.6853455792\n",
      "Mean squared error at epochs:  2630 is:  788133.5697752916\n",
      "Mean squared error at epochs:  2640 is:  788110.1344547898\n",
      "Mean squared error at epochs:  2650 is:  788087.3601956517\n",
      "Mean squared error at epochs:  2660 is:  788065.2283507183\n",
      "Mean squared error at epochs:  2670 is:  788043.7207988293\n",
      "Mean squared error at epochs:  2680 is:  788022.8199299837\n",
      "Mean squared error at epochs:  2690 is:  788002.5086309223\n",
      "Mean squared error at epochs:  2700 is:  787982.7702711151\n",
      "Mean squared error at epochs:  2710 is:  787963.5886891437\n",
      "Mean squared error at epochs:  2720 is:  787944.9481794706\n",
      "Mean squared error at epochs:  2730 is:  787926.8334795784\n",
      "Mean squared error at epochs:  2740 is:  787909.2297574728\n",
      "Mean squared error at epochs:  2750 is:  787892.1225995397\n",
      "Mean squared error at epochs:  2760 is:  787875.4979987426\n",
      "Mean squared error at epochs:  2770 is:  787859.3423431541\n",
      "Mean squared error at epochs:  2780 is:  787843.6424048113\n",
      "Mean squared error at epochs:  2790 is:  787828.3853288835\n",
      "Mean squared error at epochs:  2800 is:  787813.558623149\n",
      "Mean squared error at epochs:  2810 is:  787799.1501477647\n",
      "Mean squared error at epochs:  2820 is:  787785.1481053275\n",
      "Mean squared error at epochs:  2830 is:  787771.5410312143\n",
      "Mean squared error at epochs:  2840 is:  787758.317784195\n",
      "Mean squared error at epochs:  2850 is:  787745.4675373101\n",
      "Mean squared error at epochs:  2860 is:  787732.9797690064\n",
      "Mean squared error at epochs:  2870 is:  787720.8442545207\n",
      "Mean squared error at epochs:  2880 is:  787709.0510575109\n",
      "Mean squared error at epochs:  2890 is:  787697.5905219164\n",
      "Mean squared error at epochs:  2900 is:  787686.453264055\n",
      "Mean squared error at epochs:  2910 is:  787675.6301649378\n",
      "Mean squared error at epochs:  2920 is:  787665.1123628041\n",
      "Mean squared error at epochs:  2930 is:  787654.8912458647\n",
      "Mean squared error at epochs:  2940 is:  787644.9584452508\n",
      "Mean squared error at epochs:  2950 is:  787635.305828162\n",
      "Mean squared error at epochs:  2960 is:  787625.9254912077\n",
      "Mean squared error at epochs:  2970 is:  787616.8097539344\n",
      "Mean squared error at epochs:  2980 is:  787607.951152539\n",
      "Mean squared error at epochs:  2990 is:  787599.342433756\n",
      "Mean squared error at epochs:  3000 is:  787590.9765489197\n",
      "Mean squared error at epochs:  3010 is:  787582.8466481928\n",
      "Mean squared error at epochs:  3020 is:  787574.9460749573\n",
      "Mean squared error at epochs:  3030 is:  787567.268360364\n",
      "Mean squared error at epochs:  3040 is:  787559.8072180371\n",
      "Mean squared error at epochs:  3050 is:  787552.5565389262\n",
      "Mean squared error at epochs:  3060 is:  787545.510386304\n",
      "Mean squared error at epochs:  3070 is:  787538.6629909062\n",
      "Mean squared error at epochs:  3080 is:  787532.0087462073\n",
      "Mean squared error at epochs:  3090 is:  787525.5422038303\n",
      "Mean squared error at epochs:  3100 is:  787519.2580690854\n",
      "Mean squared error at epochs:  3110 is:  787513.151196635\n",
      "Mean squared error at epochs:  3120 is:  787507.2165862799\n",
      "Mean squared error at epochs:  3130 is:  787501.4493788679\n",
      "Mean squared error at epochs:  3140 is:  787495.8448523113\n",
      "Mean squared error at epochs:  3150 is:  787490.3984177238\n",
      "Mean squared error at epochs:  3160 is:  787485.105615662\n",
      "Mean squared error at epochs:  3170 is:  787479.9621124731\n",
      "Mean squared error at epochs:  3180 is:  787474.9636967487\n",
      "Mean squared error at epochs:  3190 is:  787470.1062758749\n",
      "Mean squared error at epochs:  3200 is:  787465.3858726819\n",
      "Mean squared error at epochs:  3210 is:  787460.7986221875\n",
      "Mean squared error at epochs:  3220 is:  787456.340768433\n",
      "Mean squared error at epochs:  3230 is:  787452.0086614063\n",
      "Mean squared error at epochs:  3240 is:  787447.7987540561\n",
      "Mean squared error at epochs:  3250 is:  787443.7075993847\n",
      "Mean squared error at epochs:  3260 is:  787439.7318476278\n",
      "Mean squared error at epochs:  3270 is:  787435.8682435103\n",
      "Mean squared error at epochs:  3280 is:  787432.1136235821\n",
      "Mean squared error at epochs:  3290 is:  787428.464913627\n",
      "Mean squared error at epochs:  3300 is:  787424.9191261466\n",
      "Mean squared error at epochs:  3310 is:  787421.473357913\n",
      "Mean squared error at epochs:  3320 is:  787418.1247875921\n",
      "Mean squared error at epochs:  3330 is:  787414.8706734349\n",
      "Mean squared error at epochs:  3340 is:  787411.7083510301\n",
      "Mean squared error at epochs:  3350 is:  787408.6352311247\n",
      "Mean squared error at epochs:  3360 is:  787405.6487975025\n",
      "Mean squared error at epochs:  3370 is:  787402.7466049249\n",
      "Mean squared error at epochs:  3380 is:  787399.9262771287\n",
      "Mean squared error at epochs:  3390 is:  787397.1855048789\n",
      "Mean squared error at epochs:  3400 is:  787394.5220440803\n",
      "Mean squared error at epochs:  3410 is:  787391.9337139392\n",
      "Mean squared error at epochs:  3420 is:  787389.4183951762\n",
      "Mean squared error at epochs:  3430 is:  787386.9740282933\n",
      "Mean squared error at epochs:  3440 is:  787384.5986118863\n",
      "Mean squared error at epochs:  3450 is:  787382.2902010066\n",
      "Mean squared error at epochs:  3460 is:  787380.0469055686\n",
      "Mean squared error at epochs:  3470 is:  787377.8668888016\n",
      "Mean squared error at epochs:  3480 is:  787375.748365747\n",
      "Mean squared error at epochs:  3490 is:  787373.6896017956\n",
      "Mean squared error at epochs:  3500 is:  787371.6889112683\n",
      "Mean squared error at epochs:  3510 is:  787369.744656035\n",
      "Mean squared error at epochs:  3520 is:  787367.8552441745\n",
      "Mean squared error at epochs:  3530 is:  787366.0191286698\n",
      "Mean squared error at epochs:  3540 is:  787364.234806142\n",
      "Mean squared error at epochs:  3550 is:  787362.5008156201\n",
      "Mean squared error at epochs:  3560 is:  787360.8157373429\n",
      "Mean squared error at epochs:  3570 is:  787359.1781915989\n",
      "Mean squared error at epochs:  3580 is:  787357.5868375943\n",
      "Mean squared error at epochs:  3590 is:  787356.0403723569\n",
      "Mean squared error at epochs:  3600 is:  787354.5375296688\n",
      "Mean squared error at epochs:  3610 is:  787353.0770790286\n",
      "Mean squared error at epochs:  3620 is:  787351.6578246458\n",
      "Mean squared error at epochs:  3630 is:  787350.2786044598\n",
      "Mean squared error at epochs:  3640 is:  787348.9382891898\n",
      "Mean squared error at epochs:  3650 is:  787347.6357814097\n",
      "Mean squared error at epochs:  3660 is:  787346.3700146491\n",
      "Mean squared error at epochs:  3670 is:  787345.1399525206\n",
      "Mean squared error at epochs:  3680 is:  787343.9445878715\n",
      "Mean squared error at epochs:  3690 is:  787342.7829419584\n",
      "Mean squared error at epochs:  3700 is:  787341.6540636463\n",
      "Mean squared error at epochs:  3710 is:  787340.5570286296\n",
      "Mean squared error at epochs:  3720 is:  787339.4909386758\n",
      "Mean squared error at epochs:  3730 is:  787338.4549208891\n",
      "Mean squared error at epochs:  3740 is:  787337.4481269966\n",
      "Mean squared error at epochs:  3750 is:  787336.4697326538\n",
      "Mean squared error at epochs:  3760 is:  787335.5189367686\n",
      "Mean squared error at epochs:  3770 is:  787334.594960846\n",
      "Mean squared error at epochs:  3780 is:  787333.6970483512\n",
      "Mean squared error at epochs:  3790 is:  787332.8244640892\n",
      "Mean squared error at epochs:  3800 is:  787331.976493604\n",
      "Mean squared error at epochs:  3810 is:  787331.1524425922\n",
      "Mean squared error at epochs:  3820 is:  787330.3516363354\n",
      "Mean squared error at epochs:  3830 is:  787329.5734191476\n",
      "Mean squared error at epochs:  3840 is:  787328.8171538389\n",
      "Mean squared error at epochs:  3850 is:  787328.0822211921\n",
      "Mean squared error at epochs:  3860 is:  787327.3680194579\n",
      "Mean squared error at epochs:  3870 is:  787326.6739638603\n",
      "Mean squared error at epochs:  3880 is:  787325.9994861193\n",
      "Mean squared error at epochs:  3890 is:  787325.3440339842\n",
      "Mean squared error at epochs:  3900 is:  787324.7070707825\n",
      "Mean squared error at epochs:  3910 is:  787324.0880749803\n",
      "Mean squared error at epochs:  3920 is:  787323.4865397547\n",
      "Mean squared error at epochs:  3930 is:  787322.9019725794\n",
      "Mean squared error at epochs:  3940 is:  787322.3338948211\n",
      "Mean squared error at epochs:  3950 is:  787321.7818413477\n",
      "Mean squared error at epochs:  3960 is:  787321.2453601481\n",
      "Mean squared error at epochs:  3970 is:  787320.7240119608\n",
      "Mean squared error at epochs:  3980 is:  787320.2173699152\n",
      "Mean squared error at epochs:  3990 is:  787319.7250191816\n",
      "Mean squared error at epochs:  4000 is:  787319.2465566322\n",
      "Mean squared error at epochs:  4010 is:  787318.7815905105\n",
      "Mean squared error at epochs:  4020 is:  787318.3297401103\n",
      "Mean squared error at epochs:  4030 is:  787317.8906354643\n",
      "Mean squared error at epochs:  4040 is:  787317.4639170419\n",
      "Mean squared error at epochs:  4050 is:  787317.0492354536\n",
      "Mean squared error at epochs:  4060 is:  787316.6462511653\n",
      "Mean squared error at epochs:  4070 is:  787316.2546342206\n",
      "Mean squared error at epochs:  4080 is:  787315.8740639708\n",
      "Mean squared error at epochs:  4090 is:  787315.5042288116\n",
      "Mean squared error at epochs:  4100 is:  787315.1448259284\n",
      "Mean squared error at epochs:  4110 is:  787314.7955610486\n",
      "Mean squared error at epochs:  4120 is:  787314.4561482002\n",
      "Mean squared error at epochs:  4130 is:  787314.1263094787\n",
      "Mean squared error at epochs:  4140 is:  787313.8057748171\n",
      "Mean squared error at epochs:  4150 is:  787313.4942817678\n",
      "Mean squared error at epochs:  4160 is:  787313.1915752857\n",
      "Mean squared error at epochs:  4170 is:  787312.8974075203\n",
      "Mean squared error at epochs:  4180 is:  787312.6115376123\n",
      "Mean squared error at epochs:  4190 is:  787312.333731496\n",
      "Mean squared error at epochs:  4200 is:  787312.063761709\n",
      "Mean squared error at epochs:  4210 is:  787311.8014072052\n",
      "Mean squared error at epochs:  4220 is:  787311.5464531728\n",
      "Mean squared error at epochs:  4230 is:  787311.2986908607\n",
      "Mean squared error at epochs:  4240 is:  787311.0579174047\n",
      "Mean squared error at epochs:  4250 is:  787310.8239356643\n",
      "Mean squared error at epochs:  4260 is:  787310.5965540593\n",
      "Mean squared error at epochs:  4270 is:  787310.3755864137\n",
      "Mean squared error at epochs:  4280 is:  787310.160851803\n",
      "Mean squared error at epochs:  4290 is:  787309.9521744065\n",
      "Mean squared error at epochs:  4300 is:  787309.7493833629\n",
      "Mean squared error at epochs:  4310 is:  787309.5523126302\n",
      "Mean squared error at epochs:  4320 is:  787309.3608008507\n",
      "Mean squared error at epochs:  4330 is:  787309.174691218\n",
      "Mean squared error at epochs:  4340 is:  787308.9938313484\n",
      "Mean squared error at epochs:  4350 is:  787308.8180731575\n",
      "Mean squared error at epochs:  4360 is:  787308.6472727372\n",
      "Mean squared error at epochs:  4370 is:  787308.4812902397\n",
      "Mean squared error at epochs:  4380 is:  787308.3199897611\n",
      "Mean squared error at epochs:  4390 is:  787308.1632392316\n",
      "Mean squared error at epochs:  4400 is:  787308.0109103068\n",
      "Mean squared error at epochs:  4410 is:  787307.8628782618\n",
      "Mean squared error at epochs:  4420 is:  787307.7190218916\n",
      "Mean squared error at epochs:  4430 is:  787307.5792234084\n",
      "Mean squared error at epochs:  4440 is:  787307.4433683481\n",
      "Mean squared error at epochs:  4450 is:  787307.3113454747\n",
      "Mean squared error at epochs:  4460 is:  787307.1830466902\n",
      "Mean squared error at epochs:  4470 is:  787307.0583669464\n",
      "Mean squared error at epochs:  4480 is:  787306.937204157\n",
      "Mean squared error at epochs:  4490 is:  787306.8194591167\n",
      "Mean squared error at epochs:  4500 is:  787306.7050354173\n",
      "Mean squared error at epochs:  4510 is:  787306.5938393713\n",
      "Mean squared error at epochs:  4520 is:  787306.4857799332\n",
      "Mean squared error at epochs:  4530 is:  787306.3807686255\n",
      "Mean squared error at epochs:  4540 is:  787306.2787194673\n",
      "Mean squared error at epochs:  4550 is:  787306.1795489022\n",
      "Mean squared error at epochs:  4560 is:  787306.0831757316\n",
      "Mean squared error at epochs:  4570 is:  787305.9895210462\n",
      "Mean squared error at epochs:  4580 is:  787305.8985081636\n",
      "Mean squared error at epochs:  4590 is:  787305.810062564\n",
      "Mean squared error at epochs:  4600 is:  787305.7241118299\n",
      "Mean squared error at epochs:  4610 is:  787305.6405855862\n",
      "Mean squared error at epochs:  4620 is:  787305.5594154429\n",
      "Mean squared error at epochs:  4630 is:  787305.4805349396\n",
      "Mean squared error at epochs:  4640 is:  787305.4038794902\n",
      "Mean squared error at epochs:  4650 is:  787305.3293863309\n",
      "Mean squared error at epochs:  4660 is:  787305.2569944677\n",
      "Mean squared error at epochs:  4670 is:  787305.1866446272\n",
      "Mean squared error at epochs:  4680 is:  787305.1182792089\n",
      "Mean squared error at epochs:  4690 is:  787305.051842236\n",
      "Mean squared error at epochs:  4700 is:  787304.9872793109\n",
      "Mean squared error at epochs:  4710 is:  787304.9245375709\n",
      "Mean squared error at epochs:  4720 is:  787304.8635656442\n",
      "Mean squared error at epochs:  4730 is:  787304.804313608\n",
      "Mean squared error at epochs:  4740 is:  787304.7467329476\n",
      "Mean squared error at epochs:  4750 is:  787304.6907765176\n",
      "Mean squared error at epochs:  4760 is:  787304.636398501\n",
      "Mean squared error at epochs:  4770 is:  787304.5835543745\n",
      "Mean squared error at epochs:  4780 is:  787304.5322008707\n",
      "Mean squared error at epochs:  4790 is:  787304.4822959416\n",
      "Mean squared error at epochs:  4800 is:  787304.433798726\n",
      "Mean squared error at epochs:  4810 is:  787304.3866695153\n",
      "Mean squared error at epochs:  4820 is:  787304.340869721\n",
      "Mean squared error at epochs:  4830 is:  787304.2963618434\n",
      "Mean squared error at epochs:  4840 is:  787304.2531094397\n",
      "Mean squared error at epochs:  4850 is:  787304.2110770959\n",
      "Mean squared error at epochs:  4860 is:  787304.1702303967\n",
      "Mean squared error at epochs:  4870 is:  787304.1305358971\n",
      "Mean squared error at epochs:  4880 is:  787304.0919610966\n",
      "Mean squared error at epochs:  4890 is:  787304.0544744104\n",
      "Mean squared error at epochs:  4900 is:  787304.0180451453\n",
      "Mean squared error at epochs:  4910 is:  787303.9826434732\n",
      "Mean squared error at epochs:  4920 is:  787303.9482404087\n",
      "Mean squared error at epochs:  4930 is:  787303.9148077825\n",
      "Mean squared error at epochs:  4940 is:  787303.8823182206\n",
      "Mean squared error at epochs:  4950 is:  787303.8507451212\n",
      "Mean squared error at epochs:  4960 is:  787303.8200626331\n",
      "Mean squared error at epochs:  4970 is:  787303.790245634\n",
      "Mean squared error at epochs:  4980 is:  787303.7612697097\n",
      "Mean squared error at epochs:  4990 is:  787303.7331111357\n",
      "Mean squared error at epochs:  5000 is:  787303.705746856\n",
      "Mean squared error at epochs:  5010 is:  787303.6791544657\n",
      "Mean squared error at epochs:  5020 is:  787303.6533121909\n",
      "Mean squared error at epochs:  5030 is:  787303.6281988727\n",
      "Mean squared error at epochs:  5040 is:  787303.6037939484\n",
      "Mean squared error at epochs:  5050 is:  787303.5800774365\n",
      "Mean squared error at epochs:  5060 is:  787303.5570299174\n",
      "Mean squared error at epochs:  5070 is:  787303.5346325206\n",
      "Mean squared error at epochs:  5080 is:  787303.5128669075\n",
      "Mean squared error at epochs:  5090 is:  787303.491715257\n",
      "Mean squared error at epochs:  5100 is:  787303.4711602503\n",
      "Mean squared error at epochs:  5110 is:  787303.4511850572\n",
      "Mean squared error at epochs:  5120 is:  787303.4317733225\n",
      "Mean squared error at epochs:  5130 is:  787303.4129091522\n",
      "Mean squared error at epochs:  5140 is:  787303.3945771006\n",
      "Mean squared error at epochs:  5150 is:  787303.376762158\n",
      "Mean squared error at epochs:  5160 is:  787303.3594497377\n",
      "Mean squared error at epochs:  5170 is:  787303.3426256645\n",
      "Mean squared error at epochs:  5180 is:  787303.3262761633\n",
      "Mean squared error at epochs:  5190 is:  787303.310387847\n",
      "Mean squared error at epochs:  5200 is:  787303.2949477073\n",
      "Mean squared error at epochs:  5210 is:  787303.2799431013\n",
      "Mean squared error at epochs:  5220 is:  787303.2653617441\n",
      "Mean squared error at epochs:  5230 is:  787303.2511916964\n",
      "Mean squared error at epochs:  5240 is:  787303.2374213558\n",
      "Mean squared error at epochs:  5250 is:  787303.224039448\n",
      "Mean squared error at epochs:  5260 is:  787303.2110350158\n",
      "Mean squared error at epochs:  5270 is:  787303.1983974115\n",
      "Mean squared error at epochs:  5280 is:  787303.1861162874\n",
      "Mean squared error at epochs:  5290 is:  787303.1741815882\n",
      "Mean squared error at epochs:  5300 is:  787303.1625835418\n",
      "Mean squared error at epochs:  5310 is:  787303.1513126522\n",
      "Mean squared error at epochs:  5320 is:  787303.1403596908\n",
      "Mean squared error at epochs:  5330 is:  787303.1297156895\n",
      "Mean squared error at epochs:  5340 is:  787303.1193719332\n",
      "Mean squared error at epochs:  5350 is:  787303.1093199524\n",
      "Mean squared error at epochs:  5360 is:  787303.0995515172\n",
      "Mean squared error at epochs:  5370 is:  787303.090058629\n",
      "Mean squared error at epochs:  5380 is:  787303.0808335155\n",
      "Mean squared error at epochs:  5390 is:  787303.0718686229\n",
      "Mean squared error at epochs:  5400 is:  787303.0631566113\n",
      "Mean squared error at epochs:  5410 is:  787303.0546903473\n",
      "Mean squared error at epochs:  5420 is:  787303.0464628988\n",
      "Mean squared error at epochs:  5430 is:  787303.0384675296\n",
      "Mean squared error at epochs:  5440 is:  787303.030697693\n",
      "Mean squared error at epochs:  5450 is:  787303.0231470272\n",
      "Mean squared error at epochs:  5460 is:  787303.0158093498\n",
      "Mean squared error at epochs:  5470 is:  787303.008678653\n",
      "Mean squared error at epochs:  5480 is:  787303.0017490984\n"
     ]
    }
   ],
   "source": [
    "n = 845\n",
    "a = 0  # Intercept\n",
    "b = 0  # Coefficient\n",
    "\n",
    "alpha = 0.01\n",
    "epochs = 0\n",
    "mean_squared_err = 10e6\n",
    "while(mean_squared_err > 787303):\n",
    "    y = a + b*train_x\n",
    "    err = y - train_y\n",
    "    mean_squared_err = np.sum(err**2)\n",
    "    a = a - alpha*np.sum(err)/n\n",
    "    b = b - alpha*np.sum(err*train_x)/n\n",
    "    epochs+=1\n",
    "    if(epochs%10 == 0):\n",
    "        print('Mean squared error at epochs: ', epochs, 'is: ' , mean_squared_err)"
   ]
  },
  {
   "cell_type": "code",
   "execution_count": 79,
   "metadata": {},
   "outputs": [
    {
     "data": {
      "text/plain": [
       "8.4"
      ]
     },
     "execution_count": 79,
     "metadata": {},
     "output_type": "execute_result"
    }
   ],
   "source": [
    "test_x.max()"
   ]
  },
  {
   "cell_type": "code",
   "execution_count": 44,
   "metadata": {},
   "outputs": [
    {
     "data": {
      "text/plain": [
       "(126.39014346079253, 38.803370440058735)"
      ]
     },
     "execution_count": 44,
     "metadata": {},
     "output_type": "execute_result"
    }
   ],
   "source": [
    "(a, b)"
   ]
  },
  {
   "cell_type": "code",
   "execution_count": 36,
   "metadata": {},
   "outputs": [
    {
     "name": "stdout",
     "output_type": "stream",
     "text": [
      "R2-score: 0.67\n"
     ]
    }
   ],
   "source": [
    "y_hat = a + b*test_x\n",
    "# y_hat.shape\n",
    "print(\"R2-score: %.2f\" % r2_score(y_hat , test_y) )"
   ]
  },
  {
   "cell_type": "code",
   "execution_count": 37,
   "metadata": {},
   "outputs": [
    {
     "data": {
      "image/png": "[encoded data removed]",
      "text/plain": [
       "<Figure size 432x288 with 1 Axes>"
      ]
     },
     "metadata": {
      "needs_background": "light"
     },
     "output_type": "display_data"
    }
   ],
   "source": [
    "x = np.random.uniform(np.arange(1, 9, 0.01))\n",
    "y = a + b*x\n",
    "plt.scatter(test_x, test_y,  color='blue')\n",
    "plt.plot(x, y, '-r')\n",
    "plt.xlabel(\"Engine size\")\n",
    "plt.ylabel(\"Emission\")\n",
    "plt.show()"
   ]
  },
  {
   "cell_type": "code",
   "execution_count": null,
   "metadata": {},
   "outputs": [],
   "source": []
  }
 ],
 "metadata": {
  "kernelspec": {
   "display_name": "Python 3",
   "language": "python",
   "name": "python3"
  },
  "language_info": {
   "codemirror_mode": {
    "name": "ipython",
    "version": 3
   },
   "file_extension": ".py",
   "mimetype": "text/x-python",
   "name": "python",
   "nbconvert_exporter": "python",
   "pygments_lexer": "ipython3",
   "version": "3.8.3"
  },
  "widgets": {
   "state": {},
   "version": "1.1.2"
  }
 },
 "nbformat": 4,
 "nbformat_minor": 4
}
