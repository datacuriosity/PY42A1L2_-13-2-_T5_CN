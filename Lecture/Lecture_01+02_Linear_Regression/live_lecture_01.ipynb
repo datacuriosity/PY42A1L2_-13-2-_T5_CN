{
 "cells": [
  {
   "cell_type": "code",
   "execution_count": 1,
   "id": "395f9a09-f5bc-4ec2-a133-19b8f3fad5fb",
   "metadata": {},
   "outputs": [],
   "source": [
    "import numpy as np\n",
    "import pandas as pd\n",
    "import matplotlib.pyplot as plt\n",
    "import seaborn as sns"
   ]
  },
  {
   "cell_type": "code",
   "execution_count": 2,
   "id": "6fa2d6b3-408a-45e6-ac49-74be259d88da",
   "metadata": {},
   "outputs": [
    {
     "data": {
      "text/plain": [
       "(1067, 13)"
      ]
     },
     "execution_count": 2,
     "metadata": {},
     "output_type": "execute_result"
    }
   ],
   "source": [
    "df = pd.read_csv('FuelConsumptionCo2.csv')\n",
    "df.shape"
   ]
  },
  {
   "cell_type": "code",
   "execution_count": 3,
   "id": "1ff7da1e-cf0f-4d90-8f2c-e4eaf11f63fc",
   "metadata": {},
   "outputs": [
    {
     "data": {
      "text/html": [
       "<div>\n",
       "<style scoped>\n",
       "    .dataframe tbody tr th:only-of-type {\n",
       "        vertical-align: middle;\n",
       "    }\n",
       "\n",
       "    .dataframe tbody tr th {\n",
       "        vertical-align: top;\n",
       "    }\n",
       "\n",
       "    .dataframe thead th {\n",
       "        text-align: right;\n",
       "    }\n",
       "</style>\n",
       "<table border=\"1\" class=\"dataframe\">\n",
       "  <thead>\n",
       "    <tr style=\"text-align: right;\">\n",
       "      <th></th>\n",
       "      <th>MODELYEAR</th>\n",
       "      <th>MAKE</th>\n",
       "      <th>MODEL</th>\n",
       "      <th>VEHICLECLASS</th>\n",
       "      <th>ENGINESIZE</th>\n",
       "      <th>CYLINDERS</th>\n",
       "      <th>TRANSMISSION</th>\n",
       "      <th>FUELTYPE</th>\n",
       "      <th>FUELCONSUMPTION_CITY</th>\n",
       "      <th>FUELCONSUMPTION_HWY</th>\n",
       "      <th>FUELCONSUMPTION_COMB</th>\n",
       "      <th>FUELCONSUMPTION_COMB_MPG</th>\n",
       "      <th>CO2EMISSIONS</th>\n",
       "    </tr>\n",
       "  </thead>\n",
       "  <tbody>\n",
       "    <tr>\n",
       "      <th>0</th>\n",
       "      <td>2014</td>\n",
       "      <td>ACURA</td>\n",
       "      <td>ILX</td>\n",
       "      <td>COMPACT</td>\n",
       "      <td>2.0</td>\n",
       "      <td>4</td>\n",
       "      <td>AS5</td>\n",
       "      <td>Z</td>\n",
       "      <td>9.9</td>\n",
       "      <td>6.7</td>\n",
       "      <td>8.5</td>\n",
       "      <td>33</td>\n",
       "      <td>196</td>\n",
       "    </tr>\n",
       "    <tr>\n",
       "      <th>1</th>\n",
       "      <td>2014</td>\n",
       "      <td>ACURA</td>\n",
       "      <td>ILX</td>\n",
       "      <td>COMPACT</td>\n",
       "      <td>2.4</td>\n",
       "      <td>4</td>\n",
       "      <td>M6</td>\n",
       "      <td>Z</td>\n",
       "      <td>11.2</td>\n",
       "      <td>7.7</td>\n",
       "      <td>9.6</td>\n",
       "      <td>29</td>\n",
       "      <td>221</td>\n",
       "    </tr>\n",
       "  </tbody>\n",
       "</table>\n",
       "</div>"
      ],
      "text/plain": [
       "   MODELYEAR   MAKE MODEL VEHICLECLASS  ENGINESIZE  CYLINDERS TRANSMISSION  \\\n",
       "0       2014  ACURA   ILX      COMPACT         2.0          4          AS5   \n",
       "1       2014  ACURA   ILX      COMPACT         2.4          4           M6   \n",
       "\n",
       "  FUELTYPE  FUELCONSUMPTION_CITY  FUELCONSUMPTION_HWY  FUELCONSUMPTION_COMB  \\\n",
       "0        Z                   9.9                  6.7                   8.5   \n",
       "1        Z                  11.2                  7.7                   9.6   \n",
       "\n",
       "   FUELCONSUMPTION_COMB_MPG  CO2EMISSIONS  \n",
       "0                        33           196  \n",
       "1                        29           221  "
      ]
     },
     "execution_count": 3,
     "metadata": {},
     "output_type": "execute_result"
    }
   ],
   "source": [
    "df.head(2)"
   ]
  },
  {
   "cell_type": "markdown",
   "id": "78a68ae7-6df3-4b1e-8550-1f8a559273c2",
   "metadata": {},
   "source": [
    "Sample data/ dataset\n",
    "- Features: Columns có ích đối với đầu ra,\n",
    "- Sample/ Data points: Rows"
   ]
  },
  {
   "cell_type": "markdown",
   "id": "983fd456-06dc-44c0-8a4b-214612521da2",
   "metadata": {},
   "source": [
    "![](https://datalya.com/blog/content/4-machine-learning/11-machine-learning-vs-traditional-programming-paradigm/ml_vs_traditional_paradigm.png)"
   ]
  },
  {
   "cell_type": "markdown",
   "id": "82ccdbc1-ef51-4a13-ab41-e7a75347be92",
   "metadata": {},
   "source": [
    "#### Sanity check"
   ]
  },
  {
   "cell_type": "code",
   "execution_count": 4,
   "id": "1e5c7950-cf9d-4367-939d-834a0bbf9645",
   "metadata": {},
   "outputs": [
    {
     "data": {
      "text/plain": [
       "(1067, 13)"
      ]
     },
     "execution_count": 4,
     "metadata": {},
     "output_type": "execute_result"
    }
   ],
   "source": [
    "df.shape"
   ]
  },
  {
   "cell_type": "code",
   "execution_count": 5,
   "id": "331f4ea9-ea95-4d09-8ba1-2afac43d4210",
   "metadata": {},
   "outputs": [
    {
     "data": {
      "text/plain": [
       "MODELYEAR                   0\n",
       "MAKE                        0\n",
       "MODEL                       0\n",
       "VEHICLECLASS                0\n",
       "ENGINESIZE                  0\n",
       "CYLINDERS                   0\n",
       "TRANSMISSION                0\n",
       "FUELTYPE                    0\n",
       "FUELCONSUMPTION_CITY        0\n",
       "FUELCONSUMPTION_HWY         0\n",
       "FUELCONSUMPTION_COMB        0\n",
       "FUELCONSUMPTION_COMB_MPG    0\n",
       "CO2EMISSIONS                0\n",
       "dtype: int64"
      ]
     },
     "execution_count": 5,
     "metadata": {},
     "output_type": "execute_result"
    }
   ],
   "source": [
    "df.isna().sum()"
   ]
  },
  {
   "cell_type": "code",
   "execution_count": 6,
   "id": "5ecf14b7-ab24-4bef-8b6c-0bb3b3809c03",
   "metadata": {},
   "outputs": [
    {
     "name": "stdout",
     "output_type": "stream",
     "text": [
      "<class 'pandas.core.frame.DataFrame'>\n",
      "RangeIndex: 1067 entries, 0 to 1066\n",
      "Data columns (total 13 columns):\n",
      " #   Column                    Non-Null Count  Dtype  \n",
      "---  ------                    --------------  -----  \n",
      " 0   MODELYEAR                 1067 non-null   int64  \n",
      " 1   MAKE                      1067 non-null   object \n",
      " 2   MODEL                     1067 non-null   object \n",
      " 3   VEHICLECLASS              1067 non-null   object \n",
      " 4   ENGINESIZE                1067 non-null   float64\n",
      " 5   CYLINDERS                 1067 non-null   int64  \n",
      " 6   TRANSMISSION              1067 non-null   object \n",
      " 7   FUELTYPE                  1067 non-null   object \n",
      " 8   FUELCONSUMPTION_CITY      1067 non-null   float64\n",
      " 9   FUELCONSUMPTION_HWY       1067 non-null   float64\n",
      " 10  FUELCONSUMPTION_COMB      1067 non-null   float64\n",
      " 11  FUELCONSUMPTION_COMB_MPG  1067 non-null   int64  \n",
      " 12  CO2EMISSIONS              1067 non-null   int64  \n",
      "dtypes: float64(4), int64(4), object(5)\n",
      "memory usage: 108.5+ KB\n"
     ]
    }
   ],
   "source": [
    "df.info()"
   ]
  },
  {
   "cell_type": "code",
   "execution_count": 7,
   "id": "1a1fb2ea-f4b9-4d62-b7ee-6b651d269a0e",
   "metadata": {},
   "outputs": [
    {
     "data": {
      "text/plain": [
       "108.4921875"
      ]
     },
     "execution_count": 7,
     "metadata": {},
     "output_type": "execute_result"
    }
   ],
   "source": [
    "df.memory_usage().sum() / 1024"
   ]
  },
  {
   "cell_type": "code",
   "execution_count": 8,
   "id": "de4988a4-c0fa-4eda-9a5b-ce9037d03447",
   "metadata": {},
   "outputs": [
    {
     "data": {
      "text/plain": [
       "0"
      ]
     },
     "execution_count": 8,
     "metadata": {},
     "output_type": "execute_result"
    }
   ],
   "source": [
    "df.duplicated().sum()"
   ]
  },
  {
   "cell_type": "code",
   "execution_count": 9,
   "id": "2bbb1d14-ee55-4667-8c1c-38d8e8debf94",
   "metadata": {},
   "outputs": [
    {
     "data": {
      "text/html": [
       "<div>\n",
       "<style scoped>\n",
       "    .dataframe tbody tr th:only-of-type {\n",
       "        vertical-align: middle;\n",
       "    }\n",
       "\n",
       "    .dataframe tbody tr th {\n",
       "        vertical-align: top;\n",
       "    }\n",
       "\n",
       "    .dataframe thead th {\n",
       "        text-align: right;\n",
       "    }\n",
       "</style>\n",
       "<table border=\"1\" class=\"dataframe\">\n",
       "  <thead>\n",
       "    <tr style=\"text-align: right;\">\n",
       "      <th></th>\n",
       "      <th>MODELYEAR</th>\n",
       "      <th>ENGINESIZE</th>\n",
       "      <th>CYLINDERS</th>\n",
       "      <th>FUELCONSUMPTION_CITY</th>\n",
       "      <th>FUELCONSUMPTION_HWY</th>\n",
       "      <th>FUELCONSUMPTION_COMB</th>\n",
       "      <th>FUELCONSUMPTION_COMB_MPG</th>\n",
       "      <th>CO2EMISSIONS</th>\n",
       "    </tr>\n",
       "  </thead>\n",
       "  <tbody>\n",
       "    <tr>\n",
       "      <th>count</th>\n",
       "      <td>1067.0</td>\n",
       "      <td>1067.000000</td>\n",
       "      <td>1067.000000</td>\n",
       "      <td>1067.000000</td>\n",
       "      <td>1067.000000</td>\n",
       "      <td>1067.000000</td>\n",
       "      <td>1067.000000</td>\n",
       "      <td>1067.000000</td>\n",
       "    </tr>\n",
       "    <tr>\n",
       "      <th>mean</th>\n",
       "      <td>2014.0</td>\n",
       "      <td>3.346298</td>\n",
       "      <td>5.794752</td>\n",
       "      <td>13.296532</td>\n",
       "      <td>9.474602</td>\n",
       "      <td>11.580881</td>\n",
       "      <td>26.441425</td>\n",
       "      <td>256.228679</td>\n",
       "    </tr>\n",
       "    <tr>\n",
       "      <th>std</th>\n",
       "      <td>0.0</td>\n",
       "      <td>1.415895</td>\n",
       "      <td>1.797447</td>\n",
       "      <td>4.101253</td>\n",
       "      <td>2.794510</td>\n",
       "      <td>3.485595</td>\n",
       "      <td>7.468702</td>\n",
       "      <td>63.372304</td>\n",
       "    </tr>\n",
       "    <tr>\n",
       "      <th>min</th>\n",
       "      <td>2014.0</td>\n",
       "      <td>1.000000</td>\n",
       "      <td>3.000000</td>\n",
       "      <td>4.600000</td>\n",
       "      <td>4.900000</td>\n",
       "      <td>4.700000</td>\n",
       "      <td>11.000000</td>\n",
       "      <td>108.000000</td>\n",
       "    </tr>\n",
       "    <tr>\n",
       "      <th>25%</th>\n",
       "      <td>2014.0</td>\n",
       "      <td>2.000000</td>\n",
       "      <td>4.000000</td>\n",
       "      <td>10.250000</td>\n",
       "      <td>7.500000</td>\n",
       "      <td>9.000000</td>\n",
       "      <td>21.000000</td>\n",
       "      <td>207.000000</td>\n",
       "    </tr>\n",
       "    <tr>\n",
       "      <th>50%</th>\n",
       "      <td>2014.0</td>\n",
       "      <td>3.400000</td>\n",
       "      <td>6.000000</td>\n",
       "      <td>12.600000</td>\n",
       "      <td>8.800000</td>\n",
       "      <td>10.900000</td>\n",
       "      <td>26.000000</td>\n",
       "      <td>251.000000</td>\n",
       "    </tr>\n",
       "    <tr>\n",
       "      <th>75%</th>\n",
       "      <td>2014.0</td>\n",
       "      <td>4.300000</td>\n",
       "      <td>8.000000</td>\n",
       "      <td>15.550000</td>\n",
       "      <td>10.850000</td>\n",
       "      <td>13.350000</td>\n",
       "      <td>31.000000</td>\n",
       "      <td>294.000000</td>\n",
       "    </tr>\n",
       "    <tr>\n",
       "      <th>max</th>\n",
       "      <td>2014.0</td>\n",
       "      <td>8.400000</td>\n",
       "      <td>12.000000</td>\n",
       "      <td>30.200000</td>\n",
       "      <td>20.500000</td>\n",
       "      <td>25.800000</td>\n",
       "      <td>60.000000</td>\n",
       "      <td>488.000000</td>\n",
       "    </tr>\n",
       "  </tbody>\n",
       "</table>\n",
       "</div>"
      ],
      "text/plain": [
       "       MODELYEAR   ENGINESIZE    CYLINDERS  FUELCONSUMPTION_CITY  \\\n",
       "count     1067.0  1067.000000  1067.000000           1067.000000   \n",
       "mean      2014.0     3.346298     5.794752             13.296532   \n",
       "std          0.0     1.415895     1.797447              4.101253   \n",
       "min       2014.0     1.000000     3.000000              4.600000   \n",
       "25%       2014.0     2.000000     4.000000             10.250000   \n",
       "50%       2014.0     3.400000     6.000000             12.600000   \n",
       "75%       2014.0     4.300000     8.000000             15.550000   \n",
       "max       2014.0     8.400000    12.000000             30.200000   \n",
       "\n",
       "       FUELCONSUMPTION_HWY  FUELCONSUMPTION_COMB  FUELCONSUMPTION_COMB_MPG  \\\n",
       "count          1067.000000           1067.000000               1067.000000   \n",
       "mean              9.474602             11.580881                 26.441425   \n",
       "std               2.794510              3.485595                  7.468702   \n",
       "min               4.900000              4.700000                 11.000000   \n",
       "25%               7.500000              9.000000                 21.000000   \n",
       "50%               8.800000             10.900000                 26.000000   \n",
       "75%              10.850000             13.350000                 31.000000   \n",
       "max              20.500000             25.800000                 60.000000   \n",
       "\n",
       "       CO2EMISSIONS  \n",
       "count   1067.000000  \n",
       "mean     256.228679  \n",
       "std       63.372304  \n",
       "min      108.000000  \n",
       "25%      207.000000  \n",
       "50%      251.000000  \n",
       "75%      294.000000  \n",
       "max      488.000000  "
      ]
     },
     "execution_count": 9,
     "metadata": {},
     "output_type": "execute_result"
    }
   ],
   "source": [
    "df.describe()"
   ]
  },
  {
   "cell_type": "code",
   "execution_count": 10,
   "id": "59bc3dcd-dcad-417a-8d8a-dc2b97fd33f8",
   "metadata": {},
   "outputs": [
    {
     "data": {
      "image/png": "[encoded data removed]",
      "text/plain": [
       "<Figure size 720x432 with 2 Axes>"
      ]
     },
     "metadata": {
      "needs_background": "light"
     },
     "output_type": "display_data"
    }
   ],
   "source": [
    "plt.figure(figsize=(10, 6))\n",
    "ax = sns.heatmap(df.drop(columns='MODELYEAR').corr(), fmt='.2f', annot=True, linewidths=0.1, linecolor='black');\n",
    "ax.set_xticklabels(ax.get_xticklabels(), rotation=30, ha='right');"
   ]
  },
  {
   "cell_type": "markdown",
   "id": "1819296c-84bd-46fd-a98d-39df7a9d4332",
   "metadata": {},
   "source": [
    "- Percentile: thứ tự điểm dữ liệu đứng (%)\n",
    "- Quantile: Giá trị tại vị trí percentile\n",
    "\n",
    "- Percentile: 0%, 25%, 50%, 75%, 100%:\n",
    "- Quartile, Decile"
   ]
  },
  {
   "cell_type": "markdown",
   "id": "de027ef4-ee41-4234-8008-5c3326f0a3c1",
   "metadata": {},
   "source": [
    "![](https://www.researchgate.net/profile/Bruno-Drolet/publication/327510262/figure/fig7/AS:668235196293122@1536331094212/Examples-of-quantile-regression-with-predictions-at-selected-quantiles-The-10-25.png)"
   ]
  },
  {
   "cell_type": "markdown",
   "id": "876cdd83-819f-4ef5-a393-f6129a0c213e",
   "metadata": {},
   "source": [
    "Central tendency: Mean, Mode, Median\n",
    "- Mode: Giá trị với tần suất xuất hiện nhiều nhất.\n",
    "- Median: Giá trị chính giữa của bộ data (50 % số lượng điểm dữ liệu > nó, 50% số lượng điểm dữ liệu bé hơn nó) --> Robust\n",
    "- Mean: Trung bình đại số (arithmetic) --> Tổng các giá trị / số lượng "
   ]
  },
  {
   "cell_type": "markdown",
   "id": "092a49b1-7862-495e-8918-42b77357dfdb",
   "metadata": {},
   "source": [
    "![](https://cdn.vietnambiz.vn/2020/4/10/arithmetic-mean-formula-1586510924205324510805.jpg)"
   ]
  },
  {
   "cell_type": "markdown",
   "id": "89b8b44e-858d-4f1e-96a4-c6fe6d570c02",
   "metadata": {},
   "source": [
    "Spread / Fluctuation Measurement:\n",
    "- Variance / Standard Deviation\n",
    "- Covariance: relationship of 2 random variables"
   ]
  },
  {
   "cell_type": "markdown",
   "id": "cbd8610c-c201-4ca7-adae-bd328ca33b10",
   "metadata": {},
   "source": [
    "![](https://d138zd1ktt9iqe.cloudfront.net/media/seo_landing_files/sample-variance-formula-1612435647.png)"
   ]
  },
  {
   "cell_type": "markdown",
   "id": "1242c505-123d-4bed-ab03-82d24beabb61",
   "metadata": {},
   "source": [
    "![](https://cdn.educba.com/academy/wp-content/uploads/2019/05/Covariance-Formula.jpg)"
   ]
  },
  {
   "cell_type": "markdown",
   "id": "1fe5941a-693e-4b53-8458-6ac89f9be0a5",
   "metadata": {},
   "source": [
    "![](https://cdn.vietnambiz.vn/thumb_w/600/2019/11/4/negative-and-positive-covariance-1572830532669957900222-crop-15728306307301475437518.png)"
   ]
  },
  {
   "cell_type": "markdown",
   "id": "35ffea07-54c1-488e-b20a-cdb7bacd39a0",
   "metadata": {},
   "source": [
    "#### Correlation coefficient"
   ]
  },
  {
   "cell_type": "markdown",
   "id": "8f898822-31f4-4b4c-97c8-5af3d4395187",
   "metadata": {},
   "source": [
    "![](https://editor.analyticsvidhya.com/uploads/39170Formula.JPG)"
   ]
  },
  {
   "cell_type": "markdown",
   "id": "32cfe26e-895e-4d7e-8007-a1decb100489",
   "metadata": {},
   "source": [
    "![](https://www.statisticshowto.com/wp-content/uploads/2012/10/pearson-2-small.png)"
   ]
  },
  {
   "cell_type": "code",
   "execution_count": 11,
   "id": "be9d86a2-a050-42d7-afb7-1a1a971935d0",
   "metadata": {},
   "outputs": [
    {
     "data": {
      "text/html": [
       "<div>\n",
       "<style scoped>\n",
       "    .dataframe tbody tr th:only-of-type {\n",
       "        vertical-align: middle;\n",
       "    }\n",
       "\n",
       "    .dataframe tbody tr th {\n",
       "        vertical-align: top;\n",
       "    }\n",
       "\n",
       "    .dataframe thead th {\n",
       "        text-align: right;\n",
       "    }\n",
       "</style>\n",
       "<table border=\"1\" class=\"dataframe\">\n",
       "  <thead>\n",
       "    <tr style=\"text-align: right;\">\n",
       "      <th></th>\n",
       "      <th>MODELYEAR</th>\n",
       "      <th>MAKE</th>\n",
       "      <th>MODEL</th>\n",
       "      <th>VEHICLECLASS</th>\n",
       "      <th>ENGINESIZE</th>\n",
       "      <th>CYLINDERS</th>\n",
       "      <th>TRANSMISSION</th>\n",
       "      <th>FUELTYPE</th>\n",
       "      <th>FUELCONSUMPTION_CITY</th>\n",
       "      <th>FUELCONSUMPTION_HWY</th>\n",
       "      <th>FUELCONSUMPTION_COMB</th>\n",
       "      <th>FUELCONSUMPTION_COMB_MPG</th>\n",
       "      <th>CO2EMISSIONS</th>\n",
       "    </tr>\n",
       "  </thead>\n",
       "  <tbody>\n",
       "    <tr>\n",
       "      <th>0</th>\n",
       "      <td>2014</td>\n",
       "      <td>ACURA</td>\n",
       "      <td>ILX</td>\n",
       "      <td>COMPACT</td>\n",
       "      <td>2.0</td>\n",
       "      <td>4</td>\n",
       "      <td>AS5</td>\n",
       "      <td>Z</td>\n",
       "      <td>9.9</td>\n",
       "      <td>6.7</td>\n",
       "      <td>8.5</td>\n",
       "      <td>33</td>\n",
       "      <td>196</td>\n",
       "    </tr>\n",
       "    <tr>\n",
       "      <th>1</th>\n",
       "      <td>2014</td>\n",
       "      <td>ACURA</td>\n",
       "      <td>ILX</td>\n",
       "      <td>COMPACT</td>\n",
       "      <td>2.4</td>\n",
       "      <td>4</td>\n",
       "      <td>M6</td>\n",
       "      <td>Z</td>\n",
       "      <td>11.2</td>\n",
       "      <td>7.7</td>\n",
       "      <td>9.6</td>\n",
       "      <td>29</td>\n",
       "      <td>221</td>\n",
       "    </tr>\n",
       "  </tbody>\n",
       "</table>\n",
       "</div>"
      ],
      "text/plain": [
       "   MODELYEAR   MAKE MODEL VEHICLECLASS  ENGINESIZE  CYLINDERS TRANSMISSION  \\\n",
       "0       2014  ACURA   ILX      COMPACT         2.0          4          AS5   \n",
       "1       2014  ACURA   ILX      COMPACT         2.4          4           M6   \n",
       "\n",
       "  FUELTYPE  FUELCONSUMPTION_CITY  FUELCONSUMPTION_HWY  FUELCONSUMPTION_COMB  \\\n",
       "0        Z                   9.9                  6.7                   8.5   \n",
       "1        Z                  11.2                  7.7                   9.6   \n",
       "\n",
       "   FUELCONSUMPTION_COMB_MPG  CO2EMISSIONS  \n",
       "0                        33           196  \n",
       "1                        29           221  "
      ]
     },
     "execution_count": 11,
     "metadata": {},
     "output_type": "execute_result"
    }
   ],
   "source": [
    "df.head(2)"
   ]
  },
  {
   "cell_type": "markdown",
   "id": "51fe5f7e-9b5a-405b-8268-0594747d89d5",
   "metadata": {},
   "source": [
    "- Figure: Khung --> Tăng kích cỡ\n",
    "- Axes: Tấm ảnh --> Những thứ được vẽ lên"
   ]
  },
  {
   "cell_type": "code",
   "execution_count": 12,
   "id": "a8d2fb86-970f-4639-bb7e-57ed90fd5a95",
   "metadata": {},
   "outputs": [
    {
     "data": {
      "image/png": "[encoded data removed]",
      "text/plain": [
       "<Figure size 1440x432 with 3 Axes>"
      ]
     },
     "metadata": {
      "needs_background": "light"
     },
     "output_type": "display_data"
    }
   ],
   "source": [
    "fig, ax = plt.subplots(1, 3, figsize=(20, 6))\n",
    "ax[0].scatter(df.ENGINESIZE, df.CO2EMISSIONS)\n",
    "ax[0].set(xlabel='ENGINESIZE', ylabel='CO2EMISSIONS', title='ENGINESIZE VS CO2EMISSIONS')\n",
    "\n",
    "ax[1].scatter(df.CYLINDERS, df.CO2EMISSIONS)\n",
    "ax[1].set(xlabel='CYLINDERS', ylabel='CO2EMISSIONS', title='CYLINDERS VS CO2EMISSIONS')\n",
    "\n",
    "ax[2].scatter(df.FUELCONSUMPTION_HWY, df.CO2EMISSIONS)\n",
    "ax[2].set(xlabel='FUELCONSUMPTION_HWY', ylabel='CO2EMISSIONS', title='FUELCONSUMPTION_HWY VS CO2EMISSIONS')\n",
    "\n",
    "plt.show()"
   ]
  },
  {
   "cell_type": "code",
   "execution_count": 13,
   "id": "7cd16250-3456-4d89-a136-0b2a90f0c8fe",
   "metadata": {},
   "outputs": [
    {
     "data": {
      "image/png": "[encoded data removed]",
      "text/plain": [
       "<Figure size 432x432 with 1 Axes>"
      ]
     },
     "metadata": {
      "needs_background": "light"
     },
     "output_type": "display_data"
    }
   ],
   "source": [
    "sns.displot(data=df, x='FUELCONSUMPTION_HWY', kind='hist', height=6, );"
   ]
  },
  {
   "cell_type": "markdown",
   "id": "f2d97340-a6da-4275-acb2-10382c0e8001",
   "metadata": {},
   "source": [
    "### Simple Linear Regression"
   ]
  },
  {
   "cell_type": "markdown",
   "id": "d64ba81f-3d9c-4809-9237-88a9d924df9d",
   "metadata": {},
   "source": [
    "- Linear Regression\n",
    "- Logistic Regression"
   ]
  },
  {
   "cell_type": "code",
   "execution_count": 58,
   "id": "ff4913d2-2871-498c-ad1d-82523b0234c7",
   "metadata": {},
   "outputs": [],
   "source": [
    "cols = ['ENGINESIZE', 'CYLINDERS', 'FUELCONSUMPTION_HWY', 'CO2EMISSIONS']\n",
    "sub_cols = ['ENGINESIZE', 'CO2EMISSIONS']\n",
    "train_df = df[cols]"
   ]
  },
  {
   "cell_type": "code",
   "execution_count": 59,
   "id": "bd4a6340-385b-45de-be0d-9d06e034e612",
   "metadata": {},
   "outputs": [
    {
     "data": {
      "text/html": [
       "<div>\n",
       "<style scoped>\n",
       "    .dataframe tbody tr th:only-of-type {\n",
       "        vertical-align: middle;\n",
       "    }\n",
       "\n",
       "    .dataframe tbody tr th {\n",
       "        vertical-align: top;\n",
       "    }\n",
       "\n",
       "    .dataframe thead th {\n",
       "        text-align: right;\n",
       "    }\n",
       "</style>\n",
       "<table border=\"1\" class=\"dataframe\">\n",
       "  <thead>\n",
       "    <tr style=\"text-align: right;\">\n",
       "      <th></th>\n",
       "      <th>ENGINESIZE</th>\n",
       "      <th>CYLINDERS</th>\n",
       "      <th>FUELCONSUMPTION_HWY</th>\n",
       "      <th>CO2EMISSIONS</th>\n",
       "    </tr>\n",
       "  </thead>\n",
       "  <tbody>\n",
       "    <tr>\n",
       "      <th>0</th>\n",
       "      <td>2.0</td>\n",
       "      <td>4</td>\n",
       "      <td>6.7</td>\n",
       "      <td>196</td>\n",
       "    </tr>\n",
       "    <tr>\n",
       "      <th>1</th>\n",
       "      <td>2.4</td>\n",
       "      <td>4</td>\n",
       "      <td>7.7</td>\n",
       "      <td>221</td>\n",
       "    </tr>\n",
       "  </tbody>\n",
       "</table>\n",
       "</div>"
      ],
      "text/plain": [
       "   ENGINESIZE  CYLINDERS  FUELCONSUMPTION_HWY  CO2EMISSIONS\n",
       "0         2.0          4                  6.7           196\n",
       "1         2.4          4                  7.7           221"
      ]
     },
     "execution_count": 59,
     "metadata": {},
     "output_type": "execute_result"
    }
   ],
   "source": [
    "train_df.head(2)"
   ]
  },
  {
   "cell_type": "code",
   "execution_count": 60,
   "id": "26b8bfd7-12d1-4990-b80c-8fbf9c2f0406",
   "metadata": {},
   "outputs": [
    {
     "data": {
      "text/plain": [
       "(1067, 4)"
      ]
     },
     "execution_count": 60,
     "metadata": {},
     "output_type": "execute_result"
    }
   ],
   "source": [
    "train_df.shape"
   ]
  },
  {
   "cell_type": "markdown",
   "id": "741d6897-a392-47b2-938d-5e2238c3d4e8",
   "metadata": {},
   "source": [
    "Machine Learning: Generalization + Computing Power --> "
   ]
  },
  {
   "cell_type": "code",
   "execution_count": 17,
   "id": "df9932bd-7dd4-490a-902b-131e0373caab",
   "metadata": {},
   "outputs": [],
   "source": [
    "from sklearn.linear_model import LinearRegression\n",
    "from sklearn.metrics import mean_absolute_error, mean_squared_error, r2_score\n",
    "from sklearn.model_selection import train_test_split"
   ]
  },
  {
   "cell_type": "markdown",
   "id": "52edd63d-c238-4e99-8ecd-8448a6509139",
   "metadata": {},
   "source": [
    "#### No reasonable"
   ]
  },
  {
   "cell_type": "code",
   "execution_count": 61,
   "id": "7a133fb0-00e1-4093-ac6b-fcc11fc0d0ae",
   "metadata": {},
   "outputs": [
    {
     "data": {
      "text/plain": [
       "LinearRegression()"
      ]
     },
     "execution_count": 61,
     "metadata": {},
     "output_type": "execute_result"
    }
   ],
   "source": [
    "# Training model\n",
    "model = LinearRegression()\n",
    "model.fit(train_df[['ENGINESIZE', 'CYLINDERS', 'FUELCONSUMPTION_HWY']], train_df.CO2EMISSIONS)"
   ]
  },
  {
   "cell_type": "code",
   "execution_count": 62,
   "id": "80c7d08b-e636-4d56-9b3d-19390ba48a13",
   "metadata": {},
   "outputs": [
    {
     "data": {
      "text/plain": [
       "LinearRegression()"
      ]
     },
     "execution_count": 62,
     "metadata": {},
     "output_type": "execute_result"
    }
   ],
   "source": [
    "model"
   ]
  },
  {
   "cell_type": "code",
   "execution_count": 63,
   "id": "60fdf94e-b1b7-4248-83ae-1a9ab10f10f8",
   "metadata": {},
   "outputs": [
    {
     "data": {
      "text/plain": [
       "array([11.73071027,  9.52839063, 10.47283832])"
      ]
     },
     "execution_count": 63,
     "metadata": {},
     "output_type": "execute_result"
    }
   ],
   "source": [
    "model.coef_"
   ]
  },
  {
   "cell_type": "code",
   "execution_count": 64,
   "id": "673bd9f0-6541-43d3-a4b9-7575d8041e76",
   "metadata": {},
   "outputs": [
    {
     "data": {
      "text/plain": [
       "62.53359704782781"
      ]
     },
     "execution_count": 64,
     "metadata": {},
     "output_type": "execute_result"
    }
   ],
   "source": [
    "model.intercept_"
   ]
  },
  {
   "cell_type": "code",
   "execution_count": 65,
   "id": "43b23e28-59d6-46a2-9a63-b227f49c08a3",
   "metadata": {},
   "outputs": [],
   "source": [
    "y_predicted = model.predict(train_df[['ENGINESIZE', 'CYLINDERS', 'FUELCONSUMPTION_HWY']])"
   ]
  },
  {
   "cell_type": "code",
   "execution_count": 66,
   "id": "20dc74fe-33c3-4080-894f-07673800cd5b",
   "metadata": {},
   "outputs": [
    {
     "data": {
      "text/html": [
       "<div>\n",
       "<style scoped>\n",
       "    .dataframe tbody tr th:only-of-type {\n",
       "        vertical-align: middle;\n",
       "    }\n",
       "\n",
       "    .dataframe tbody tr th {\n",
       "        vertical-align: top;\n",
       "    }\n",
       "\n",
       "    .dataframe thead th {\n",
       "        text-align: right;\n",
       "    }\n",
       "</style>\n",
       "<table border=\"1\" class=\"dataframe\">\n",
       "  <thead>\n",
       "    <tr style=\"text-align: right;\">\n",
       "      <th></th>\n",
       "      <th>actual</th>\n",
       "      <th>predicted</th>\n",
       "    </tr>\n",
       "  </thead>\n",
       "  <tbody>\n",
       "    <tr>\n",
       "      <th>0</th>\n",
       "      <td>196</td>\n",
       "      <td>194.276597</td>\n",
       "    </tr>\n",
       "    <tr>\n",
       "      <th>1</th>\n",
       "      <td>221</td>\n",
       "      <td>209.441719</td>\n",
       "    </tr>\n",
       "    <tr>\n",
       "      <th>2</th>\n",
       "      <td>136</td>\n",
       "      <td>178.985687</td>\n",
       "    </tr>\n",
       "    <tr>\n",
       "      <th>3</th>\n",
       "      <td>255</td>\n",
       "      <td>256.064255</td>\n",
       "    </tr>\n",
       "    <tr>\n",
       "      <th>4</th>\n",
       "      <td>244</td>\n",
       "      <td>251.875120</td>\n",
       "    </tr>\n",
       "    <tr>\n",
       "      <th>...</th>\n",
       "      <td>...</td>\n",
       "      <td>...</td>\n",
       "    </tr>\n",
       "    <tr>\n",
       "      <th>1062</th>\n",
       "      <td>271</td>\n",
       "      <td>257.529887</td>\n",
       "    </tr>\n",
       "    <tr>\n",
       "      <th>1063</th>\n",
       "      <td>264</td>\n",
       "      <td>256.734178</td>\n",
       "    </tr>\n",
       "    <tr>\n",
       "      <th>1064</th>\n",
       "      <td>271</td>\n",
       "      <td>257.529887</td>\n",
       "    </tr>\n",
       "    <tr>\n",
       "      <th>1065</th>\n",
       "      <td>260</td>\n",
       "      <td>254.639610</td>\n",
       "    </tr>\n",
       "    <tr>\n",
       "      <th>1066</th>\n",
       "      <td>294</td>\n",
       "      <td>264.065165</td>\n",
       "    </tr>\n",
       "  </tbody>\n",
       "</table>\n",
       "<p>1067 rows × 2 columns</p>\n",
       "</div>"
      ],
      "text/plain": [
       "      actual   predicted\n",
       "0        196  194.276597\n",
       "1        221  209.441719\n",
       "2        136  178.985687\n",
       "3        255  256.064255\n",
       "4        244  251.875120\n",
       "...      ...         ...\n",
       "1062     271  257.529887\n",
       "1063     264  256.734178\n",
       "1064     271  257.529887\n",
       "1065     260  254.639610\n",
       "1066     294  264.065165\n",
       "\n",
       "[1067 rows x 2 columns]"
      ]
     },
     "execution_count": 66,
     "metadata": {},
     "output_type": "execute_result"
    }
   ],
   "source": [
    "pd.DataFrame({'actual': train_df.CO2EMISSIONS, 'predicted': y_predicted})"
   ]
  },
  {
   "cell_type": "code",
   "execution_count": 67,
   "id": "f83ee066-1470-4292-beb4-c097baa6242b",
   "metadata": {},
   "outputs": [
    {
     "data": {
      "text/plain": [
       "574.9070575158319"
      ]
     },
     "execution_count": 67,
     "metadata": {},
     "output_type": "execute_result"
    }
   ],
   "source": [
    "mean_squared_error(train_df.CO2EMISSIONS, y_predicted)"
   ]
  },
  {
   "cell_type": "code",
   "execution_count": 68,
   "id": "e3bc2e1a-9fb0-4a80-be11-fc79ad5ce416",
   "metadata": {},
   "outputs": [
    {
     "data": {
      "text/plain": [
       "17.485910222683852"
      ]
     },
     "execution_count": 68,
     "metadata": {},
     "output_type": "execute_result"
    }
   ],
   "source": [
    "mean_absolute_error(train_df.CO2EMISSIONS, y_predicted)"
   ]
  },
  {
   "cell_type": "code",
   "execution_count": 69,
   "id": "fb0c31bb-8d40-4230-b5f0-0a1205347f76",
   "metadata": {},
   "outputs": [
    {
     "data": {
      "text/plain": [
       "85.67133084792763"
      ]
     },
     "execution_count": 69,
     "metadata": {},
     "output_type": "execute_result"
    }
   ],
   "source": [
    "r2_score(train_df.CO2EMISSIONS, y_predicted) * 100"
   ]
  },
  {
   "cell_type": "markdown",
   "id": "760eab8b-16cc-4f9f-8898-a045928121c6",
   "metadata": {},
   "source": [
    "### Evaluation way"
   ]
  },
  {
   "cell_type": "markdown",
   "id": "b0bf1e78-a971-4066-86bf-d6a1966fb9f3",
   "metadata": {},
   "source": [
    "![](https://algotrading101.com/learn/wp-content/uploads/2020/06/training-validation-test-data-set.png)"
   ]
  },
  {
   "cell_type": "markdown",
   "id": "93cc28bb-ce1d-40eb-a928-4143d58257c2",
   "metadata": {},
   "source": [
    "#### K-folds"
   ]
  },
  {
   "cell_type": "markdown",
   "id": "7616ed75-af89-4c87-80f0-128ea1734931",
   "metadata": {},
   "source": [
    "![Cross validation](https://scikit-learn.org/stable/_images/grid_search_cross_validation.png)"
   ]
  },
  {
   "cell_type": "code",
   "execution_count": 71,
   "id": "e3ad62f2-c1c2-4be2-960d-f8151b5af0b5",
   "metadata": {},
   "outputs": [],
   "source": [
    "X_train, X_test, y_train, y_test = train_test_split(train_df[['ENGINESIZE', 'CYLINDERS', 'FUELCONSUMPTION_HWY']], df.CO2EMISSIONS, \n",
    "                                                    test_size=0.2, shuffle=True, random_state=4)"
   ]
  },
  {
   "cell_type": "code",
   "execution_count": 72,
   "id": "8473f3a4-b61d-4708-8a89-fff44f753bd0",
   "metadata": {},
   "outputs": [
    {
     "data": {
      "text/plain": [
       "LinearRegression()"
      ]
     },
     "execution_count": 72,
     "metadata": {},
     "output_type": "execute_result"
    }
   ],
   "source": [
    "# Training model\n",
    "model = LinearRegression()\n",
    "model.fit(X_train, y_train)"
   ]
  },
  {
   "cell_type": "code",
   "execution_count": 73,
   "id": "dbe71106-23ea-45f4-a310-ad321d975a4a",
   "metadata": {},
   "outputs": [
    {
     "data": {
      "text/plain": [
       "array([11.18780738,  9.6726911 , 10.55395153])"
      ]
     },
     "execution_count": 73,
     "metadata": {},
     "output_type": "execute_result"
    }
   ],
   "source": [
    "model.coef_"
   ]
  },
  {
   "cell_type": "code",
   "execution_count": 74,
   "id": "62c1ef7f-c5e9-490f-a568-d17ec6308b3e",
   "metadata": {},
   "outputs": [
    {
     "data": {
      "text/plain": [
       "62.48270527375121"
      ]
     },
     "execution_count": 74,
     "metadata": {},
     "output_type": "execute_result"
    }
   ],
   "source": [
    "model.intercept_"
   ]
  },
  {
   "cell_type": "code",
   "execution_count": 79,
   "id": "4710acce-2a41-4c85-b6b5-3abfb2a451bc",
   "metadata": {},
   "outputs": [],
   "source": [
    "y_predicted = model.predict(X_test)"
   ]
  },
  {
   "cell_type": "code",
   "execution_count": 96,
   "id": "4a61ab72-16ac-49fd-bffc-5244129d695c",
   "metadata": {},
   "outputs": [],
   "source": [
    "df_result = pd.DataFrame({'actual': y_test, 'predicted': y_predicted})\n",
    "df_result['squared_error'] = df_result.eval(\"(actual - predicted)**2\")\n",
    "df_result['error'] = df_result.eval(\"actual - predicted\")"
   ]
  },
  {
   "cell_type": "code",
   "execution_count": 97,
   "id": "54704812-4333-482e-abe3-8559c32eda09",
   "metadata": {},
   "outputs": [
    {
     "data": {
      "image/png": "[encoded data removed]",
      "text/plain": [
       "<Figure size 1440x864 with 2 Axes>"
      ]
     },
     "metadata": {
      "needs_background": "light"
     },
     "output_type": "display_data"
    }
   ],
   "source": [
    "fig, ax = plt.subplots(2, 1, figsize=(20, 12))\n",
    "ax[0].scatter(range(df_result.shape[0]), df_result.squared_error, s=df_result.error, label=\"Squared Error\")\n",
    "ax[1].scatter(range(df_result.shape[0]), df_result.error, s=df_result.error, label=\"Error\");"
   ]
  },
  {
   "cell_type": "code",
   "execution_count": 101,
   "id": "38dd7ce1-b050-4456-9d34-cf50ee03645f",
   "metadata": {},
   "outputs": [],
   "source": [
    "df_engine = pd.DataFrame({'ENGINESIZE': X_test.ENGINESIZE, 'y_predicted': y_predicted})\n",
    "df_engine.sort_values(by='ENGINESIZE', ascending=False, inplace=True)"
   ]
  },
  {
   "cell_type": "code",
   "execution_count": 112,
   "id": "496a2c6e-5dff-4fce-a6aa-43b197d041ad",
   "metadata": {},
   "outputs": [
    {
     "data": {
      "image/png": "[encoded data removed]",
      "text/plain": [
       "<Figure size 432x288 with 1 Axes>"
      ]
     },
     "metadata": {
      "needs_background": "light"
     },
     "output_type": "display_data"
    }
   ],
   "source": [
    "plt.scatter(X_test.ENGINESIZE, y_test, label='Actual')\n",
    "plt.scatter(X_test.ENGINESIZE, y_predicted, label='Predicted')\n",
    "\n",
    "df = pd.DataFrame({'engine': X_test.ENGINESIZE, 'predicted': y_predicted}).sort_values('engine', ascending=False)\n",
    "plt.plot(df.engine, df.predicted)\n",
    "\n",
    "plt.plot(X_test.ENGINESIZE, \n",
    "         model.coef_[0] * X_test.ENGINESIZE + model.intercept_)\n",
    "plt.legend(loc='best')\n",
    "plt.show()"
   ]
  },
  {
   "cell_type": "code",
   "execution_count": 82,
   "id": "ce35229f-5df7-4cec-8386-0ea71421e411",
   "metadata": {},
   "outputs": [
    {
     "data": {
      "text/plain": [
       "429.32421598485786"
      ]
     },
     "execution_count": 82,
     "metadata": {},
     "output_type": "execute_result"
    }
   ],
   "source": [
    "mean_squared_error(y_test, y_predicted)"
   ]
  },
  {
   "cell_type": "code",
   "execution_count": 83,
   "id": "e4163423-2974-48d9-80a0-e1ae9d2d7008",
   "metadata": {},
   "outputs": [
    {
     "data": {
      "text/plain": [
       "15.119431390528096"
      ]
     },
     "execution_count": 83,
     "metadata": {},
     "output_type": "execute_result"
    }
   ],
   "source": [
    "mean_absolute_error(y_test, y_predicted)"
   ]
  },
  {
   "cell_type": "code",
   "execution_count": 85,
   "id": "f83c043d-06e3-401e-ac86-f2704687f315",
   "metadata": {},
   "outputs": [
    {
     "data": {
      "text/plain": [
       "88.4381539143933"
      ]
     },
     "execution_count": 85,
     "metadata": {},
     "output_type": "execute_result"
    }
   ],
   "source": [
    "r2_score(y_test, y_predicted) * 100"
   ]
  },
  {
   "cell_type": "code",
   "execution_count": null,
   "id": "df6ca4fa-e192-4433-88d6-3c7544fe8570",
   "metadata": {},
   "outputs": [],
   "source": []
  }
 ],
 "metadata": {
  "kernelspec": {
   "display_name": "Python 3",
   "language": "python",
   "name": "python3"
  },
  "language_info": {
   "codemirror_mode": {
    "name": "ipython",
    "version": 3
   },
   "file_extension": ".py",
   "mimetype": "text/x-python",
   "name": "python",
   "nbconvert_exporter": "python",
   "pygments_lexer": "ipython3",
   "version": "3.7.10"
  }
 },
 "nbformat": 4,
 "nbformat_minor": 5
}
