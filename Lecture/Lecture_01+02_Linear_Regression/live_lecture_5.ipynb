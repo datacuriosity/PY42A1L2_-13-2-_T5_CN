{
 "cells": [
  {
   "cell_type": "code",
   "execution_count": 5,
   "id": "30fae1ec-7491-4c2a-9bc5-b9e00c9e10cd",
   "metadata": {},
   "outputs": [],
   "source": [
    "import numpy as np\n",
    "import pandas as pd\n",
    "import matplotlib.pyplot as plt"
   ]
  },
  {
   "cell_type": "markdown",
   "id": "318d123f-256f-4fcd-99a5-cf5bfeb61fda",
   "metadata": {},
   "source": [
    "### Simple Scaling"
   ]
  },
  {
   "cell_type": "markdown",
   "id": "ac68c0f7-7d8d-47b2-80df-117d91147d38",
   "metadata": {},
   "source": [
    "$$X_{i} = \\frac{X_i}{\\text{X_max}}$$"
   ]
  },
  {
   "cell_type": "code",
   "execution_count": 4,
   "id": "4a4a02df-c3f2-400b-85ed-9eeb565340c3",
   "metadata": {},
   "outputs": [
    {
     "data": {
      "text/plain": [
       "array([0.1       , 0.10909091, 0.11818182, 0.12727273, 0.13636364,\n",
       "       0.14545455, 0.15454545, 0.16363636, 0.17272727, 0.18181818,\n",
       "       0.19090909, 0.2       , 0.20909091, 0.21818182, 0.22727273,\n",
       "       0.23636364, 0.24545455, 0.25454545, 0.26363636, 0.27272727,\n",
       "       0.28181818, 0.29090909, 0.3       , 0.30909091, 0.31818182,\n",
       "       0.32727273, 0.33636364, 0.34545455, 0.35454545, 0.36363636,\n",
       "       0.37272727, 0.38181818, 0.39090909, 0.4       , 0.40909091,\n",
       "       0.41818182, 0.42727273, 0.43636364, 0.44545455, 0.45454545,\n",
       "       0.46363636, 0.47272727, 0.48181818, 0.49090909, 0.5       ,\n",
       "       0.50909091, 0.51818182, 0.52727273, 0.53636364, 0.54545455,\n",
       "       0.55454545, 0.56363636, 0.57272727, 0.58181818, 0.59090909,\n",
       "       0.6       , 0.60909091, 0.61818182, 0.62727273, 0.63636364,\n",
       "       0.64545455, 0.65454545, 0.66363636, 0.67272727, 0.68181818,\n",
       "       0.69090909, 0.7       , 0.70909091, 0.71818182, 0.72727273,\n",
       "       0.73636364, 0.74545455, 0.75454545, 0.76363636, 0.77272727,\n",
       "       0.78181818, 0.79090909, 0.8       , 0.80909091, 0.81818182,\n",
       "       0.82727273, 0.83636364, 0.84545455, 0.85454545, 0.86363636,\n",
       "       0.87272727, 0.88181818, 0.89090909, 0.9       , 0.90909091,\n",
       "       0.91818182, 0.92727273, 0.93636364, 0.94545455, 0.95454545,\n",
       "       0.96363636, 0.97272727, 0.98181818, 0.99090909, 1.        ])"
      ]
     },
     "execution_count": 4,
     "metadata": {},
     "output_type": "execute_result"
    }
   ],
   "source": [
    "arr = np.linspace(10_000_000, 100_000_000, 100)\n",
    "arr / arr.max()"
   ]
  },
  {
   "cell_type": "markdown",
   "id": "3b800b21-1e6a-40f5-9215-ec41b79be9c2",
   "metadata": {},
   "source": [
    "### Stardandization, Z-score scaling"
   ]
  },
  {
   "cell_type": "markdown",
   "id": "c08ece64-b9ce-4a2b-9fa7-00cc0b2c6c3e",
   "metadata": {},
   "source": [
    "![](https://media.geeksforgeeks.org/wp-content/uploads/standardisation.jpg)"
   ]
  },
  {
   "cell_type": "code",
   "execution_count": 6,
   "id": "0ce0d965-78e4-4501-b011-ae01e5f8d1f8",
   "metadata": {},
   "outputs": [],
   "source": [
    "arr_before = np.random.normal(10, 5, size=(10000))"
   ]
  },
  {
   "cell_type": "code",
   "execution_count": 8,
   "id": "0e10e4de-45e1-4e2a-9ad8-3a26f22e0ee1",
   "metadata": {},
   "outputs": [
    {
     "data": {
      "image/png": "[encoded data removed]",
      "text/plain": [
       "<Figure size 432x288 with 1 Axes>"
      ]
     },
     "metadata": {
      "needs_background": "light"
     },
     "output_type": "display_data"
    }
   ],
   "source": [
    "plt.hist(arr_before, bins=100)\n",
    "plt.show()"
   ]
  },
  {
   "cell_type": "code",
   "execution_count": 9,
   "id": "afdb9413-3578-4adb-be17-0f64b8d8b128",
   "metadata": {},
   "outputs": [],
   "source": [
    "arr_after = (arr_before - arr_before.mean()) / arr_before.std()"
   ]
  },
  {
   "cell_type": "code",
   "execution_count": 10,
   "id": "3008a222-c2dd-427b-993a-7503fbfd6f2f",
   "metadata": {},
   "outputs": [
    {
     "data": {
      "image/png": "[encoded data removed]",
      "text/plain": [
       "<Figure size 432x288 with 1 Axes>"
      ]
     },
     "metadata": {
      "needs_background": "light"
     },
     "output_type": "display_data"
    }
   ],
   "source": [
    "plt.hist(arr_after, bins=100)\n",
    "plt.show()"
   ]
  },
  {
   "cell_type": "markdown",
   "id": "5848a0b6-fd9a-4e5f-8011-24e77acc74a2",
   "metadata": {},
   "source": [
    "### Normalization"
   ]
  },
  {
   "cell_type": "markdown",
   "id": "18054655-7c23-4c81-b72e-a4a7fcb032be",
   "metadata": {},
   "source": [
    "![](https://cdn.educba.com/academy/wp-content/uploads/2019/05/Normalization-Formula.jpg)"
   ]
  },
  {
   "cell_type": "code",
   "execution_count": 13,
   "id": "93d92d7e-d3c3-4830-823a-07b0340eca03",
   "metadata": {},
   "outputs": [],
   "source": [
    "arr_normalization = (arr - arr.min()) / (arr.max() - arr.min())"
   ]
  },
  {
   "cell_type": "code",
   "execution_count": 14,
   "id": "44399473-777d-45ed-813f-cda821340636",
   "metadata": {},
   "outputs": [
    {
     "data": {
      "text/plain": [
       "array([0.        , 0.01010101, 0.02020202, 0.03030303, 0.04040404,\n",
       "       0.05050505, 0.06060606, 0.07070707, 0.08080808, 0.09090909,\n",
       "       0.1010101 , 0.11111111, 0.12121212, 0.13131313, 0.14141414,\n",
       "       0.15151515, 0.16161616, 0.17171717, 0.18181818, 0.19191919,\n",
       "       0.2020202 , 0.21212121, 0.22222222, 0.23232323, 0.24242424,\n",
       "       0.25252525, 0.26262626, 0.27272727, 0.28282828, 0.29292929,\n",
       "       0.3030303 , 0.31313131, 0.32323232, 0.33333333, 0.34343434,\n",
       "       0.35353535, 0.36363636, 0.37373737, 0.38383838, 0.39393939,\n",
       "       0.4040404 , 0.41414141, 0.42424242, 0.43434343, 0.44444444,\n",
       "       0.45454545, 0.46464646, 0.47474747, 0.48484848, 0.49494949,\n",
       "       0.50505051, 0.51515152, 0.52525253, 0.53535354, 0.54545455,\n",
       "       0.55555556, 0.56565657, 0.57575758, 0.58585859, 0.5959596 ,\n",
       "       0.60606061, 0.61616162, 0.62626263, 0.63636364, 0.64646465,\n",
       "       0.65656566, 0.66666667, 0.67676768, 0.68686869, 0.6969697 ,\n",
       "       0.70707071, 0.71717172, 0.72727273, 0.73737374, 0.74747475,\n",
       "       0.75757576, 0.76767677, 0.77777778, 0.78787879, 0.7979798 ,\n",
       "       0.80808081, 0.81818182, 0.82828283, 0.83838384, 0.84848485,\n",
       "       0.85858586, 0.86868687, 0.87878788, 0.88888889, 0.8989899 ,\n",
       "       0.90909091, 0.91919192, 0.92929293, 0.93939394, 0.94949495,\n",
       "       0.95959596, 0.96969697, 0.97979798, 0.98989899, 1.        ])"
      ]
     },
     "execution_count": 14,
     "metadata": {},
     "output_type": "execute_result"
    }
   ],
   "source": [
    "arr_normalization"
   ]
  },
  {
   "cell_type": "markdown",
   "id": "991d094f-f438-47e9-9ecb-39374e2a3902",
   "metadata": {},
   "source": [
    "### Overfit"
   ]
  },
  {
   "cell_type": "markdown",
   "id": "ce485c2b-2d2e-4aaa-bb03-7f150ae3c818",
   "metadata": {},
   "source": [
    "![](https://i.stack.imgur.com/t0zit.png)"
   ]
  },
  {
   "cell_type": "markdown",
   "id": "ea55edf8-a14f-4100-a4fe-62a0636a0dae",
   "metadata": {},
   "source": [
    "![](https://media.geeksforgeeks.org/wp-content/cdn-uploads/20190523171258/overfitting_2.png)"
   ]
  },
  {
   "cell_type": "markdown",
   "id": "96b6301e-17b5-4cca-857f-1c00cb7ecc4f",
   "metadata": {},
   "source": [
    "![](https://vitalflux.com/wp-content/uploads/2020/12/overfitting-and-underfitting-wrt-model-error-vs-complexity.png)"
   ]
  },
  {
   "cell_type": "markdown",
   "id": "11cbaf7b-e237-492d-9dd3-6f81f5ec508f",
   "metadata": {},
   "source": [
    "![](https://www.researchgate.net/profile/Benyamin-Ghojogh/publication/333505702/figure/fig5/AS:764463133249538@1559273622858/The-overfitting-of-model-a-training-error-and-true-error-b-depiction-of-Eq-33.ppm)"
   ]
  },
  {
   "cell_type": "markdown",
   "id": "a1f2e38e-3159-4440-82b1-670184d706bd",
   "metadata": {},
   "source": [
    "![](https://encrypted-tbn0.gstatic.com/images?q=tbn:ANd9GcQBsyHvLvsTHKU2CAFS0DiSubp-yRkamdSOFVTF94VbBr5Byoz7wZuo33TkAi6Ai8FfTsc&usqp=CAU)"
   ]
  },
  {
   "cell_type": "markdown",
   "id": "b0df435e-de2b-4d3c-8802-93cb1f4fa164",
   "metadata": {},
   "source": [
    "![](https://nvsyashwanth.github.io/machinelearningmaster/assets/images/bias_variance.jpg)"
   ]
  },
  {
   "cell_type": "markdown",
   "id": "286fe41b-dc4f-453a-936d-e8603ccc37cb",
   "metadata": {},
   "source": [
    "### Regularization"
   ]
  },
  {
   "cell_type": "markdown",
   "id": "f43a3ab0-6ef3-40f7-9206-09d8bacec79b",
   "metadata": {},
   "source": [
    "![](data:image/png;base64,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)"
   ]
  },
  {
   "cell_type": "markdown",
   "id": "f21802ed-6f83-4593-924a-f49106693b34",
   "metadata": {},
   "source": [
    "![](https://preview.redd.it/qsvpjvjd6ut41.png?width=493&format=png&auto=webp&s=03c4497e6beb7516bfde3ebf29843eec242290cf)"
   ]
  },
  {
   "cell_type": "markdown",
   "id": "aa5da050-a860-4ad0-8931-4c31f79c4fca",
   "metadata": {},
   "source": [
    "#### Elastic Net Regularization"
   ]
  },
  {
   "cell_type": "markdown",
   "id": "747415f4-760a-446f-9cd3-bd21c48e1731",
   "metadata": {},
   "source": [
    "![](https://media.geeksforgeeks.org/wp-content/uploads/20200723010928/Elastic_1.png)"
   ]
  },
  {
   "cell_type": "code",
   "execution_count": null,
   "id": "b38a046d-7ce0-4e68-94c5-6616fd504f40",
   "metadata": {},
   "outputs": [],
   "source": []
  }
 ],
 "metadata": {
  "kernelspec": {
   "display_name": "Python 3",
   "language": "python",
   "name": "python3"
  },
  "language_info": {
   "codemirror_mode": {
    "name": "ipython",
    "version": 3
   },
   "file_extension": ".py",
   "mimetype": "text/x-python",
   "name": "python",
   "nbconvert_exporter": "python",
   "pygments_lexer": "ipython3",
   "version": "3.7.10"
  }
 },
 "nbformat": 4,
 "nbformat_minor": 5
}
