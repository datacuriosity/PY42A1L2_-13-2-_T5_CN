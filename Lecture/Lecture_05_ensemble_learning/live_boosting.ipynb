{
 "cells": [
  {
   "cell_type": "code",
   "execution_count": 54,
   "id": "ccc2a0dd-cf7b-432e-9001-8709355b0de2",
   "metadata": {},
   "outputs": [],
   "source": [
    "import pandas as pd\n",
    "import numpy as np\n",
    "import matplotlib.pyplot as plt\n",
    "from sklearn.model_selection import train_test_split\n",
    "from sklearn.metrics import roc_auc_score, confusion_matrix, classification_report\n",
    "from sklearn.calibration import CalibratedClassifierCV, calibration_curve\n",
    "import seaborn as sns"
   ]
  },
  {
   "cell_type": "code",
   "execution_count": 16,
   "id": "b018c27d-ebdd-4842-a815-1f155f5f5750",
   "metadata": {},
   "outputs": [],
   "source": [
    "import lightgbm as lgb\n",
    "from explainerdashboard import ExplainerDashboard, ClassifierExplainer"
   ]
  },
  {
   "cell_type": "code",
   "execution_count": 2,
   "id": "71c45066-f5a7-4859-b78a-f0b56fc49d8d",
   "metadata": {},
   "outputs": [
    {
     "data": {
      "text/html": [
       "<div>\n",
       "<style scoped>\n",
       "    .dataframe tbody tr th:only-of-type {\n",
       "        vertical-align: middle;\n",
       "    }\n",
       "\n",
       "    .dataframe tbody tr th {\n",
       "        vertical-align: top;\n",
       "    }\n",
       "\n",
       "    .dataframe thead th {\n",
       "        text-align: right;\n",
       "    }\n",
       "</style>\n",
       "<table border=\"1\" class=\"dataframe\">\n",
       "  <thead>\n",
       "    <tr style=\"text-align: right;\">\n",
       "      <th></th>\n",
       "      <th>SeriousDlqin2yrs</th>\n",
       "      <th>RevolvingUtilizationOfUnsecuredLines</th>\n",
       "      <th>age</th>\n",
       "      <th>NumberOfTime30-59DaysPastDueNotWorse</th>\n",
       "      <th>DebtRatio</th>\n",
       "      <th>MonthlyIncome</th>\n",
       "      <th>NumberOfOpenCreditLinesAndLoans</th>\n",
       "      <th>NumberOfTimes90DaysLate</th>\n",
       "      <th>NumberRealEstateLoansOrLines</th>\n",
       "      <th>NumberOfTime60-89DaysPastDueNotWorse</th>\n",
       "      <th>NumberOfDependents</th>\n",
       "    </tr>\n",
       "  </thead>\n",
       "  <tbody>\n",
       "    <tr>\n",
       "      <th>1</th>\n",
       "      <td>1</td>\n",
       "      <td>0.766127</td>\n",
       "      <td>45</td>\n",
       "      <td>2</td>\n",
       "      <td>0.802982</td>\n",
       "      <td>9120.0</td>\n",
       "      <td>13</td>\n",
       "      <td>0</td>\n",
       "      <td>6</td>\n",
       "      <td>0</td>\n",
       "      <td>2.0</td>\n",
       "    </tr>\n",
       "    <tr>\n",
       "      <th>2</th>\n",
       "      <td>0</td>\n",
       "      <td>0.957151</td>\n",
       "      <td>40</td>\n",
       "      <td>0</td>\n",
       "      <td>0.121876</td>\n",
       "      <td>2600.0</td>\n",
       "      <td>4</td>\n",
       "      <td>0</td>\n",
       "      <td>0</td>\n",
       "      <td>0</td>\n",
       "      <td>1.0</td>\n",
       "    </tr>\n",
       "  </tbody>\n",
       "</table>\n",
       "</div>"
      ],
      "text/plain": [
       "   SeriousDlqin2yrs  RevolvingUtilizationOfUnsecuredLines  age  \\\n",
       "1                 1                              0.766127   45   \n",
       "2                 0                              0.957151   40   \n",
       "\n",
       "   NumberOfTime30-59DaysPastDueNotWorse  DebtRatio  MonthlyIncome  \\\n",
       "1                                     2   0.802982         9120.0   \n",
       "2                                     0   0.121876         2600.0   \n",
       "\n",
       "   NumberOfOpenCreditLinesAndLoans  NumberOfTimes90DaysLate  \\\n",
       "1                               13                        0   \n",
       "2                                4                        0   \n",
       "\n",
       "   NumberRealEstateLoansOrLines  NumberOfTime60-89DaysPastDueNotWorse  \\\n",
       "1                             6                                     0   \n",
       "2                             0                                     0   \n",
       "\n",
       "   NumberOfDependents  \n",
       "1                 2.0  \n",
       "2                 1.0  "
      ]
     },
     "execution_count": 2,
     "metadata": {},
     "output_type": "execute_result"
    }
   ],
   "source": [
    "df = pd.read_csv('cs-training.csv', index_col=0)\n",
    "df.head(2)"
   ]
  },
  {
   "cell_type": "markdown",
   "id": "a9f7c6d8-d73e-4822-86f0-3fd712943dc2",
   "metadata": {},
   "source": [
    "### Analysis"
   ]
  },
  {
   "cell_type": "code",
   "execution_count": 3,
   "id": "46151fab-d285-4af9-897e-1b76027c0906",
   "metadata": {},
   "outputs": [
    {
     "data": {
      "text/plain": [
       "Index(['SeriousDlqin2yrs', 'RevolvingUtilizationOfUnsecuredLines', 'age',\n",
       "       'NumberOfTime30-59DaysPastDueNotWorse', 'DebtRatio', 'MonthlyIncome',\n",
       "       'NumberOfOpenCreditLinesAndLoans', 'NumberOfTimes90DaysLate',\n",
       "       'NumberRealEstateLoansOrLines', 'NumberOfTime60-89DaysPastDueNotWorse',\n",
       "       'NumberOfDependents'],\n",
       "      dtype='object')"
      ]
     },
     "execution_count": 3,
     "metadata": {},
     "output_type": "execute_result"
    }
   ],
   "source": [
    "df.columns"
   ]
  },
  {
   "cell_type": "code",
   "execution_count": 4,
   "id": "abfd5263-715b-4a5d-9f36-1db4db742d6b",
   "metadata": {},
   "outputs": [
    {
     "data": {
      "text/plain": [
       "SeriousDlqin2yrs                        0.000000\n",
       "RevolvingUtilizationOfUnsecuredLines    0.000000\n",
       "age                                     0.000000\n",
       "NumberOfTime30-59DaysPastDueNotWorse    0.000000\n",
       "DebtRatio                               0.000000\n",
       "MonthlyIncome                           0.198207\n",
       "NumberOfOpenCreditLinesAndLoans         0.000000\n",
       "NumberOfTimes90DaysLate                 0.000000\n",
       "NumberRealEstateLoansOrLines            0.000000\n",
       "NumberOfTime60-89DaysPastDueNotWorse    0.000000\n",
       "NumberOfDependents                      0.026160\n",
       "dtype: float64"
      ]
     },
     "execution_count": 4,
     "metadata": {},
     "output_type": "execute_result"
    }
   ],
   "source": [
    "df.isnull().mean()"
   ]
  },
  {
   "cell_type": "markdown",
   "id": "164f2332-12fa-4ad1-bf41-01a8e8310c2c",
   "metadata": {},
   "source": [
    "### Preparation"
   ]
  },
  {
   "cell_type": "markdown",
   "id": "acaba59b-af75-4648-a339-bbe16f6ac318",
   "metadata": {},
   "source": [
    "Implement for Gradient Boosting Algorithm\n",
    "\n",
    "- CatBoost: Yadex, No tuning\n",
    "- XGboost: Washington University\n",
    "- LightGBM: Microsoft --> data > 10,000"
   ]
  },
  {
   "cell_type": "code",
   "execution_count": 40,
   "id": "225fb351-833b-43cf-beb9-acbc1cc916c3",
   "metadata": {},
   "outputs": [],
   "source": [
    "X_train, X_test, y_train, y_test = train_test_split(df.drop(columns='SeriousDlqin2yrs'), df.SeriousDlqin2yrs, test_size=0.15,\n",
    "                                                   shuffle=True, stratify=df.SeriousDlqin2yrs, random_state=9)\n",
    "\n",
    "valid_size = y_test.shape[0] / y_train.shape[0]\n",
    "\n",
    "X_train, X_valid, y_train, y_valid = train_test_split(X_train, y_train, test_size=valid_size,\n",
    "                                                   shuffle=True, stratify=y_train, random_state=9)"
   ]
  },
  {
   "cell_type": "code",
   "execution_count": 10,
   "id": "9bd21ce5-0078-43d5-b3f7-41d415882feb",
   "metadata": {},
   "outputs": [
    {
     "data": {
      "text/plain": [
       "((105000, 10), (22500, 10), (22500, 10))"
      ]
     },
     "execution_count": 10,
     "metadata": {},
     "output_type": "execute_result"
    }
   ],
   "source": [
    "X_train.shape, X_test.shape, X_valid.shape"
   ]
  },
  {
   "cell_type": "code",
   "execution_count": 15,
   "id": "e5d6aede-ed52-40bb-9584-bfe331413def",
   "metadata": {},
   "outputs": [
    {
     "data": {
      "text/plain": [
       "0    93.316\n",
       "1     6.684\n",
       "Name: SeriousDlqin2yrs, dtype: float64"
      ]
     },
     "execution_count": 15,
     "metadata": {},
     "output_type": "execute_result"
    }
   ],
   "source": [
    "df.SeriousDlqin2yrs.value_counts(normalize=True) * 100"
   ]
  },
  {
   "cell_type": "code",
   "execution_count": 12,
   "id": "253015a8-d4a6-4869-9a04-6b67615826f1",
   "metadata": {},
   "outputs": [
    {
     "data": {
      "text/plain": [
       "0    93.31619\n",
       "1     6.68381\n",
       "Name: SeriousDlqin2yrs, dtype: float64"
      ]
     },
     "execution_count": 12,
     "metadata": {},
     "output_type": "execute_result"
    }
   ],
   "source": [
    "y_train.value_counts(normalize=True) * 100"
   ]
  },
  {
   "cell_type": "code",
   "execution_count": 13,
   "id": "1104cda7-1fdb-4150-b473-1e2eca29a680",
   "metadata": {},
   "outputs": [
    {
     "data": {
      "text/plain": [
       "0    93.315556\n",
       "1     6.684444\n",
       "Name: SeriousDlqin2yrs, dtype: float64"
      ]
     },
     "execution_count": 13,
     "metadata": {},
     "output_type": "execute_result"
    }
   ],
   "source": [
    "y_test.value_counts(normalize=True) * 100"
   ]
  },
  {
   "cell_type": "code",
   "execution_count": 14,
   "id": "bf2fd634-c324-452d-9386-3bb0857fbcc4",
   "metadata": {},
   "outputs": [
    {
     "data": {
      "text/plain": [
       "0    93.315556\n",
       "1     6.684444\n",
       "Name: SeriousDlqin2yrs, dtype: float64"
      ]
     },
     "execution_count": 14,
     "metadata": {},
     "output_type": "execute_result"
    }
   ],
   "source": [
    "y_valid.value_counts(normalize=True) * 100"
   ]
  },
  {
   "cell_type": "code",
   "execution_count": 19,
   "id": "8349e55c-3d94-4cc6-b2b0-cd1168fc0f71",
   "metadata": {},
   "outputs": [
    {
     "data": {
      "text/plain": [
       "(120000, 10)"
      ]
     },
     "execution_count": 19,
     "metadata": {},
     "output_type": "execute_result"
    }
   ],
   "source": [
    "X_train.shape"
   ]
  },
  {
   "cell_type": "markdown",
   "id": "eaff8a00-f4f6-48a5-9fc8-83b0db09f5ac",
   "metadata": {},
   "source": [
    "### Modeling"
   ]
  },
  {
   "cell_type": "code",
   "execution_count": 17,
   "id": "7016b691-e7f1-41fb-a99e-9fd962fecac0",
   "metadata": {},
   "outputs": [],
   "source": [
    "train_set = lgb.Dataset(X_train, y_train)\n",
    "valid_set = lgb.Dataset(X_valid, y_valid)\n",
    "test_set = lgb.Dataset(X_test, y_test)"
   ]
  },
  {
   "cell_type": "code",
   "execution_count": 33,
   "id": "38693fe0-7faf-4c87-bd82-2dee0f50181e",
   "metadata": {},
   "outputs": [
    {
     "name": "stdout",
     "output_type": "stream",
     "text": [
      "[LightGBM] [Info] Number of positive: 7018, number of negative: 97982\n",
      "[LightGBM] [Warning] Auto-choosing col-wise multi-threading, the overhead of testing was 0.007048 seconds.\n",
      "You can set `force_col_wise=true` to remove the overhead.\n",
      "[LightGBM] [Info] Total Bins 973\n",
      "[LightGBM] [Info] Number of data points in the train set: 105000, number of used features: 10\n",
      "[LightGBM] [Info] [binary:BoostFromScore]: pavg=0.066838 -> initscore=-2.636306\n",
      "[LightGBM] [Info] Start training from score -2.636306\n"
     ]
    }
   ],
   "source": [
    "params = {\n",
    "    'objective': 'binary',\n",
    "    'boosting': 'gbdt',\n",
    "    'metric': ['binary_logloss', 'auc'],\n",
    "    'learning_rate': 0.001,\n",
    "    'max_depth': 5,\n",
    "    'num_leaves': 10,\n",
    "    'min_data_in_leaf': 1000,\n",
    "    'bagging_fraction': 1,\n",
    "    'feature_fraction': 1,\n",
    "    'n_jobs': 8\n",
    "}\n",
    "\n",
    "eval_result = {}\n",
    "model = lgb.train(params, train_set, num_boost_round=2000, valid_sets=[train_set, valid_set], evals_result=eval_result, verbose_eval=0)"
   ]
  },
  {
   "cell_type": "markdown",
   "id": "f5548c79-1d0d-486f-8810-b515a00faa82",
   "metadata": {},
   "source": [
    "### Evaluation"
   ]
  },
  {
   "cell_type": "code",
   "execution_count": 34,
   "id": "7adeaa71-a339-4272-9846-c5ad112f4be4",
   "metadata": {},
   "outputs": [
    {
     "data": {
      "text/plain": [
       "odict_keys(['binary_logloss', 'auc'])"
      ]
     },
     "execution_count": 34,
     "metadata": {},
     "output_type": "execute_result"
    }
   ],
   "source": [
    "eval_result.get('training').keys()"
   ]
  },
  {
   "cell_type": "code",
   "execution_count": 35,
   "id": "42e826e7-81a7-4050-a103-f8d5cb205e8f",
   "metadata": {},
   "outputs": [
    {
     "data": {
      "image/png": "[encoded data removed]",
      "text/plain": [
       "<Figure size 1440x432 with 2 Axes>"
      ]
     },
     "metadata": {
      "needs_background": "light"
     },
     "output_type": "display_data"
    }
   ],
   "source": [
    "_, ax = plt.subplots(1, 2, figsize=(20, 6))\n",
    "lgb.plot_metric(eval_result, metric='binary_logloss', title='Logloss', ax=ax[0])\n",
    "lgb.plot_metric(eval_result, metric='auc', title='AUC', ax=ax[1]);"
   ]
  },
  {
   "cell_type": "code",
   "execution_count": 38,
   "id": "2e29b07b-c268-4cc9-badf-eeb12d57f63f",
   "metadata": {},
   "outputs": [],
   "source": [
    "y_pred = model.predict(X_test)"
   ]
  },
  {
   "cell_type": "code",
   "execution_count": 39,
   "id": "8d881a09-dec2-47e5-b11d-7aeaab15d9f6",
   "metadata": {},
   "outputs": [
    {
     "data": {
      "text/plain": [
       "array([0.01948672, 0.01838379, 0.03634457, ..., 0.18378945, 0.05702642,\n",
       "       0.19943256])"
      ]
     },
     "execution_count": 39,
     "metadata": {},
     "output_type": "execute_result"
    }
   ],
   "source": [
    "y_pred"
   ]
  },
  {
   "cell_type": "code",
   "execution_count": 42,
   "id": "a9bd630c-3b88-41a1-95c7-6259a38235b2",
   "metadata": {},
   "outputs": [
    {
     "data": {
      "text/plain": [
       "0.8611710772923313"
      ]
     },
     "execution_count": 42,
     "metadata": {},
     "output_type": "execute_result"
    }
   ],
   "source": [
    "roc_auc_score(y_test, y_pred)"
   ]
  },
  {
   "cell_type": "markdown",
   "id": "c766a396-2337-4d81-9efc-029dc328761c",
   "metadata": {},
   "source": [
    "### SKLEARN API"
   ]
  },
  {
   "cell_type": "code",
   "execution_count": 46,
   "id": "685d3879-5e0e-407a-b45c-ccbd36e8cb09",
   "metadata": {},
   "outputs": [
    {
     "name": "stdout",
     "output_type": "stream",
     "text": [
      "[LightGBM] [Warning] min_data_in_leaf is set=1000, min_child_samples=20 will be ignored. Current value: min_data_in_leaf=1000\n",
      "[LightGBM] [Warning] bagging_fraction is set=1, subsample=1.0 will be ignored. Current value: bagging_fraction=1\n",
      "[LightGBM] [Warning] feature_fraction is set=1, colsample_bytree=1.0 will be ignored. Current value: feature_fraction=1\n",
      "[LightGBM] [Warning] boosting is set=gbdt, boosting_type=gbdt will be ignored. Current value: boosting=gbdt\n"
     ]
    },
    {
     "data": {
      "text/plain": [
       "LGBMClassifier(bagging_fraction=1, boosting='gbdt', feature_fraction=1,\n",
       "               learning_rate=0.001, max_depth=5,\n",
       "               metric=['binary_logloss', 'auc'], min_data_in_leaf=1000,\n",
       "               n_estimators=2000, n_jobs=8, num_leaves=10, objective='binary')"
      ]
     },
     "execution_count": 46,
     "metadata": {},
     "output_type": "execute_result"
    }
   ],
   "source": [
    "params = {\n",
    "    'objective': 'binary',\n",
    "    'boosting': 'gbdt',\n",
    "    'metric': ['binary_logloss', 'auc'],\n",
    "    'learning_rate': 0.001,\n",
    "    'max_depth': 5,\n",
    "    'num_leaves': 10,\n",
    "    'min_data_in_leaf': 1000,\n",
    "    'bagging_fraction': 1,\n",
    "    'feature_fraction': 1,\n",
    "    'n_jobs': 8,\n",
    "    'n_estimators': 2000,\n",
    "}\n",
    "\n",
    "model = lgb.LGBMClassifier(**params)\n",
    "model.fit(X_train, y_train, eval_set=[(X_train, y_train), (X_valid, y_valid)], verbose=0)"
   ]
  },
  {
   "cell_type": "code",
   "execution_count": 49,
   "id": "587ed47b-7a4a-4c56-816b-76c125d75870",
   "metadata": {},
   "outputs": [
    {
     "data": {
      "image/png": "[encoded data removed]",
      "text/plain": [
       "<Figure size 1440x432 with 2 Axes>"
      ]
     },
     "metadata": {
      "needs_background": "light"
     },
     "output_type": "display_data"
    }
   ],
   "source": [
    "_, ax = plt.subplots(1, 2, figsize=(20, 6))\n",
    "lgb.plot_metric(model.evals_result_, metric='binary_logloss', title='Logloss', ax=ax[0])\n",
    "lgb.plot_metric(model.evals_result_, metric='auc', title='AUC', ax=ax[1]);"
   ]
  },
  {
   "cell_type": "code",
   "execution_count": 52,
   "id": "a527110f-ff03-42d0-a806-4365b0c267fa",
   "metadata": {},
   "outputs": [],
   "source": [
    "y_pred = model.predict_proba(X_test)[:, 1]"
   ]
  },
  {
   "cell_type": "code",
   "execution_count": 53,
   "id": "ff9547d9-007f-40ce-be66-720cc4aac075",
   "metadata": {},
   "outputs": [
    {
     "data": {
      "text/plain": [
       "0.8611710772923313"
      ]
     },
     "execution_count": 53,
     "metadata": {},
     "output_type": "execute_result"
    }
   ],
   "source": [
    "roc_auc_score(y_test, y_pred)"
   ]
  },
  {
   "cell_type": "markdown",
   "id": "f67146c8-e250-4dee-9a2c-de4b9ed97219",
   "metadata": {},
   "source": [
    "### Calibration"
   ]
  },
  {
   "cell_type": "code",
   "execution_count": 55,
   "id": "b62c70e4-ccd1-4e53-be91-f15450ff05f7",
   "metadata": {},
   "outputs": [],
   "source": [
    "prob_true, prob_pred = calibration_curve(y_test, y_pred, n_bins=10, normalize=True)"
   ]
  },
  {
   "cell_type": "code",
   "execution_count": 57,
   "id": "2d1b2cb7-cf23-48c0-8d0c-557a684c9842",
   "metadata": {},
   "outputs": [
    {
     "data": {
      "image/png": "[encoded data removed]",
      "text/plain": [
       "<Figure size 720x432 with 1 Axes>"
      ]
     },
     "metadata": {
      "needs_background": "light"
     },
     "output_type": "display_data"
    }
   ],
   "source": [
    "plt.figure(figsize=(10, 6))\n",
    "plt.scatter(prob_pred, prob_true)\n",
    "plt.plot(prob_pred, prob_true)\n",
    "plt.plot([0, 1], [0, 1], linestyle='--')\n",
    "plt.xlabel('Predicted Probability')\n",
    "plt.ylabel('True Probability')\n",
    "plt.title('Calibration Curve before Calib')\n",
    "plt.show()"
   ]
  },
  {
   "cell_type": "code",
   "execution_count": 76,
   "id": "8507cd36-516b-4d65-b24c-0604b347de55",
   "metadata": {},
   "outputs": [
    {
     "data": {
      "text/plain": [
       "CalibratedClassifierCV(base_estimator=LGBMClassifier(bagging_fraction=1,\n",
       "                                                     boosting='gbdt',\n",
       "                                                     feature_fraction=1,\n",
       "                                                     learning_rate=0.001,\n",
       "                                                     max_depth=5,\n",
       "                                                     metric=['binary_logloss',\n",
       "                                                             'auc'],\n",
       "                                                     min_data_in_leaf=1000,\n",
       "                                                     n_estimators=2000,\n",
       "                                                     n_jobs=8, num_leaves=10,\n",
       "                                                     objective='binary'),\n",
       "                       cv='prefit', method='isotonic', n_jobs=8)"
      ]
     },
     "execution_count": 76,
     "metadata": {},
     "output_type": "execute_result"
    }
   ],
   "source": [
    "calib_model = CalibratedClassifierCV(model, cv='prefit', n_jobs=8, method='isotonic')\n",
    "calib_model.fit(X_valid, y_valid)"
   ]
  },
  {
   "cell_type": "code",
   "execution_count": 77,
   "id": "e655be7f-e5df-4f26-8335-c57b8893af86",
   "metadata": {},
   "outputs": [],
   "source": [
    "y_pred_calibrated = calib_model.predict_proba(X_test)[:, 1]"
   ]
  },
  {
   "cell_type": "code",
   "execution_count": 78,
   "id": "dbca1f44-9c85-42d0-acd1-b258e5cdc270",
   "metadata": {},
   "outputs": [],
   "source": [
    "prob_true, prob_pred = calibration_curve(y_test, y_pred, n_bins=10, normalize=True)"
   ]
  },
  {
   "cell_type": "code",
   "execution_count": 80,
   "id": "a1c8d464-a4f0-46f8-bea9-c49f68768cc4",
   "metadata": {},
   "outputs": [
    {
     "data": {
      "image/png": "[encoded data removed]",
      "text/plain": [
       "<Figure size 720x432 with 1 Axes>"
      ]
     },
     "metadata": {
      "needs_background": "light"
     },
     "output_type": "display_data"
    }
   ],
   "source": [
    "plt.figure(figsize=(10, 6))\n",
    "plt.scatter(prob_pred, prob_true)\n",
    "plt.plot(prob_pred, prob_true)\n",
    "plt.plot([0, 1], [0, 1], linestyle='--')\n",
    "plt.xlabel('Predicted Probability')\n",
    "plt.ylabel('True Probability')\n",
    "plt.title('Calibration Curve before Calib')\n",
    "plt.show()"
   ]
  },
  {
   "cell_type": "markdown",
   "id": "c1d95a24-207e-4ebd-b3a5-94d1e87d6126",
   "metadata": {},
   "source": [
    "### Conversion Rate"
   ]
  },
  {
   "cell_type": "code",
   "execution_count": 83,
   "id": "665e0c92-813b-49b9-9af2-5e3fcca771b2",
   "metadata": {},
   "outputs": [],
   "source": [
    "df_result = pd.DataFrame({'actual': y_test, 'predicted': y_pred_calibrated})\n",
    "df_result.sort_values(by='predicted', ascending=False, inplace=True)"
   ]
  },
  {
   "cell_type": "code",
   "execution_count": 86,
   "id": "29c7af74-a7b1-44e4-96c5-ecc9f9a04381",
   "metadata": {},
   "outputs": [],
   "source": [
    "top_10 = df_result.head(int(df_result.shape[0] * 0.1))"
   ]
  },
  {
   "cell_type": "code",
   "execution_count": 87,
   "id": "6abe0dff-39a1-43c5-9054-98d262fd9325",
   "metadata": {},
   "outputs": [
    {
     "data": {
      "text/plain": [
       "37.022222222222226"
      ]
     },
     "execution_count": 87,
     "metadata": {},
     "output_type": "execute_result"
    }
   ],
   "source": [
    "top_10.actual.sum() / top_10.shape[0] * 100"
   ]
  },
  {
   "cell_type": "markdown",
   "id": "9e9fdc73-eac3-4908-bf05-4967df95b70a",
   "metadata": {},
   "source": [
    "### Explaination"
   ]
  },
  {
   "cell_type": "code",
   "execution_count": 90,
   "id": "70540d52-0702-4f39-b8de-0952c0030e6f",
   "metadata": {},
   "outputs": [
    {
     "data": {
      "image/png": "[encoded data removed]",
      "text/plain": [
       "<Figure size 720x432 with 1 Axes>"
      ]
     },
     "metadata": {
      "needs_background": "light"
     },
     "output_type": "display_data"
    }
   ],
   "source": [
    "lgb.plot_importance(model, max_num_features=10, height=0.8, figsize=(10, 6));"
   ]
  },
  {
   "cell_type": "code",
   "execution_count": 95,
   "id": "79ec20de-0a7a-4d5b-9bed-db9097362c0b",
   "metadata": {},
   "outputs": [],
   "source": [
    "y_exlain = y_test[y_test.index.isin([20909, 38562, 107330])]\n",
    "X_explain = X_test[X_test.index.isin([20909, 38562, 107330])]"
   ]
  },
  {
   "cell_type": "code",
   "execution_count": 96,
   "id": "ecd8b741-12ce-4666-9ac9-5fe380792cb0",
   "metadata": {},
   "outputs": [
    {
     "name": "stdout",
     "output_type": "stream",
     "text": [
      "Generating self.shap_explainer = shap.TreeExplainer(model, X_background, model_output='probability', feature_perturbation='interventional')...\n",
      "Note: Shap interaction values will not be available. If shap values in probability space are not necessary you can pass model_output='logodds' to get shap values in logodds without the need for a background dataset and also working shap interaction values...\n"
     ]
    }
   ],
   "source": [
    "explainer = ClassifierExplainer(model, X_explain, y_exlain, X_background=X_train, n_jobs=8, target='Probability of Default', \n",
    "                                labels=['Not Default', 'Default'])"
   ]
  },
  {
   "cell_type": "code",
   "execution_count": null,
   "id": "22446b44-d27e-4b1f-ba10-347e371f2931",
   "metadata": {},
   "outputs": [
    {
     "name": "stdout",
     "output_type": "stream",
     "text": [
      "Building ExplainerDashboard..\n",
      "Detected notebook environment, consider setting mode='external', mode='inline' or mode='jupyterlab' to keep the notebook interactive while the dashboard is running...\n",
      "For this type of model and model_output interactions don't work, so setting shap_interaction=False...\n",
      "The explainer object has no decision_trees property. so setting decision_trees=False...\n",
      "Generating layout...\n",
      "Calculating shap values...\n",
      "Calculating dependencies...\n",
      "Calculating permutation importances (if slow, try setting n_jobs parameter)...\n",
      "Calculating pr auc curves...\n",
      "Calculating prediction probabilities...\n",
      "Calculating liftcurve_dfs...\n",
      "Calculating classification_dfs...\n",
      "Calculating confusion matrices...\n",
      "Calculating pred_percentiles...\n",
      "Calculating roc auc curves...\n",
      "Calculating predictions...\n",
      "Calculating metrics...\n",
      "Reminder: you can store the explainer (including calculated dependencies) with explainer.dump('explainer.joblib') and reload with e.g. ClassifierExplainer.from_file('explainer.joblib')\n",
      "Registering callbacks...\n",
      "Starting ExplainerDashboard on http://192.168.1.8:8050\n",
      "Dash is running on http://0.0.0.0:8050/\n",
      "\n",
      " * Serving Flask app 'explainerdashboard.dashboards' (lazy loading)\n",
      " * Environment: production\n",
      "\u001b[31m   WARNING: This is a development server. Do not use it in a production deployment.\u001b[0m\n",
      "\u001b[2m   Use a production WSGI server instead.\u001b[0m\n",
      " * Debug mode: off\n"
     ]
    },
    {
     "name": "stderr",
     "output_type": "stream",
     "text": [
      " * Running on all addresses.\n",
      "   WARNING: This is a development server. Do not use it in a production deployment.\n",
      " * Running on http://192.168.1.8:8050/ (Press CTRL+C to quit)\n",
      "192.168.1.8 - - [11/Jul/2021 16:21:21] \"GET / HTTP/1.1\" 200 -\n",
      "192.168.1.8 - - [11/Jul/2021 16:21:21] \"GET /_dash-component-suites/dash_renderer/prop-types@15.v1_9_1m1621491706.7.2.min.js HTTP/1.1\" 200 -\n",
      "192.168.1.8 - - [11/Jul/2021 16:21:21] \"GET /_dash-component-suites/dash_renderer/polyfill@7.v1_9_1m1621491706.8.7.min.js HTTP/1.1\" 200 -\n",
      "192.168.1.8 - - [11/Jul/2021 16:21:21] \"GET /_dash-component-suites/dash_renderer/react-dom@16.v1_9_1m1621491706.14.0.min.js HTTP/1.1\" 200 -\n",
      "192.168.1.8 - - [11/Jul/2021 16:21:21] \"GET /assets/bootstrap.min.css?m=1621491710.294395 HTTP/1.1\" 200 -\n",
      "192.168.1.8 - - [11/Jul/2021 16:21:21] \"GET /_dash-component-suites/dash_renderer/react@16.v1_9_1m1621491706.14.0.min.js HTTP/1.1\" 200 -\n",
      "192.168.1.8 - - [11/Jul/2021 16:21:21] \"GET /_dash-component-suites/dash_bootstrap_components/_components/dash_bootstrap_components.v0_12_2m1621491710.min.js HTTP/1.1\" 200 -\n",
      "192.168.1.8 - - [11/Jul/2021 16:21:21] \"GET /_dash-component-suites/dash_table/bundle.v4_11_3m1621491706.js HTTP/1.1\" 200 -\n",
      "192.168.1.8 - - [11/Jul/2021 16:21:21] \"GET /_dash-component-suites/dash_html_components/dash_html_components.v1_1_3m1621491706.min.js HTTP/1.1\" 200 -\n",
      "192.168.1.8 - - [11/Jul/2021 16:21:21] \"GET /_dash-component-suites/dash_core_components/dash_core_components-shared.v1_16_0m1621491706.js HTTP/1.1\" 200 -\n",
      "192.168.1.8 - - [11/Jul/2021 16:21:21] \"GET /_dash-component-suites/dash_renderer/dash_renderer.v1_9_1m1621491706.min.js HTTP/1.1\" 200 -\n",
      "192.168.1.8 - - [11/Jul/2021 16:21:21] \"GET /_dash-component-suites/dash_core_components/dash_core_components.v1_16_0m1621491706.min.js HTTP/1.1\" 200 -\n",
      "192.168.1.8 - - [11/Jul/2021 16:21:21] \"GET /_dash-dependencies HTTP/1.1\" 200 -\n",
      "192.168.1.8 - - [11/Jul/2021 16:21:21] \"GET /_dash-layout HTTP/1.1\" 200 -\n",
      "192.168.1.8 - - [11/Jul/2021 16:21:21] \"GET /assets/favicon.ico?m=1621491710.294853 HTTP/1.1\" 200 -\n",
      "192.168.1.8 - - [11/Jul/2021 16:21:21] \"GET /_dash-component-suites/dash_core_components/async-dropdown.v1_16_0m1617903285.js HTTP/1.1\" 200 -\n",
      "192.168.1.8 - - [11/Jul/2021 16:21:21] \"GET /_dash-component-suites/dash_core_components/async-graph.v1_16_0m1617903285.js HTTP/1.1\" 200 -\n",
      "192.168.1.8 - - [11/Jul/2021 16:21:22] \"GET /_dash-component-suites/dash_core_components/async-plotlyjs.v1_16_0m1617903285.js HTTP/1.1\" 200 -\n",
      "192.168.1.8 - - [11/Jul/2021 16:21:22] \"POST /_dash-update-component HTTP/1.1\" 200 -\n",
      "192.168.1.8 - - [11/Jul/2021 16:21:22] \"POST /_dash-update-component HTTP/1.1\" 200 -\n",
      "192.168.1.8 - - [11/Jul/2021 16:21:22] \"POST /_dash-update-component HTTP/1.1\" 200 -\n",
      "192.168.1.8 - - [11/Jul/2021 16:21:22] \"POST /_dash-update-component HTTP/1.1\" 200 -\n",
      "192.168.1.8 - - [11/Jul/2021 16:21:22] \"POST /_dash-update-component HTTP/1.1\" 200 -\n",
      "192.168.1.8 - - [11/Jul/2021 16:21:22] \"POST /_dash-update-component HTTP/1.1\" 200 -\n",
      "192.168.1.8 - - [11/Jul/2021 16:21:22] \"POST /_dash-update-component HTTP/1.1\" 200 -\n",
      "192.168.1.8 - - [11/Jul/2021 16:21:22] \"POST /_dash-update-component HTTP/1.1\" 200 -\n",
      "192.168.1.8 - - [11/Jul/2021 16:21:22] \"POST /_dash-update-component HTTP/1.1\" 200 -\n",
      "192.168.1.8 - - [11/Jul/2021 16:21:22] \"POST /_dash-update-component HTTP/1.1\" 200 -\n",
      "192.168.1.8 - - [11/Jul/2021 16:21:22] \"POST /_dash-update-component HTTP/1.1\" 200 -\n",
      "192.168.1.8 - - [11/Jul/2021 16:21:22] \"POST /_dash-update-component HTTP/1.1\" 200 -\n",
      "192.168.1.8 - - [11/Jul/2021 16:21:22] \"POST /_dash-update-component HTTP/1.1\" 200 -\n",
      "192.168.1.8 - - [11/Jul/2021 16:21:22] \"POST /_dash-update-component HTTP/1.1\" 200 -\n",
      "192.168.1.8 - - [11/Jul/2021 16:21:22] \"POST /_dash-update-component HTTP/1.1\" 200 -\n",
      "192.168.1.8 - - [11/Jul/2021 16:21:22] \"POST /_dash-update-component HTTP/1.1\" 200 -\n",
      "192.168.1.8 - - [11/Jul/2021 16:21:22] \"POST /_dash-update-component HTTP/1.1\" 200 -\n",
      "192.168.1.8 - - [11/Jul/2021 16:21:22] \"POST /_dash-update-component HTTP/1.1\" 200 -\n",
      "192.168.1.8 - - [11/Jul/2021 16:21:22] \"POST /_dash-update-component HTTP/1.1\" 200 -\n",
      "192.168.1.8 - - [11/Jul/2021 16:21:22] \"POST /_dash-update-component HTTP/1.1\" 200 -\n",
      "192.168.1.8 - - [11/Jul/2021 16:21:22] \"POST /_dash-update-component HTTP/1.1\" 200 -\n",
      "192.168.1.8 - - [11/Jul/2021 16:21:22] \"\u001b[35m\u001b[1mPOST /_dash-update-component HTTP/1.1\u001b[0m\" 204 -\n",
      "192.168.1.8 - - [11/Jul/2021 16:21:22] \"POST /_dash-update-component HTTP/1.1\" 200 -\n",
      "192.168.1.8 - - [11/Jul/2021 16:21:22] \"POST /_dash-update-component HTTP/1.1\" 200 -\n",
      "192.168.1.8 - - [11/Jul/2021 16:21:22] \"POST /_dash-update-component HTTP/1.1\" 200 -\n",
      "192.168.1.8 - - [11/Jul/2021 16:21:22] \"POST /_dash-update-component HTTP/1.1\" 200 -\n",
      "192.168.1.8 - - [11/Jul/2021 16:21:22] \"POST /_dash-update-component HTTP/1.1\" 200 -\n",
      "192.168.1.8 - - [11/Jul/2021 16:21:22] \"POST /_dash-update-component HTTP/1.1\" 200 -\n",
      "192.168.1.8 - - [11/Jul/2021 16:21:22] \"POST /_dash-update-component HTTP/1.1\" 200 -\n",
      "192.168.1.8 - - [11/Jul/2021 16:21:22] \"\u001b[35m\u001b[1mPOST /_dash-update-component HTTP/1.1\u001b[0m\" 204 -\n",
      "192.168.1.8 - - [11/Jul/2021 16:21:22] \"POST /_dash-update-component HTTP/1.1\" 200 -\n",
      "192.168.1.8 - - [11/Jul/2021 16:21:22] \"POST /_dash-update-component HTTP/1.1\" 200 -\n",
      "192.168.1.8 - - [11/Jul/2021 16:21:22] \"POST /_dash-update-component HTTP/1.1\" 200 -\n",
      "192.168.1.8 - - [11/Jul/2021 16:21:22] \"POST /_dash-update-component HTTP/1.1\" 200 -\n",
      "192.168.1.8 - - [11/Jul/2021 16:21:22] \"POST /_dash-update-component HTTP/1.1\" 200 -\n",
      "192.168.1.8 - - [11/Jul/2021 16:21:22] \"POST /_dash-update-component HTTP/1.1\" 200 -\n",
      "192.168.1.8 - - [11/Jul/2021 16:21:22] \"POST /_dash-update-component HTTP/1.1\" 200 -\n",
      "192.168.1.8 - - [11/Jul/2021 16:21:23] \"\u001b[35m\u001b[1mPOST /_dash-update-component HTTP/1.1\u001b[0m\" 204 -\n",
      "192.168.1.8 - - [11/Jul/2021 16:21:23] \"POST /_dash-update-component HTTP/1.1\" 200 -\n",
      "192.168.1.8 - - [11/Jul/2021 16:21:23] \"POST /_dash-update-component HTTP/1.1\" 200 -\n",
      "192.168.1.8 - - [11/Jul/2021 16:21:23] \"POST /_dash-update-component HTTP/1.1\" 200 -\n",
      "192.168.1.8 - - [11/Jul/2021 16:21:23] \"POST /_dash-update-component HTTP/1.1\" 200 -\n",
      "192.168.1.8 - - [11/Jul/2021 16:21:23] \"POST /_dash-update-component HTTP/1.1\" 200 -\n",
      "192.168.1.8 - - [11/Jul/2021 16:21:23] \"POST /_dash-update-component HTTP/1.1\" 200 -\n",
      "192.168.1.8 - - [11/Jul/2021 16:21:23] \"POST /_dash-update-component HTTP/1.1\" 200 -\n",
      "192.168.1.8 - - [11/Jul/2021 16:21:23] \"POST /_dash-update-component HTTP/1.1\" 200 -\n",
      "192.168.1.8 - - [11/Jul/2021 16:21:23] \"POST /_dash-update-component HTTP/1.1\" 200 -\n",
      "192.168.1.8 - - [11/Jul/2021 16:21:23] \"POST /_dash-update-component HTTP/1.1\" 200 -\n",
      "192.168.1.8 - - [11/Jul/2021 16:21:23] \"POST /_dash-update-component HTTP/1.1\" 200 -\n",
      "/Users/anaconda3/envs/nmtruong/lib/python3.7/site-packages/explainerdashboard/explainer_plots.py:369: RuntimeWarning:\n",
      "\n",
      "invalid value encountered in double_scalars\n",
      "\n",
      "192.168.1.8 - - [11/Jul/2021 16:21:24] \"POST /_dash-update-component HTTP/1.1\" 200 -\n",
      "192.168.1.8 - - [11/Jul/2021 16:21:24] \"POST /_dash-update-component HTTP/1.1\" 200 -\n",
      "192.168.1.8 - - [11/Jul/2021 16:21:24] \"POST /_dash-update-component HTTP/1.1\" 200 -\n",
      "192.168.1.8 - - [11/Jul/2021 16:21:24] \"POST /_dash-update-component HTTP/1.1\" 200 -\n",
      "192.168.1.8 - - [11/Jul/2021 16:21:24] \"POST /_dash-update-component HTTP/1.1\" 200 -\n",
      "192.168.1.8 - - [11/Jul/2021 16:21:24] \"POST /_dash-update-component HTTP/1.1\" 200 -\n",
      "192.168.1.8 - - [11/Jul/2021 16:21:24] \"POST /_dash-update-component HTTP/1.1\" 200 -\n",
      "192.168.1.8 - - [11/Jul/2021 16:21:24] \"POST /_dash-update-component HTTP/1.1\" 200 -\n",
      "192.168.1.8 - - [11/Jul/2021 16:21:24] \"POST /_dash-update-component HTTP/1.1\" 200 -\n",
      "192.168.1.8 - - [11/Jul/2021 16:21:24] \"POST /_dash-update-component HTTP/1.1\" 200 -\n",
      "192.168.1.8 - - [11/Jul/2021 16:21:24] \"POST /_dash-update-component HTTP/1.1\" 200 -\n",
      "192.168.1.8 - - [11/Jul/2021 16:21:24] \"POST /_dash-update-component HTTP/1.1\" 200 -\n",
      "192.168.1.8 - - [11/Jul/2021 16:21:24] \"POST /_dash-update-component HTTP/1.1\" 200 -\n",
      "192.168.1.8 - - [11/Jul/2021 16:21:24] \"POST /_dash-update-component HTTP/1.1\" 200 -\n",
      "192.168.1.8 - - [11/Jul/2021 16:21:24] \"POST /_dash-update-component HTTP/1.1\" 200 -\n",
      "192.168.1.8 - - [11/Jul/2021 16:21:29] \"POST /_dash-update-component HTTP/1.1\" 200 -\n",
      "192.168.1.8 - - [11/Jul/2021 16:21:29] \"\u001b[35m\u001b[1mPOST /_dash-update-component HTTP/1.1\u001b[0m\" 204 -\n",
      "192.168.1.8 - - [11/Jul/2021 16:21:29] \"POST /_dash-update-component HTTP/1.1\" 200 -\n",
      "192.168.1.8 - - [11/Jul/2021 16:21:29] \"POST /_dash-update-component HTTP/1.1\" 200 -\n",
      "192.168.1.8 - - [11/Jul/2021 16:21:29] \"POST /_dash-update-component HTTP/1.1\" 200 -\n",
      "/Users/anaconda3/envs/nmtruong/lib/python3.7/site-packages/explainerdashboard/explainer_plots.py:368: RuntimeWarning:\n",
      "\n",
      "invalid value encountered in double_scalars\n",
      "\n",
      "192.168.1.8 - - [11/Jul/2021 16:21:29] \"POST /_dash-update-component HTTP/1.1\" 200 -\n",
      "192.168.1.8 - - [11/Jul/2021 16:21:29] \"POST /_dash-update-component HTTP/1.1\" 200 -\n",
      "192.168.1.8 - - [11/Jul/2021 16:21:29] \"POST /_dash-update-component HTTP/1.1\" 200 -\n",
      "192.168.1.8 - - [11/Jul/2021 16:21:29] \"POST /_dash-update-component HTTP/1.1\" 200 -\n",
      "192.168.1.8 - - [11/Jul/2021 16:21:29] \"POST /_dash-update-component HTTP/1.1\" 200 -\n",
      "192.168.1.8 - - [11/Jul/2021 16:21:29] \"POST /_dash-update-component HTTP/1.1\" 200 -\n",
      "192.168.1.8 - - [11/Jul/2021 16:21:29] \"POST /_dash-update-component HTTP/1.1\" 200 -\n",
      "192.168.1.8 - - [11/Jul/2021 16:21:29] \"POST /_dash-update-component HTTP/1.1\" 200 -\n",
      "192.168.1.8 - - [11/Jul/2021 16:21:29] \"POST /_dash-update-component HTTP/1.1\" 200 -\n",
      "192.168.1.8 - - [11/Jul/2021 16:21:29] \"POST /_dash-update-component HTTP/1.1\" 200 -\n",
      "192.168.1.8 - - [11/Jul/2021 16:21:30] \"POST /_dash-update-component HTTP/1.1\" 200 -\n",
      "192.168.1.8 - - [11/Jul/2021 16:21:30] \"POST /_dash-update-component HTTP/1.1\" 200 -\n",
      "192.168.1.8 - - [11/Jul/2021 16:21:30] \"POST /_dash-update-component HTTP/1.1\" 200 -\n",
      "192.168.1.8 - - [11/Jul/2021 16:21:30] \"POST /_dash-update-component HTTP/1.1\" 200 -\n",
      "192.168.1.8 - - [11/Jul/2021 16:21:30] \"POST /_dash-update-component HTTP/1.1\" 200 -\n",
      "192.168.1.8 - - [11/Jul/2021 16:21:30] \"POST /_dash-update-component HTTP/1.1\" 200 -\n",
      "192.168.1.8 - - [11/Jul/2021 16:21:30] \"POST /_dash-update-component HTTP/1.1\" 200 -\n",
      "192.168.1.8 - - [11/Jul/2021 16:21:30] \"POST /_dash-update-component HTTP/1.1\" 200 -\n",
      "192.168.1.8 - - [11/Jul/2021 16:21:30] \"POST /_dash-update-component HTTP/1.1\" 200 -\n",
      "192.168.1.8 - - [11/Jul/2021 16:21:34] \"POST /_dash-update-component HTTP/1.1\" 200 -\n",
      "192.168.1.8 - - [11/Jul/2021 16:21:34] \"\u001b[35m\u001b[1mPOST /_dash-update-component HTTP/1.1\u001b[0m\" 204 -\n",
      "192.168.1.8 - - [11/Jul/2021 16:21:34] \"POST /_dash-update-component HTTP/1.1\" 200 -\n",
      "192.168.1.8 - - [11/Jul/2021 16:21:34] \"POST /_dash-update-component HTTP/1.1\" 200 -\n",
      "192.168.1.8 - - [11/Jul/2021 16:21:34] \"POST /_dash-update-component HTTP/1.1\" 200 -\n",
      "/Users/anaconda3/envs/nmtruong/lib/python3.7/site-packages/explainerdashboard/explainer_plots.py:369: RuntimeWarning:\n",
      "\n",
      "invalid value encountered in double_scalars\n",
      "\n",
      "192.168.1.8 - - [11/Jul/2021 16:21:34] \"POST /_dash-update-component HTTP/1.1\" 200 -\n",
      "192.168.1.8 - - [11/Jul/2021 16:21:34] \"POST /_dash-update-component HTTP/1.1\" 200 -\n",
      "192.168.1.8 - - [11/Jul/2021 16:21:34] \"POST /_dash-update-component HTTP/1.1\" 200 -\n",
      "192.168.1.8 - - [11/Jul/2021 16:21:34] \"POST /_dash-update-component HTTP/1.1\" 200 -\n",
      "192.168.1.8 - - [11/Jul/2021 16:21:34] \"POST /_dash-update-component HTTP/1.1\" 200 -\n",
      "192.168.1.8 - - [11/Jul/2021 16:21:34] \"POST /_dash-update-component HTTP/1.1\" 200 -\n",
      "192.168.1.8 - - [11/Jul/2021 16:21:34] \"POST /_dash-update-component HTTP/1.1\" 200 -\n",
      "192.168.1.8 - - [11/Jul/2021 16:21:34] \"POST /_dash-update-component HTTP/1.1\" 200 -\n",
      "192.168.1.8 - - [11/Jul/2021 16:21:35] \"POST /_dash-update-component HTTP/1.1\" 200 -\n",
      "192.168.1.8 - - [11/Jul/2021 16:21:35] \"POST /_dash-update-component HTTP/1.1\" 200 -\n",
      "192.168.1.8 - - [11/Jul/2021 16:21:35] \"POST /_dash-update-component HTTP/1.1\" 200 -\n",
      "192.168.1.8 - - [11/Jul/2021 16:21:35] \"POST /_dash-update-component HTTP/1.1\" 200 -\n",
      "192.168.1.8 - - [11/Jul/2021 16:21:35] \"POST /_dash-update-component HTTP/1.1\" 200 -\n",
      "192.168.1.8 - - [11/Jul/2021 16:21:35] \"POST /_dash-update-component HTTP/1.1\" 200 -\n",
      "192.168.1.8 - - [11/Jul/2021 16:21:35] \"POST /_dash-update-component HTTP/1.1\" 200 -\n",
      "192.168.1.8 - - [11/Jul/2021 16:21:35] \"POST /_dash-update-component HTTP/1.1\" 200 -\n",
      "192.168.1.8 - - [11/Jul/2021 16:21:35] \"POST /_dash-update-component HTTP/1.1\" 200 -\n",
      "192.168.1.8 - - [11/Jul/2021 16:21:35] \"POST /_dash-update-component HTTP/1.1\" 200 -\n",
      "192.168.1.8 - - [11/Jul/2021 16:21:35] \"POST /_dash-update-component HTTP/1.1\" 200 -\n",
      "192.168.1.8 - - [11/Jul/2021 16:21:36] \"POST /_dash-update-component HTTP/1.1\" 200 -\n",
      "192.168.1.8 - - [11/Jul/2021 16:21:36] \"\u001b[35m\u001b[1mPOST /_dash-update-component HTTP/1.1\u001b[0m\" 204 -\n",
      "192.168.1.8 - - [11/Jul/2021 16:21:36] \"POST /_dash-update-component HTTP/1.1\" 200 -\n",
      "192.168.1.8 - - [11/Jul/2021 16:21:36] \"POST /_dash-update-component HTTP/1.1\" 200 -\n",
      "192.168.1.8 - - [11/Jul/2021 16:21:36] \"POST /_dash-update-component HTTP/1.1\" 200 -\n",
      "/Users/anaconda3/envs/nmtruong/lib/python3.7/site-packages/explainerdashboard/explainer_plots.py:368: RuntimeWarning:\n",
      "\n",
      "invalid value encountered in double_scalars\n",
      "\n",
      "192.168.1.8 - - [11/Jul/2021 16:21:36] \"POST /_dash-update-component HTTP/1.1\" 200 -\n",
      "192.168.1.8 - - [11/Jul/2021 16:21:36] \"POST /_dash-update-component HTTP/1.1\" 200 -\n",
      "192.168.1.8 - - [11/Jul/2021 16:21:36] \"POST /_dash-update-component HTTP/1.1\" 200 -\n",
      "192.168.1.8 - - [11/Jul/2021 16:21:36] \"POST /_dash-update-component HTTP/1.1\" 200 -\n",
      "192.168.1.8 - - [11/Jul/2021 16:21:36] \"POST /_dash-update-component HTTP/1.1\" 200 -\n",
      "192.168.1.8 - - [11/Jul/2021 16:21:37] \"POST /_dash-update-component HTTP/1.1\" 200 -\n",
      "192.168.1.8 - - [11/Jul/2021 16:21:37] \"POST /_dash-update-component HTTP/1.1\" 200 -\n",
      "192.168.1.8 - - [11/Jul/2021 16:21:37] \"POST /_dash-update-component HTTP/1.1\" 200 -\n",
      "192.168.1.8 - - [11/Jul/2021 16:21:37] \"POST /_dash-update-component HTTP/1.1\" 200 -\n",
      "192.168.1.8 - - [11/Jul/2021 16:21:37] \"POST /_dash-update-component HTTP/1.1\" 200 -\n",
      "192.168.1.8 - - [11/Jul/2021 16:21:37] \"POST /_dash-update-component HTTP/1.1\" 200 -\n",
      "192.168.1.8 - - [11/Jul/2021 16:21:37] \"POST /_dash-update-component HTTP/1.1\" 200 -\n",
      "192.168.1.8 - - [11/Jul/2021 16:21:37] \"POST /_dash-update-component HTTP/1.1\" 200 -\n",
      "192.168.1.8 - - [11/Jul/2021 16:21:37] \"POST /_dash-update-component HTTP/1.1\" 200 -\n",
      "192.168.1.8 - - [11/Jul/2021 16:21:37] \"POST /_dash-update-component HTTP/1.1\" 200 -\n",
      "192.168.1.8 - - [11/Jul/2021 16:21:37] \"POST /_dash-update-component HTTP/1.1\" 200 -\n",
      "192.168.1.8 - - [11/Jul/2021 16:21:37] \"POST /_dash-update-component HTTP/1.1\" 200 -\n",
      "192.168.1.8 - - [11/Jul/2021 16:21:37] \"POST /_dash-update-component HTTP/1.1\" 200 -\n",
      "192.168.1.8 - - [11/Jul/2021 16:21:37] \"POST /_dash-update-component HTTP/1.1\" 200 -\n",
      "192.168.1.8 - - [11/Jul/2021 16:21:39] \"POST /_dash-update-component HTTP/1.1\" 200 -\n",
      "192.168.1.8 - - [11/Jul/2021 16:21:39] \"\u001b[35m\u001b[1mPOST /_dash-update-component HTTP/1.1\u001b[0m\" 204 -\n",
      "192.168.1.8 - - [11/Jul/2021 16:21:39] \"POST /_dash-update-component HTTP/1.1\" 200 -\n",
      "/Users/anaconda3/envs/nmtruong/lib/python3.7/site-packages/explainerdashboard/explainer_plots.py:369: RuntimeWarning:\n",
      "\n",
      "invalid value encountered in double_scalars\n",
      "\n",
      "192.168.1.8 - - [11/Jul/2021 16:21:39] \"POST /_dash-update-component HTTP/1.1\" 200 -\n",
      "192.168.1.8 - - [11/Jul/2021 16:21:39] \"POST /_dash-update-component HTTP/1.1\" 200 -\n",
      "192.168.1.8 - - [11/Jul/2021 16:21:39] \"POST /_dash-update-component HTTP/1.1\" 200 -\n",
      "192.168.1.8 - - [11/Jul/2021 16:21:39] \"POST /_dash-update-component HTTP/1.1\" 200 -\n",
      "192.168.1.8 - - [11/Jul/2021 16:21:39] \"POST /_dash-update-component HTTP/1.1\" 200 -\n",
      "192.168.1.8 - - [11/Jul/2021 16:21:39] \"POST /_dash-update-component HTTP/1.1\" 200 -\n",
      "192.168.1.8 - - [11/Jul/2021 16:21:39] \"POST /_dash-update-component HTTP/1.1\" 200 -\n",
      "192.168.1.8 - - [11/Jul/2021 16:21:39] \"POST /_dash-update-component HTTP/1.1\" 200 -\n",
      "192.168.1.8 - - [11/Jul/2021 16:21:40] \"POST /_dash-update-component HTTP/1.1\" 200 -\n",
      "192.168.1.8 - - [11/Jul/2021 16:21:40] \"POST /_dash-update-component HTTP/1.1\" 200 -\n",
      "192.168.1.8 - - [11/Jul/2021 16:21:40] \"POST /_dash-update-component HTTP/1.1\" 200 -\n",
      "192.168.1.8 - - [11/Jul/2021 16:21:40] \"POST /_dash-update-component HTTP/1.1\" 200 -\n",
      "192.168.1.8 - - [11/Jul/2021 16:21:40] \"POST /_dash-update-component HTTP/1.1\" 200 -\n",
      "192.168.1.8 - - [11/Jul/2021 16:21:40] \"POST /_dash-update-component HTTP/1.1\" 200 -\n",
      "192.168.1.8 - - [11/Jul/2021 16:21:40] \"POST /_dash-update-component HTTP/1.1\" 200 -\n",
      "192.168.1.8 - - [11/Jul/2021 16:21:40] \"POST /_dash-update-component HTTP/1.1\" 200 -\n",
      "192.168.1.8 - - [11/Jul/2021 16:21:40] \"POST /_dash-update-component HTTP/1.1\" 200 -\n",
      "192.168.1.8 - - [11/Jul/2021 16:21:40] \"POST /_dash-update-component HTTP/1.1\" 200 -\n",
      "192.168.1.8 - - [11/Jul/2021 16:21:40] \"POST /_dash-update-component HTTP/1.1\" 200 -\n",
      "192.168.1.8 - - [11/Jul/2021 16:21:40] \"POST /_dash-update-component HTTP/1.1\" 200 -\n",
      "192.168.1.8 - - [11/Jul/2021 16:21:40] \"POST /_dash-update-component HTTP/1.1\" 200 -\n",
      "192.168.1.8 - - [11/Jul/2021 16:22:20] \"GET /_dash-component-suites/dash_core_components/async-slider.v1_16_0m1617903285.js HTTP/1.1\" 200 -\n",
      "192.168.1.8 - - [11/Jul/2021 16:23:38] \"\u001b[35m\u001b[1mPOST /_dash-update-component HTTP/1.1\u001b[0m\" 204 -\n",
      "192.168.1.8 - - [11/Jul/2021 16:24:07] \"POST /_dash-update-component HTTP/1.1\" 200 -\n",
      "192.168.1.8 - - [11/Jul/2021 16:24:07] \"POST /_dash-update-component HTTP/1.1\" 200 -\n",
      "192.168.1.8 - - [11/Jul/2021 16:24:07] \"POST /_dash-update-component HTTP/1.1\" 200 -\n",
      "192.168.1.8 - - [11/Jul/2021 16:24:07] \"POST /_dash-update-component HTTP/1.1\" 200 -\n",
      "192.168.1.8 - - [11/Jul/2021 16:24:07] \"POST /_dash-update-component HTTP/1.1\" 200 -\n",
      "192.168.1.8 - - [11/Jul/2021 16:24:09] \"POST /_dash-update-component HTTP/1.1\" 200 -\n",
      "192.168.1.8 - - [11/Jul/2021 16:24:09] \"POST /_dash-update-component HTTP/1.1\" 200 -\n",
      "192.168.1.8 - - [11/Jul/2021 16:24:09] \"POST /_dash-update-component HTTP/1.1\" 200 -\n",
      "192.168.1.8 - - [11/Jul/2021 16:24:09] \"POST /_dash-update-component HTTP/1.1\" 200 -\n",
      "192.168.1.8 - - [11/Jul/2021 16:24:10] \"POST /_dash-update-component HTTP/1.1\" 200 -\n",
      "192.168.1.8 - - [11/Jul/2021 16:24:13] \"POST /_dash-update-component HTTP/1.1\" 200 -\n",
      "192.168.1.8 - - [11/Jul/2021 16:24:13] \"\u001b[35m\u001b[1mPOST /_dash-update-component HTTP/1.1\u001b[0m\" 204 -\n",
      "192.168.1.8 - - [11/Jul/2021 16:24:13] \"POST /_dash-update-component HTTP/1.1\" 200 -\n",
      "192.168.1.8 - - [11/Jul/2021 16:24:13] \"POST /_dash-update-component HTTP/1.1\" 200 -\n",
      "192.168.1.8 - - [11/Jul/2021 16:24:13] \"POST /_dash-update-component HTTP/1.1\" 200 -\n",
      "/Users/anaconda3/envs/nmtruong/lib/python3.7/site-packages/explainerdashboard/explainer_plots.py:368: RuntimeWarning:\n",
      "\n",
      "invalid value encountered in double_scalars\n",
      "\n",
      "192.168.1.8 - - [11/Jul/2021 16:24:14] \"POST /_dash-update-component HTTP/1.1\" 200 -\n",
      "192.168.1.8 - - [11/Jul/2021 16:24:14] \"POST /_dash-update-component HTTP/1.1\" 200 -\n",
      "192.168.1.8 - - [11/Jul/2021 16:24:14] \"POST /_dash-update-component HTTP/1.1\" 200 -\n",
      "192.168.1.8 - - [11/Jul/2021 16:24:14] \"POST /_dash-update-component HTTP/1.1\" 200 -\n",
      "192.168.1.8 - - [11/Jul/2021 16:24:14] \"POST /_dash-update-component HTTP/1.1\" 200 -\n",
      "192.168.1.8 - - [11/Jul/2021 16:24:14] \"POST /_dash-update-component HTTP/1.1\" 200 -\n",
      "192.168.1.8 - - [11/Jul/2021 16:24:14] \"POST /_dash-update-component HTTP/1.1\" 200 -\n",
      "192.168.1.8 - - [11/Jul/2021 16:24:14] \"POST /_dash-update-component HTTP/1.1\" 200 -\n",
      "192.168.1.8 - - [11/Jul/2021 16:24:14] \"POST /_dash-update-component HTTP/1.1\" 200 -\n",
      "192.168.1.8 - - [11/Jul/2021 16:24:14] \"POST /_dash-update-component HTTP/1.1\" 200 -\n",
      "192.168.1.8 - - [11/Jul/2021 16:24:14] \"POST /_dash-update-component HTTP/1.1\" 200 -\n",
      "192.168.1.8 - - [11/Jul/2021 16:24:14] \"POST /_dash-update-component HTTP/1.1\" 200 -\n",
      "192.168.1.8 - - [11/Jul/2021 16:24:14] \"POST /_dash-update-component HTTP/1.1\" 200 -\n",
      "192.168.1.8 - - [11/Jul/2021 16:24:14] \"POST /_dash-update-component HTTP/1.1\" 200 -\n",
      "192.168.1.8 - - [11/Jul/2021 16:24:14] \"POST /_dash-update-component HTTP/1.1\" 200 -\n",
      "192.168.1.8 - - [11/Jul/2021 16:24:14] \"POST /_dash-update-component HTTP/1.1\" 200 -\n",
      "192.168.1.8 - - [11/Jul/2021 16:24:14] \"POST /_dash-update-component HTTP/1.1\" 200 -\n",
      "192.168.1.8 - - [11/Jul/2021 16:24:14] \"POST /_dash-update-component HTTP/1.1\" 200 -\n",
      "192.168.1.8 - - [11/Jul/2021 16:24:14] \"POST /_dash-update-component HTTP/1.1\" 200 -\n",
      "192.168.1.8 - - [11/Jul/2021 16:25:05] \"POST /_dash-update-component HTTP/1.1\" 200 -\n",
      "192.168.1.8 - - [11/Jul/2021 16:25:49] \"POST /_dash-update-component HTTP/1.1\" 200 -\n",
      "192.168.1.8 - - [11/Jul/2021 16:25:49] \"POST /_dash-update-component HTTP/1.1\" 200 -\n",
      "192.168.1.8 - - [11/Jul/2021 16:25:52] \"POST /_dash-update-component HTTP/1.1\" 200 -\n",
      "192.168.1.8 - - [11/Jul/2021 16:25:52] \"POST /_dash-update-component HTTP/1.1\" 200 -\n"
     ]
    }
   ],
   "source": [
    "ExplainerDashboard(explainer).run()"
   ]
  },
  {
   "cell_type": "code",
   "execution_count": null,
   "id": "494a64d6-8445-4e90-ab05-167e15ee10c6",
   "metadata": {},
   "outputs": [],
   "source": []
  }
 ],
 "metadata": {
  "kernelspec": {
   "display_name": "Python 3",
   "language": "python",
   "name": "python3"
  },
  "language_info": {
   "codemirror_mode": {
    "name": "ipython",
    "version": 3
   },
   "file_extension": ".py",
   "mimetype": "text/x-python",
   "name": "python",
   "nbconvert_exporter": "python",
   "pygments_lexer": "ipython3",
   "version": "3.7.10"
  }
 },
 "nbformat": 4,
 "nbformat_minor": 5
}
