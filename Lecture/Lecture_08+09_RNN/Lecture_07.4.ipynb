{
 "cells": [
  {
   "cell_type": "code",
   "execution_count": 1,
   "metadata": {},
   "outputs": [
    {
     "name": "stderr",
     "output_type": "stream",
     "text": [
      "/Users/nguyen_truong/.conda/envs/genetic-optimization/lib/python3.6/site-packages/tensorflow/python/framework/dtypes.py:516: FutureWarning: Passing (type, 1) or '1type' as a synonym of type is deprecated; in a future version of numpy, it will be understood as (type, (1,)) / '(1,)type'.\n",
      "  _np_qint8 = np.dtype([(\"qint8\", np.int8, 1)])\n",
      "/Users/nguyen_truong/.conda/envs/genetic-optimization/lib/python3.6/site-packages/tensorflow/python/framework/dtypes.py:517: FutureWarning: Passing (type, 1) or '1type' as a synonym of type is deprecated; in a future version of numpy, it will be understood as (type, (1,)) / '(1,)type'.\n",
      "  _np_quint8 = np.dtype([(\"quint8\", np.uint8, 1)])\n",
      "/Users/nguyen_truong/.conda/envs/genetic-optimization/lib/python3.6/site-packages/tensorflow/python/framework/dtypes.py:518: FutureWarning: Passing (type, 1) or '1type' as a synonym of type is deprecated; in a future version of numpy, it will be understood as (type, (1,)) / '(1,)type'.\n",
      "  _np_qint16 = np.dtype([(\"qint16\", np.int16, 1)])\n",
      "/Users/nguyen_truong/.conda/envs/genetic-optimization/lib/python3.6/site-packages/tensorflow/python/framework/dtypes.py:519: FutureWarning: Passing (type, 1) or '1type' as a synonym of type is deprecated; in a future version of numpy, it will be understood as (type, (1,)) / '(1,)type'.\n",
      "  _np_quint16 = np.dtype([(\"quint16\", np.uint16, 1)])\n",
      "/Users/nguyen_truong/.conda/envs/genetic-optimization/lib/python3.6/site-packages/tensorflow/python/framework/dtypes.py:520: FutureWarning: Passing (type, 1) or '1type' as a synonym of type is deprecated; in a future version of numpy, it will be understood as (type, (1,)) / '(1,)type'.\n",
      "  _np_qint32 = np.dtype([(\"qint32\", np.int32, 1)])\n",
      "/Users/nguyen_truong/.conda/envs/genetic-optimization/lib/python3.6/site-packages/tensorflow/python/framework/dtypes.py:525: FutureWarning: Passing (type, 1) or '1type' as a synonym of type is deprecated; in a future version of numpy, it will be understood as (type, (1,)) / '(1,)type'.\n",
      "  np_resource = np.dtype([(\"resource\", np.ubyte, 1)])\n",
      "/Users/nguyen_truong/.conda/envs/genetic-optimization/lib/python3.6/site-packages/tensorboard/compat/tensorflow_stub/dtypes.py:541: FutureWarning: Passing (type, 1) or '1type' as a synonym of type is deprecated; in a future version of numpy, it will be understood as (type, (1,)) / '(1,)type'.\n",
      "  _np_qint8 = np.dtype([(\"qint8\", np.int8, 1)])\n",
      "/Users/nguyen_truong/.conda/envs/genetic-optimization/lib/python3.6/site-packages/tensorboard/compat/tensorflow_stub/dtypes.py:542: FutureWarning: Passing (type, 1) or '1type' as a synonym of type is deprecated; in a future version of numpy, it will be understood as (type, (1,)) / '(1,)type'.\n",
      "  _np_quint8 = np.dtype([(\"quint8\", np.uint8, 1)])\n",
      "/Users/nguyen_truong/.conda/envs/genetic-optimization/lib/python3.6/site-packages/tensorboard/compat/tensorflow_stub/dtypes.py:543: FutureWarning: Passing (type, 1) or '1type' as a synonym of type is deprecated; in a future version of numpy, it will be understood as (type, (1,)) / '(1,)type'.\n",
      "  _np_qint16 = np.dtype([(\"qint16\", np.int16, 1)])\n",
      "/Users/nguyen_truong/.conda/envs/genetic-optimization/lib/python3.6/site-packages/tensorboard/compat/tensorflow_stub/dtypes.py:544: FutureWarning: Passing (type, 1) or '1type' as a synonym of type is deprecated; in a future version of numpy, it will be understood as (type, (1,)) / '(1,)type'.\n",
      "  _np_quint16 = np.dtype([(\"quint16\", np.uint16, 1)])\n",
      "/Users/nguyen_truong/.conda/envs/genetic-optimization/lib/python3.6/site-packages/tensorboard/compat/tensorflow_stub/dtypes.py:545: FutureWarning: Passing (type, 1) or '1type' as a synonym of type is deprecated; in a future version of numpy, it will be understood as (type, (1,)) / '(1,)type'.\n",
      "  _np_qint32 = np.dtype([(\"qint32\", np.int32, 1)])\n",
      "/Users/nguyen_truong/.conda/envs/genetic-optimization/lib/python3.6/site-packages/tensorboard/compat/tensorflow_stub/dtypes.py:550: FutureWarning: Passing (type, 1) or '1type' as a synonym of type is deprecated; in a future version of numpy, it will be understood as (type, (1,)) / '(1,)type'.\n",
      "  np_resource = np.dtype([(\"resource\", np.ubyte, 1)])\n"
     ]
    }
   ],
   "source": [
    "import tensorflow as tf\n",
    "from tensorflow.keras.layers import Input, Dense\n",
    "from tensorflow.keras.models import Sequential\n",
    "from sklearn.datasets import load_iris, load_digits\n",
    "import pandas as pd\n",
    "import numpy as np\n",
    "import matplotlib.pyplot as plt"
   ]
  },
  {
   "cell_type": "code",
   "execution_count": 2,
   "metadata": {},
   "outputs": [],
   "source": [
    "data = load_digits()"
   ]
  },
  {
   "cell_type": "code",
   "execution_count": 3,
   "metadata": {},
   "outputs": [],
   "source": [
    "X_train, y_train = data['data'], data['target']"
   ]
  },
  {
   "cell_type": "code",
   "execution_count": 4,
   "metadata": {},
   "outputs": [
    {
     "data": {
      "image/png": "[encoded data removed]",
      "text/plain": [
       "<Figure size 432x288 with 1 Axes>"
      ]
     },
     "metadata": {
      "needs_background": "light"
     },
     "output_type": "display_data"
    }
   ],
   "source": [
    "plt.imshow(X_train[0].reshape(-1, 8));"
   ]
  },
  {
   "cell_type": "code",
   "execution_count": 5,
   "metadata": {},
   "outputs": [],
   "source": [
    "y_train = pd.get_dummies(y_train)"
   ]
  },
  {
   "cell_type": "code",
   "execution_count": 7,
   "metadata": {},
   "outputs": [
    {
     "name": "stdout",
     "output_type": "stream",
     "text": [
      "WARNING:tensorflow:From /Users/nguyen_truong/.conda/envs/genetic-optimization/lib/python3.6/site-packages/tensorflow/python/ops/init_ops.py:1251: calling VarianceScaling.__init__ (from tensorflow.python.ops.init_ops) with dtype is deprecated and will be removed in a future version.\n",
      "Instructions for updating:\n",
      "Call initializer instance with the dtype argument instead of passing it to the constructor\n",
      "Model: \"sequential\"\n",
      "_________________________________________________________________\n",
      "Layer (type)                 Output Shape              Param #   \n",
      "=================================================================\n",
      "dense (Dense)                (None, 32)                2080      \n",
      "_________________________________________________________________\n",
      "dense_1 (Dense)              (None, 10)                330       \n",
      "=================================================================\n",
      "Total params: 2,410\n",
      "Trainable params: 2,410\n",
      "Non-trainable params: 0\n",
      "_________________________________________________________________\n",
      "Train on 1437 samples, validate on 360 samples\n",
      "Epoch 1/30\n",
      "1437/1437 [==============================] - 0s 104us/sample - loss: 4.1667 - acc: 0.2018 - val_loss: 2.3561 - val_acc: 0.3528\n",
      "Epoch 2/30\n",
      "1437/1437 [==============================] - 0s 37us/sample - loss: 1.2646 - acc: 0.5978 - val_loss: 1.2057 - val_acc: 0.6500\n",
      "Epoch 3/30\n",
      "1437/1437 [==============================] - 0s 37us/sample - loss: 0.6417 - acc: 0.8003 - val_loss: 0.8517 - val_acc: 0.7667\n",
      "Epoch 4/30\n",
      "1437/1437 [==============================] - 0s 37us/sample - loss: 0.4252 - acc: 0.8622 - val_loss: 0.6989 - val_acc: 0.8083\n",
      "Epoch 5/30\n",
      "1437/1437 [==============================] - 0s 33us/sample - loss: 0.3104 - acc: 0.9005 - val_loss: 0.6414 - val_acc: 0.8139\n",
      "Epoch 6/30\n",
      "1437/1437 [==============================] - 0s 35us/sample - loss: 0.2370 - acc: 0.9207 - val_loss: 0.5584 - val_acc: 0.8528\n",
      "Epoch 7/30\n",
      "1437/1437 [==============================] - 0s 33us/sample - loss: 0.1915 - acc: 0.9415 - val_loss: 0.5032 - val_acc: 0.8556\n",
      "Epoch 8/30\n",
      "1437/1437 [==============================] - 0s 33us/sample - loss: 0.1533 - acc: 0.9624 - val_loss: 0.4711 - val_acc: 0.8389\n",
      "Epoch 9/30\n",
      "1437/1437 [==============================] - 0s 36us/sample - loss: 0.1305 - acc: 0.9652 - val_loss: 0.4474 - val_acc: 0.8639\n",
      "Epoch 10/30\n",
      "1437/1437 [==============================] - 0s 35us/sample - loss: 0.1107 - acc: 0.9729 - val_loss: 0.4213 - val_acc: 0.8722\n",
      "Epoch 11/30\n",
      "1437/1437 [==============================] - 0s 38us/sample - loss: 0.0960 - acc: 0.9770 - val_loss: 0.3958 - val_acc: 0.8861\n",
      "Epoch 12/30\n",
      "1437/1437 [==============================] - 0s 40us/sample - loss: 0.0864 - acc: 0.9819 - val_loss: 0.3908 - val_acc: 0.8972\n",
      "Epoch 13/30\n",
      "1437/1437 [==============================] - 0s 47us/sample - loss: 0.0751 - acc: 0.9833 - val_loss: 0.3690 - val_acc: 0.9028\n",
      "Epoch 14/30\n",
      "1437/1437 [==============================] - 0s 43us/sample - loss: 0.0662 - acc: 0.9868 - val_loss: 0.3732 - val_acc: 0.9056\n",
      "Epoch 15/30\n",
      "1437/1437 [==============================] - 0s 43us/sample - loss: 0.0603 - acc: 0.9882 - val_loss: 0.3581 - val_acc: 0.9139\n",
      "Epoch 16/30\n",
      "1437/1437 [==============================] - 0s 42us/sample - loss: 0.0533 - acc: 0.9896 - val_loss: 0.3656 - val_acc: 0.9139\n",
      "Epoch 17/30\n",
      "1437/1437 [==============================] - 0s 41us/sample - loss: 0.0487 - acc: 0.9903 - val_loss: 0.3569 - val_acc: 0.9111\n",
      "Epoch 18/30\n",
      "1437/1437 [==============================] - 0s 49us/sample - loss: 0.0457 - acc: 0.9896 - val_loss: 0.3581 - val_acc: 0.9139\n",
      "Epoch 19/30\n",
      "1437/1437 [==============================] - 0s 48us/sample - loss: 0.0409 - acc: 0.9910 - val_loss: 0.3395 - val_acc: 0.9250\n",
      "Epoch 20/30\n",
      "1437/1437 [==============================] - 0s 37us/sample - loss: 0.0374 - acc: 0.9910 - val_loss: 0.3471 - val_acc: 0.9111\n",
      "Epoch 21/30\n",
      "1437/1437 [==============================] - 0s 47us/sample - loss: 0.0340 - acc: 0.9923 - val_loss: 0.3481 - val_acc: 0.9167\n",
      "Epoch 22/30\n",
      "1437/1437 [==============================] - 0s 35us/sample - loss: 0.0313 - acc: 0.9923 - val_loss: 0.3512 - val_acc: 0.9139\n",
      "Epoch 23/30\n",
      "1437/1437 [==============================] - 0s 40us/sample - loss: 0.0280 - acc: 0.9944 - val_loss: 0.3352 - val_acc: 0.9278\n",
      "Epoch 24/30\n",
      "1437/1437 [==============================] - 0s 58us/sample - loss: 0.0258 - acc: 0.9965 - val_loss: 0.3308 - val_acc: 0.9167\n",
      "Epoch 25/30\n",
      "1437/1437 [==============================] - 0s 42us/sample - loss: 0.0241 - acc: 0.9965 - val_loss: 0.3339 - val_acc: 0.9222\n",
      "Epoch 26/30\n",
      "1437/1437 [==============================] - 0s 42us/sample - loss: 0.0234 - acc: 0.9958 - val_loss: 0.3357 - val_acc: 0.9250\n",
      "Epoch 27/30\n",
      "1437/1437 [==============================] - 0s 39us/sample - loss: 0.0204 - acc: 0.9986 - val_loss: 0.3310 - val_acc: 0.9167\n",
      "Epoch 28/30\n",
      "1437/1437 [==============================] - 0s 42us/sample - loss: 0.0192 - acc: 0.9986 - val_loss: 0.3369 - val_acc: 0.9250\n",
      "Epoch 29/30\n",
      "1437/1437 [==============================] - 0s 48us/sample - loss: 0.0178 - acc: 0.9993 - val_loss: 0.3344 - val_acc: 0.9250\n",
      "Epoch 30/30\n",
      "1437/1437 [==============================] - 0s 45us/sample - loss: 0.0169 - acc: 0.9986 - val_loss: 0.3415 - val_acc: 0.9222\n"
     ]
    }
   ],
   "source": [
    "model = Sequential()\n",
    "model.add(Input(shape=(X_train.shape[1], )))\n",
    "model.add(Dense(units=32, activation='relu'))\n",
    "model.add(Dense(units=10, activation='softmax'))\n",
    "model.compile(optimizer='Adam', loss='categorical_crossentropy', metrics=['accuracy'])\n",
    "model.summary()\n",
    "history = model.fit(X_train, y_train, epochs=30, validation_split=0.2)"
   ]
  },
  {
   "cell_type": "code",
   "execution_count": 96,
   "metadata": {},
   "outputs": [
    {
     "data": {
      "image/png": "[encoded data removed]",
      "text/plain": [
       "<Figure size 432x288 with 1 Axes>"
      ]
     },
     "metadata": {
      "needs_background": "light"
     },
     "output_type": "display_data"
    }
   ],
   "source": [
    "plt.plot(history.history['loss'], label=\"loss\");"
   ]
  },
  {
   "cell_type": "code",
   "execution_count": 97,
   "metadata": {},
   "outputs": [
    {
     "data": {
      "image/png": "[encoded data removed]",
      "text/plain": [
       "<Figure size 432x288 with 1 Axes>"
      ]
     },
     "metadata": {
      "needs_background": "light"
     },
     "output_type": "display_data"
    }
   ],
   "source": [
    "plt.plot(history.history['acc'], label=\"acc\");"
   ]
  },
  {
   "cell_type": "code",
   "execution_count": 88,
   "metadata": {},
   "outputs": [
    {
     "data": {
      "text/plain": [
       "array([6])"
      ]
     },
     "execution_count": 88,
     "metadata": {},
     "output_type": "execute_result"
    }
   ],
   "source": [
    "model.predict_classes(X_train[6:7])"
   ]
  },
  {
   "cell_type": "code",
   "execution_count": 91,
   "metadata": {},
   "outputs": [
    {
     "data": {
      "text/plain": [
       "0    0\n",
       "1    0\n",
       "2    0\n",
       "3    0\n",
       "4    0\n",
       "5    0\n",
       "6    1\n",
       "7    0\n",
       "8    0\n",
       "9    0\n",
       "Name: 6, dtype: uint8"
      ]
     },
     "execution_count": 91,
     "metadata": {},
     "output_type": "execute_result"
    }
   ],
   "source": [
    "y_train.iloc[6]"
   ]
  },
  {
   "cell_type": "code",
   "execution_count": null,
   "metadata": {},
   "outputs": [],
   "source": []
  }
 ],
 "metadata": {
  "kernelspec": {
   "display_name": "Python 3",
   "language": "python",
   "name": "python3"
  },
  "language_info": {
   "codemirror_mode": {
    "name": "ipython",
    "version": 3
   },
   "file_extension": ".py",
   "mimetype": "text/x-python",
   "name": "python",
   "nbconvert_exporter": "python",
   "pygments_lexer": "ipython3",
   "version": "3.6.12"
  }
 },
 "nbformat": 4,
 "nbformat_minor": 4
}
