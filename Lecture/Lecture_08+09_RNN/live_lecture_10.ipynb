{
 "cells": [
  {
   "cell_type": "code",
   "execution_count": 13,
   "id": "spectacular-blake",
   "metadata": {},
   "outputs": [],
   "source": [
    "import numpy as np\n",
    "import pandas as pd\n",
    "import seaborn as sns\n",
    "from tensorflow.keras.datasets.mnist import load_data\n",
    "from tensorflow.keras.models import Sequential, Model\n",
    "from tensorflow.keras.layers import Input, Dense, Flatten, Conv2D\n",
    "import matplotlib.pyplot as plt"
   ]
  },
  {
   "cell_type": "code",
   "execution_count": 2,
   "id": "super-floating",
   "metadata": {},
   "outputs": [],
   "source": [
    "(x_train, y_train), (x_test, y_test) = load_data()"
   ]
  },
  {
   "cell_type": "code",
   "execution_count": 5,
   "id": "composite-worship",
   "metadata": {},
   "outputs": [
    {
     "data": {
      "text/plain": [
       "((60000, 28, 28), (60000,))"
      ]
     },
     "execution_count": 5,
     "metadata": {},
     "output_type": "execute_result"
    }
   ],
   "source": [
    "x_train.shape, y_train.shape"
   ]
  },
  {
   "cell_type": "code",
   "execution_count": null,
   "id": "dedicated-storm",
   "metadata": {},
   "outputs": [],
   "source": [
    "!pip install --upgrade tensorflow"
   ]
  },
  {
   "cell_type": "code",
   "execution_count": 6,
   "id": "criminal-passport",
   "metadata": {},
   "outputs": [
    {
     "data": {
      "text/plain": [
       "((10000, 28, 28), (10000,))"
      ]
     },
     "execution_count": 6,
     "metadata": {},
     "output_type": "execute_result"
    }
   ],
   "source": [
    "x_test.shape, y_test.shape"
   ]
  },
  {
   "cell_type": "code",
   "execution_count": 12,
   "id": "hourly-craft",
   "metadata": {},
   "outputs": [
    {
     "data": {
      "text/plain": [
       "array([0, 1, 2, 3, 4, 5, 6, 7, 8, 9], dtype=uint8)"
      ]
     },
     "execution_count": 12,
     "metadata": {},
     "output_type": "execute_result"
    }
   ],
   "source": [
    "np.unique(y_train)"
   ]
  },
  {
   "cell_type": "code",
   "execution_count": 10,
   "id": "right-external",
   "metadata": {},
   "outputs": [
    {
     "data": {
      "image/png": "[encoded data removed]",
      "text/plain": [
       "<Figure size 432x288 with 1 Axes>"
      ]
     },
     "metadata": {
      "needs_background": "light"
     },
     "output_type": "display_data"
    },
    {
     "data": {
      "image/png": "[encoded data removed]",
      "text/plain": [
       "<Figure size 432x288 with 1 Axes>"
      ]
     },
     "metadata": {
      "needs_background": "light"
     },
     "output_type": "display_data"
    },
    {
     "data": {
      "image/png": "[encoded data removed]",
      "text/plain": [
       "<Figure size 432x288 with 1 Axes>"
      ]
     },
     "metadata": {
      "needs_background": "light"
     },
     "output_type": "display_data"
    },
    {
     "data": {
      "image/png": "[encoded data removed]",
      "text/plain": [
       "<Figure size 432x288 with 1 Axes>"
      ]
     },
     "metadata": {
      "needs_background": "light"
     },
     "output_type": "display_data"
    },
    {
     "data": {
      "image/png": "[encoded data removed]",
      "text/plain": [
       "<Figure size 432x288 with 1 Axes>"
      ]
     },
     "metadata": {
      "needs_background": "light"
     },
     "output_type": "display_data"
    }
   ],
   "source": [
    "for i in range(5):\n",
    "    plt.imshow(x_train[i])\n",
    "    plt.show()"
   ]
  },
  {
   "cell_type": "code",
   "execution_count": 15,
   "id": "armed-operations",
   "metadata": {},
   "outputs": [
    {
     "data": {
      "text/plain": [
       "(60000, 28, 28)"
      ]
     },
     "execution_count": 15,
     "metadata": {},
     "output_type": "execute_result"
    }
   ],
   "source": [
    "x_train.shape"
   ]
  },
  {
   "cell_type": "markdown",
   "id": "backed-recorder",
   "metadata": {},
   "source": [
    "![](https://www.allaboutcircuits.com/uploads/thumbnails/how-to-train-a-basic-perceptron-neural-network_rk_aac_image1.jpg)"
   ]
  },
  {
   "cell_type": "code",
   "execution_count": 3,
   "id": "dangerous-terrain",
   "metadata": {},
   "outputs": [],
   "source": [
    "from tensorflow.keras.losses import SparseCategoricalCrossentropy\n",
    "from tensorflow.keras.utils import plot_model"
   ]
  },
  {
   "cell_type": "code",
   "execution_count": 5,
   "id": "digital-brunswick",
   "metadata": {},
   "outputs": [],
   "source": [
    "loss = SparseCategoricalCrossentropy()"
   ]
  },
  {
   "cell_type": "code",
   "execution_count": 6,
   "id": "figured-admission",
   "metadata": {},
   "outputs": [],
   "source": [
    "x_train = x_train / 255.0\n",
    "x_test = x_test / 255.0"
   ]
  },
  {
   "cell_type": "code",
   "execution_count": 7,
   "id": "approved-passenger",
   "metadata": {},
   "outputs": [
    {
     "name": "stdout",
     "output_type": "stream",
     "text": [
      "Model: \"sequential\"\n",
      "_________________________________________________________________\n",
      "Layer (type)                 Output Shape              Param #   \n",
      "=================================================================\n",
      "flatten (Flatten)            (None, 784)               0         \n",
      "_________________________________________________________________\n",
      "dense (Dense)                (None, 256)               200960    \n",
      "_________________________________________________________________\n",
      "dense_1 (Dense)              (None, 128)               32896     \n",
      "_________________________________________________________________\n",
      "dense_2 (Dense)              (None, 64)                8256      \n",
      "_________________________________________________________________\n",
      "dense_3 (Dense)              (None, 32)                2080      \n",
      "_________________________________________________________________\n",
      "dense_4 (Dense)              (None, 16)                528       \n",
      "_________________________________________________________________\n",
      "dense_5 (Dense)              (None, 10)                170       \n",
      "=================================================================\n",
      "Total params: 244,890\n",
      "Trainable params: 244,890\n",
      "Non-trainable params: 0\n",
      "_________________________________________________________________\n"
     ]
    }
   ],
   "source": [
    "model = Sequential()\n",
    "model.add(Input(shape=(x_train.shape[1:])))\n",
    "model.add(Flatten())\n",
    "model.add(Dense(256, activation='sigmoid', kernel_initializer='normal'))\n",
    "model.add(Dense(128, activation='sigmoid'))\n",
    "model.add(Dense(64, activation='sigmoid'))\n",
    "model.add(Dense(32, activation='sigmoid'))\n",
    "model.add(Dense(16, activation='sigmoid'))\n",
    "model.add(Dense(10, activation='softmax'))\n",
    "model.compile(loss='sparse_categorical_crossentropy', optimizer='adam', \n",
    "              metrics=['accuracy'])\n",
    "model.summary()"
   ]
  },
  {
   "cell_type": "code",
   "execution_count": 8,
   "id": "front-nightmare",
   "metadata": {},
   "outputs": [],
   "source": [
    "from tensorflow.keras.callbacks import EarlyStopping"
   ]
  },
  {
   "cell_type": "code",
   "execution_count": 9,
   "id": "sustainable-lambda",
   "metadata": {},
   "outputs": [],
   "source": [
    "early_stop = EarlyStopping(monitor='val_loss', patience=10, min_delta=0.0001)"
   ]
  },
  {
   "cell_type": "code",
   "execution_count": 10,
   "id": "filled-duration",
   "metadata": {},
   "outputs": [
    {
     "name": "stdout",
     "output_type": "stream",
     "text": [
      "Epoch 1/100\n",
      "750/750 - 2s - loss: 1.4791 - accuracy: 0.5548 - val_loss: 0.7944 - val_accuracy: 0.7563\n",
      "Epoch 2/100\n",
      "750/750 - 2s - loss: 0.5844 - accuracy: 0.8484 - val_loss: 0.3878 - val_accuracy: 0.9275\n",
      "Epoch 3/100\n",
      "750/750 - 2s - loss: 0.3049 - accuracy: 0.9379 - val_loss: 0.2478 - val_accuracy: 0.9461\n",
      "Epoch 4/100\n",
      "750/750 - 2s - loss: 0.1973 - accuracy: 0.9560 - val_loss: 0.1882 - val_accuracy: 0.9551\n",
      "Epoch 5/100\n",
      "750/750 - 2s - loss: 0.1445 - accuracy: 0.9664 - val_loss: 0.1609 - val_accuracy: 0.9607\n",
      "Epoch 6/100\n",
      "750/750 - 2s - loss: 0.1156 - accuracy: 0.9723 - val_loss: 0.1362 - val_accuracy: 0.9660\n",
      "Epoch 7/100\n",
      "750/750 - 2s - loss: 0.0924 - accuracy: 0.9781 - val_loss: 0.1415 - val_accuracy: 0.9647\n",
      "Epoch 8/100\n",
      "750/750 - 2s - loss: 0.0782 - accuracy: 0.9810 - val_loss: 0.1230 - val_accuracy: 0.9691\n",
      "Epoch 9/100\n",
      "750/750 - 2s - loss: 0.0644 - accuracy: 0.9845 - val_loss: 0.1378 - val_accuracy: 0.9671\n",
      "Epoch 10/100\n",
      "750/750 - 2s - loss: 0.0557 - accuracy: 0.9862 - val_loss: 0.1143 - val_accuracy: 0.9712\n",
      "Epoch 11/100\n",
      "750/750 - 2s - loss: 0.0474 - accuracy: 0.9885 - val_loss: 0.1228 - val_accuracy: 0.9701\n",
      "Epoch 12/100\n",
      "750/750 - 2s - loss: 0.0398 - accuracy: 0.9907 - val_loss: 0.1224 - val_accuracy: 0.9704\n",
      "Epoch 13/100\n",
      "750/750 - 2s - loss: 0.0366 - accuracy: 0.9909 - val_loss: 0.1508 - val_accuracy: 0.9653\n",
      "Epoch 14/100\n",
      "750/750 - 2s - loss: 0.0342 - accuracy: 0.9915 - val_loss: 0.1380 - val_accuracy: 0.9692\n",
      "Epoch 15/100\n",
      "750/750 - 2s - loss: 0.0266 - accuracy: 0.9940 - val_loss: 0.1179 - val_accuracy: 0.9729\n",
      "Epoch 16/100\n",
      "750/750 - 2s - loss: 0.0279 - accuracy: 0.9933 - val_loss: 0.1176 - val_accuracy: 0.9732\n",
      "Epoch 17/100\n",
      "750/750 - 2s - loss: 0.0220 - accuracy: 0.9948 - val_loss: 0.1407 - val_accuracy: 0.9680\n",
      "Epoch 18/100\n",
      "750/750 - 2s - loss: 0.0210 - accuracy: 0.9951 - val_loss: 0.1295 - val_accuracy: 0.9730\n",
      "Epoch 19/100\n",
      "750/750 - 2s - loss: 0.0206 - accuracy: 0.9951 - val_loss: 0.1322 - val_accuracy: 0.9714\n",
      "Epoch 20/100\n",
      "750/750 - 2s - loss: 0.0174 - accuracy: 0.9958 - val_loss: 0.1231 - val_accuracy: 0.9737\n"
     ]
    }
   ],
   "source": [
    "history = model.fit(x=x_train, y=y_train, batch_size=64, epochs=100, validation_split=0.2, \n",
    "                    verbose=2, callbacks=[early_stop])"
   ]
  },
  {
   "cell_type": "code",
   "execution_count": 11,
   "id": "attended-small",
   "metadata": {},
   "outputs": [
    {
     "data": {
      "image/png": "[encoded data removed]",
      "text/plain": [
       "<Figure size 1080x432 with 2 Axes>"
      ]
     },
     "metadata": {
      "needs_background": "light"
     },
     "output_type": "display_data"
    }
   ],
   "source": [
    "plt.figure(figsize=(15, 6))\n",
    "plt.subplot(121)\n",
    "plt.plot(history.history['loss'], label='Training loss')\n",
    "plt.plot(history.history['val_loss'], label='Valid loss')\n",
    "plt.legend()\n",
    "\n",
    "plt.subplot(122)\n",
    "plt.plot(history.history['accuracy'], label='Training accuracy')\n",
    "plt.plot(history.history['val_accuracy'], label='Valid accuracy')\n",
    "plt.legend()\n",
    "plt.show()"
   ]
  },
  {
   "cell_type": "code",
   "execution_count": 12,
   "id": "heard-possible",
   "metadata": {},
   "outputs": [
    {
     "name": "stdout",
     "output_type": "stream",
     "text": [
      "313/313 [==============================] - 0s 1ms/step - loss: 0.1238 - accuracy: 0.9733\n",
      "Loss: 0.12377990782260895 - Accuracy: 97.32999801635742\n"
     ]
    }
   ],
   "source": [
    "loss, accuracy = model.evaluate(x_test, y_test)\n",
    "print(f'Loss: {loss} - Accuracy: {accuracy * 100}')"
   ]
  },
  {
   "cell_type": "markdown",
   "id": "light-angle",
   "metadata": {},
   "source": [
    "## Functional "
   ]
  },
  {
   "cell_type": "code",
   "execution_count": null,
   "id": "announced-violin",
   "metadata": {},
   "outputs": [],
   "source": []
  }
 ],
 "metadata": {
  "kernelspec": {
   "display_name": "Python 3",
   "language": "python",
   "name": "python3"
  },
  "language_info": {
   "codemirror_mode": {
    "name": "ipython",
    "version": 3
   },
   "file_extension": ".py",
   "mimetype": "text/x-python",
   "name": "python",
   "nbconvert_exporter": "python",
   "pygments_lexer": "ipython3",
   "version": "3.7.9"
  }
 },
 "nbformat": 4,
 "nbformat_minor": 5
}
